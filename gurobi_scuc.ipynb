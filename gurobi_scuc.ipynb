{
 "cells": [
  {
   "cell_type": "code",
   "execution_count": 34,
   "id": "13b9c5d3",
   "metadata": {},
   "outputs": [],
   "source": [
    "from __future__ import annotations\n",
    "\n",
    "import json\n",
    "import gzip\n",
    "import os\n",
    "import shutil\n",
    "import tempfile\n",
    "from dataclasses import dataclass, field\n",
    "from pathlib import Path\n",
    "from typing import Dict, List, Optional, Sequence, Union\n",
    "\n",
    "import numpy as np\n",
    "import requests\n",
    "from scipy import sparse\n",
    "from tqdm import tqdm\n",
    "\n",
    "import gurobipy as gp\n",
    "from gurobipy import GRB\n",
    "\n",
    "from pathlib import Path\n",
    "from collections import OrderedDict"
   ]
  },
  {
   "cell_type": "markdown",
   "id": "24b640ee",
   "metadata": {},
   "source": [
    "# Read data"
   ]
  },
  {
   "cell_type": "code",
   "execution_count": 35,
   "id": "c87db4f2",
   "metadata": {},
   "outputs": [],
   "source": [
    "# --------------------------------------------------------------------------- #\n",
    "#  High-level public API                                                      #\n",
    "# --------------------------------------------------------------------------- #\n",
    "\n",
    "INSTANCES_URL = \"https://axavier.org/UnitCommitment.jl/0.4/instances\"\n",
    "if \"__file__\" in globals():\n",
    "    _BASEDIR = Path(__file__).resolve().parent\n",
    "else:                                   # interactive session\n",
    "    _BASEDIR = Path.cwd()\n",
    "\n",
    "_CACHE = _BASEDIR / \"instances\"\n",
    "_CACHE.mkdir(exist_ok=True, parents=True)\n",
    "\n",
    "def read_benchmark(name: str, *, quiet: bool = False) -> \"UnitCommitmentInstance\":\n",
    "    \"\"\"\n",
    "    Download (if necessary) a benchmark instance and load it.\n",
    "\n",
    "    Example\n",
    "    -------\n",
    "    >>> inst = read_benchmark(\"matpower/case3375wp/2017-02-01\")\n",
    "    \"\"\"\n",
    "    gz_name = f\"{name}.json.gz\"\n",
    "    local_path = _CACHE / gz_name\n",
    "    url = f\"{INSTANCES_URL}/{gz_name}\"\n",
    "\n",
    "    if not local_path.is_file():\n",
    "        if not quiet:\n",
    "            print(f\"Downloading  {url}\")\n",
    "        _download(url, local_path)\n",
    "\n",
    "    instance = read(str(local_path))\n",
    " \n",
    "    return instance\n",
    "\n",
    "\n",
    "def read(path_or_paths: Union[str, Sequence[str]]) -> \"UnitCommitmentInstance\":\n",
    "    \"\"\"\n",
    "    Generic loader.  Accepts:\n",
    "      • single path (JSON or JSON.GZ) ➜ deterministic instance\n",
    "      • list / tuple of paths           ➜ stochastic instance\n",
    "    \"\"\"\n",
    "    if isinstance(path_or_paths, (list, tuple)):\n",
    "        scenarios = [_read_scenario(p) for p in path_or_paths]\n",
    "        _repair_scenario_names_and_probabilities(scenarios, list(path_or_paths))\n",
    "    else:\n",
    "        scenarios = [_read_scenario(path_or_paths)]\n",
    "        scenarios[0].name = \"s1\"\n",
    "        scenarios[0].probability = 1.0\n",
    "\n",
    "    return UnitCommitmentInstance(\n",
    "        time=scenarios[0].time, scenarios=scenarios\n",
    "    )\n",
    "\n",
    "\n",
    "# --------------------------------------------------------------------------- #\n",
    "#  Internal helpers                                                           #\n",
    "# --------------------------------------------------------------------------- #\n",
    "\n",
    "\n",
    "def _download(url: str, dst: Path, chunk: int = 1 << 20) -> None:\n",
    "    \"\"\"Stream a file to *dst* with a progress bar.\"\"\"\n",
    "    dst.parent.mkdir(parents=True, exist_ok=True)\n",
    "    with requests.get(url, stream=True, timeout=60) as r:\n",
    "        r.raise_for_status()\n",
    "        total = int(r.headers.get(\"content-length\", 0))\n",
    "        with dst.open(\"wb\") as fh, tqdm(\n",
    "            total=total, unit=\"B\", unit_scale=True, disable=total == 0\n",
    "        ) as bar:\n",
    "            for chunk_data in r.iter_content(chunk_size=chunk):\n",
    "                fh.write(chunk_data)\n",
    "                bar.update(len(chunk_data))\n",
    "\n",
    "\n",
    "def _read_json(path: str) -> dict:\n",
    "    \"\"\"Open JSON or JSON.GZ transparently.\"\"\"\n",
    "    if path.endswith(\".gz\"):\n",
    "        with gzip.open(path, \"rt\", encoding=\"utf-8\") as fh:\n",
    "            return json.load(fh)\n",
    "    with open(path, \"r\", encoding=\"utf-8\") as fh:\n",
    "        return json.load(fh)\n",
    "\n",
    "\n",
    "def _read_scenario(path: str) -> UnitCommitmentScenario:\n",
    "    raw = _read_json(path)\n",
    "    _migrate(raw)         \n",
    "    return _from_json(raw)\n",
    "\n",
    "\n",
    "def _repair_scenario_names_and_probabilities(\n",
    "    scenarios: List[\"UnitCommitmentScenario\"], paths: List[str]\n",
    ") -> None:\n",
    "    \"\"\"Normalize names and probabilities so they sum to 1.\"\"\"\n",
    "    total = sum(sc.probability for sc in scenarios)\n",
    "    for sc, p in zip(scenarios, paths):\n",
    "        if not sc.name:\n",
    "            sc.name = Path(p).stem.split(\".\")[0]\n",
    "        sc.probability /= total\n",
    "\n",
    "\n",
    "# --------------------------------------------------------------------------- #\n",
    "#  Datastructures                                                             #\n",
    "# --------------------------------------------------------------------------- #\n",
    "\n",
    "Number = Union[int, float]\n",
    "Series = List[Number]\n",
    "\n",
    "\n",
    "@dataclass\n",
    "class CostSegment:\n",
    "    amount: Series\n",
    "    cost: Series\n",
    "\n",
    "\n",
    "@dataclass\n",
    "class StartupCategory:\n",
    "    delay_steps: int\n",
    "    cost: float\n",
    "\n",
    "\n",
    "@dataclass\n",
    "class Bus:\n",
    "    name: str\n",
    "    index: int\n",
    "    load: Series\n",
    "    thermal_units: List[\"ThermalUnit\"] = field(default_factory=list)\n",
    "    price_sensitive_loads: List[\"PriceSensitiveLoad\"] = field(default_factory=list)\n",
    "    profiled_units: List[\"ProfiledUnit\"] = field(default_factory=list)\n",
    "    storage_units: List[\"StorageUnit\"] = field(default_factory=list)\n",
    "\n",
    "\n",
    "@dataclass\n",
    "class Reserve:\n",
    "    name: str\n",
    "    type: str\n",
    "    amount: Series\n",
    "    thermal_units: List[\"ThermalUnit\"]\n",
    "    shortfall_penalty: float\n",
    "\n",
    "\n",
    "@dataclass\n",
    "class ThermalUnit:\n",
    "    name: str\n",
    "    bus: Bus\n",
    "    max_power: Series\n",
    "    min_power: Series\n",
    "    must_run: Series\n",
    "    min_power_cost: Series\n",
    "    segments: List[CostSegment]\n",
    "    min_up: int\n",
    "    min_down: int\n",
    "    ramp_up: float\n",
    "    ramp_down: float\n",
    "    startup_limit: float\n",
    "    shutdown_limit: float\n",
    "    initial_status: Optional[int]\n",
    "    initial_power: Optional[float]\n",
    "    startup_categories: List[StartupCategory]\n",
    "    reserves: List[Reserve]\n",
    "    commitment_status: List[Optional[bool]]\n",
    "\n",
    "\n",
    "@dataclass\n",
    "class ProfiledUnit:\n",
    "    name: str\n",
    "    bus: Bus\n",
    "    min_power: Series\n",
    "    max_power: Series\n",
    "    cost: Series\n",
    "\n",
    "\n",
    "@dataclass\n",
    "class StorageUnit:\n",
    "    name: str\n",
    "    bus: Bus\n",
    "    min_level: Series\n",
    "    max_level: Series\n",
    "    simultaneous: Series\n",
    "    charge_cost: Series\n",
    "    discharge_cost: Series\n",
    "    charge_eff: Series\n",
    "    discharge_eff: Series\n",
    "    loss_factor: Series\n",
    "    min_charge: Series\n",
    "    max_charge: Series\n",
    "    min_discharge: Series\n",
    "    max_discharge: Series\n",
    "    initial_level: float\n",
    "    last_min: float\n",
    "    last_max: float\n",
    "\n",
    "\n",
    "@dataclass\n",
    "class TransmissionLine:\n",
    "    name: str\n",
    "    index: int\n",
    "    source: Bus\n",
    "    target: Bus\n",
    "    susceptance: float\n",
    "    normal_limit: Series\n",
    "    emergency_limit: Series\n",
    "    flow_penalty: Series\n",
    "\n",
    "\n",
    "@dataclass\n",
    "class Contingency:\n",
    "    name: str\n",
    "    lines: List[TransmissionLine]\n",
    "    units: List[ThermalUnit]\n",
    "\n",
    "\n",
    "@dataclass\n",
    "class PriceSensitiveLoad:\n",
    "    name: str\n",
    "    bus: Bus\n",
    "    demand: Series\n",
    "    revenue: Series\n",
    "\n",
    "\n",
    "@dataclass\n",
    "class UnitCommitmentScenario:\n",
    "    name: str\n",
    "    probability: float\n",
    "    buses_by_name: Dict[str, Bus]\n",
    "    buses: List[Bus]\n",
    "    contingencies_by_name: Dict[str, Contingency]\n",
    "    contingencies: List[Contingency]\n",
    "    lines_by_name: Dict[str, TransmissionLine]\n",
    "    lines: List[TransmissionLine]\n",
    "    power_balance_penalty: Series\n",
    "    price_sensitive_loads_by_name: Dict[str, PriceSensitiveLoad]\n",
    "    price_sensitive_loads: List[PriceSensitiveLoad]\n",
    "    reserves: List[Reserve]\n",
    "    reserves_by_name: Dict[str, Reserve]\n",
    "    time: int\n",
    "    time_step: int\n",
    "    thermal_units_by_name: Dict[str, ThermalUnit]\n",
    "    thermal_units: List[ThermalUnit]\n",
    "    profiled_units_by_name: Dict[str, ProfiledUnit]\n",
    "    profiled_units: List[ProfiledUnit]\n",
    "    storage_units_by_name: Dict[str, StorageUnit]\n",
    "    storage_units: List[StorageUnit]\n",
    "    isf: sparse.spmatrix\n",
    "    lodf: sparse.spmatrix\n",
    "    source: Optional[str] = None  # citation / paper reference\n",
    "\n",
    "\n",
    "@dataclass\n",
    "class UnitCommitmentInstance:\n",
    "    time: int\n",
    "    scenarios: List[UnitCommitmentScenario]\n",
    "\n",
    "    # convenient alias\n",
    "    @property\n",
    "    def deterministic(self) -> UnitCommitmentScenario:\n",
    "        if len(self.scenarios) != 1:\n",
    "            raise ValueError(\"Instance is stochastic; pick a scenario explicitly\")\n",
    "        return self.scenarios[0]\n",
    "\n",
    "\n",
    "# --------------------------------------------------------------------------- #\n",
    "#  JSON ➜ objects                                                             #\n",
    "# --------------------------------------------------------------------------- #\n",
    "\n",
    "\n",
    "def _scalar(val, default=None):\n",
    "    \"\"\"Replicates Julia's scalar(x; default) helper.\"\"\"\n",
    "    return default if val is None else val\n",
    "\n",
    "\n",
    "def _timeseries(val, T: int, *, default=None):\n",
    "    \"\"\"\n",
    "    Julia behaviour:\n",
    "      * if val is missing ➜ default\n",
    "      * if val is array  ➜ keep\n",
    "      * if val is scalar ➜ replicate T times\n",
    "    \"\"\"\n",
    "    if val is None:\n",
    "        return default if default is not None else [None] * T\n",
    "    return val if isinstance(val, list) else [val] * T\n",
    "\n",
    "# ---------------------------------------------------------------------- #\n",
    "# Legacy-format upgrader (mimics UnitCommitment.jl/_migrate)             #\n",
    "# ---------------------------------------------------------------------- #\n",
    "# ---------------------------------------------------------------------- #\n",
    "#  Schema-migration helpers (faithful to UnitCommitment.jl)              #\n",
    "# ---------------------------------------------------------------------- #\n",
    "\n",
    "def _parse_version(v):\n",
    "    \"\"\"Return (major, minor) tuple; treat malformed strings as (0, 0).\"\"\"\n",
    "    try:\n",
    "        return tuple(int(x) for x in str(v).split(\".\")[:2])\n",
    "    except Exception:\n",
    "        return (0, 0)\n",
    "\n",
    "\n",
    "def _migrate(json_: dict) -> None:\n",
    "    \"\"\"\n",
    "    Bring legacy (< 0.4) files up to date:\n",
    "\n",
    "        * v0.2 → v0.3:  restructure reserves & generator flags\n",
    "        * v0.3 → v0.4:  ensure every generator has `\"Type\": \"Thermal\"`\n",
    "    \"\"\"\n",
    "    params = json_.get(\"Parameters\", {})\n",
    "    ver_raw = params.get(\"Version\")\n",
    "    if ver_raw is None:\n",
    "        raise ValueError(\n",
    "            \"Input file has no Parameters['Version'] entry – please add it \"\n",
    "            '(e.g. {\"Parameters\": {\"Version\": \"0.3\"}}).'\n",
    "        )\n",
    "\n",
    "    ver = _parse_version(ver_raw)\n",
    "    if ver < (0, 3):\n",
    "        _migrate_to_v03(json_)\n",
    "    if ver < (0, 4):\n",
    "        _migrate_to_v04(json_)\n",
    "\n",
    "\n",
    "def _migrate_to_v03(json_: dict) -> None:\n",
    "    \"\"\"Match Julia’s _migrate_to_v03: create r1 spinning reserve, map flags.\"\"\"\n",
    "    reserves = json_.get(\"Reserves\")\n",
    "    if reserves and \"Spinning (MW)\" in reserves:\n",
    "        amount = reserves[\"Spinning (MW)\"]\n",
    "        # Replace the old flat field with the new nested structure\n",
    "        json_[\"Reserves\"] = {\n",
    "            \"r1\": {\n",
    "                \"Type\": \"spinning\",\n",
    "                \"Amount (MW)\": amount,\n",
    "            }\n",
    "        }\n",
    "        # Any generator that set the legacy boolean now becomes eligible for r1\n",
    "        for gen in json_.get(\"Generators\", {}).values():\n",
    "            if gen.get(\"Provides spinning reserves?\") is True:\n",
    "                gen[\"Reserve eligibility\"] = [\"r1\"]\n",
    "\n",
    "\n",
    "def _migrate_to_v04(json_: dict) -> None:\n",
    "    \"\"\"Match Julia’s _migrate_to_v04: default missing types to Thermal.\"\"\"\n",
    "    for gen in json_.get(\"Generators\", {}).values():\n",
    "        gen.setdefault(\"Type\", \"Thermal\")\n",
    "\n",
    "\n",
    "\n",
    "def _from_json(j: dict) -> UnitCommitmentScenario:\n",
    "    # -- Time grid ---------------------------------------------------------- #\n",
    "    par = j[\"Parameters\"]\n",
    "    time_horizon = (\n",
    "        par.get(\"Time horizon (min)\")\n",
    "        or par.get(\"Time (h)\")\n",
    "        or par.get(\"Time horizon (h)\")\n",
    "    )\n",
    "    if time_horizon is None:\n",
    "        raise ValueError(\"Missing parameter: Time horizon\")\n",
    "    if \"Time (h)\" in par or \"Time horizon (h)\" in par:\n",
    "        time_horizon *= 60  # convert hours → minutes\n",
    "\n",
    "    time_horizon = int(time_horizon)\n",
    "    time_step = int(_scalar(par.get(\"Time step (min)\"), default=60))\n",
    "    if 60 % time_step or time_horizon % time_step:\n",
    "        raise ValueError(\"Time step must divide 60 and the horizon\")\n",
    "\n",
    "    time_multiplier = 60 // time_step\n",
    "    T = time_horizon // time_step\n",
    "\n",
    "    # ---------------------------------------------------------------------- #\n",
    "    #  Look-up tables                                                        #\n",
    "    # ---------------------------------------------------------------------- #\n",
    "    buses: List[Bus] = []\n",
    "    lines: List[TransmissionLine] = []\n",
    "    thermal_units: List[ThermalUnit] = []\n",
    "    profiled_units: List[ProfiledUnit] = []\n",
    "    storage_units: List[StorageUnit] = []\n",
    "    reserves: List[Reserve] = []\n",
    "    contingencies: List[Contingency] = []\n",
    "    loads: List[PriceSensitiveLoad] = []\n",
    "\n",
    "    name_to_bus, name_to_line, name_to_unit, name_to_reserve = (\n",
    "        {}, {}, {}, {}\n",
    "    )\n",
    "\n",
    "    # ---------------------------------------------------------------------- #\n",
    "    #  Helper to make sure each list has length T                            #\n",
    "    # ---------------------------------------------------------------------- #\n",
    "\n",
    "    def ts(x, *, default=None):\n",
    "        return _timeseries(x, T, default=default)\n",
    "\n",
    "    # ---------------------------------------------------------------------- #\n",
    "    #  Penalties                                                             #\n",
    "    # ---------------------------------------------------------------------- #\n",
    "    power_balance_penalty = ts(\n",
    "        par.get(\"Power balance penalty ($/MW)\"), default=[1000.0] * T\n",
    "    )\n",
    "\n",
    "    # ---------------------------------------------------------------------- #\n",
    "    #  Buses                                                                 #\n",
    "    # ---------------------------------------------------------------------- #\n",
    "    for idx, (bname, bdict) in enumerate(j[\"Buses\"].items(), start=1):\n",
    "        bus = Bus(\n",
    "            name=bname,\n",
    "            index=idx,\n",
    "            load=ts(bdict[\"Load (MW)\"]),\n",
    "        )\n",
    "        name_to_bus[bname] = bus\n",
    "        buses.append(bus)\n",
    "\n",
    "    # ---------------------------------------------------------------------- #\n",
    "    #  Reserves                                                              #\n",
    "    # ---------------------------------------------------------------------- #\n",
    "    if \"Reserves\" in j:\n",
    "        for rname, rdict in j[\"Reserves\"].items():\n",
    "            r = Reserve(\n",
    "                name=rname,\n",
    "                type=rdict[\"Type\"].lower(),\n",
    "                amount=ts(rdict[\"Amount (MW)\"]),\n",
    "                thermal_units=[],\n",
    "                shortfall_penalty=_scalar(\n",
    "                    rdict.get(\"Shortfall penalty ($/MW)\"), default=10\n",
    "                ),\n",
    "            )\n",
    "            name_to_reserve[rname] = r\n",
    "            reserves.append(r)\n",
    "\n",
    "    # ---------------------------------------------------------------------- #\n",
    "    #  Generators                                                            #\n",
    "    # ---------------------------------------------------------------------- #\n",
    "    for uname, udict in j[\"Generators\"].items():\n",
    "        utype = udict.get(\"Type\")\n",
    "        if not utype:\n",
    "            raise ValueError(f\"Generator {uname} missing Type\")\n",
    "        bus = name_to_bus[udict[\"Bus\"]]\n",
    "\n",
    "        if utype.lower() == \"thermal\":\n",
    "            # Production cost curve\n",
    "            curve_mw = udict[\"Production cost curve (MW)\"]\n",
    "            curve_cost = udict[\"Production cost curve ($)\"]\n",
    "            K = len(curve_mw)\n",
    "            curve_mw = np.column_stack([ts(curve_mw[k]) for k in range(K)])\n",
    "            curve_cost = np.column_stack([ts(curve_cost[k]) for k in range(K)])\n",
    "\n",
    "            min_power = curve_mw[:, 0].tolist()\n",
    "            max_power = curve_mw[:, -1].tolist()\n",
    "            min_power_cost = curve_cost[:, 0].tolist()\n",
    "\n",
    "            segments = []\n",
    "            for k in range(1, K):\n",
    "                amount = (curve_mw[:, k] - curve_mw[:, k - 1]).tolist()\n",
    "                cost = (\n",
    "                    (curve_cost[:, k] - curve_cost[:, k - 1])\n",
    "                    / (np.maximum(amount, 1e-9))\n",
    "                ).tolist()\n",
    "                segments.append(CostSegment(amount, cost))\n",
    "\n",
    "            # Startup categories\n",
    "            delays = _scalar(udict.get(\"Startup delays (h)\"), default=[1])\n",
    "            scost = _scalar(udict.get(\"Startup costs ($)\"), default=[0.0])\n",
    "            startup_categories = [\n",
    "                StartupCategory(int(delays[k] * time_multiplier), scost[k])\n",
    "                for k in range(len(delays))\n",
    "            ]\n",
    "\n",
    "            # Reserve eligibility\n",
    "            unit_reserves = [\n",
    "                name_to_reserve[n] for n in udict.get(\"Reserve eligibility\", [])\n",
    "            ]\n",
    "            # Initial conditions\n",
    "            init_p = udict.get(\"Initial power (MW)\")\n",
    "            init_s = udict.get(\"Initial status (h)\")\n",
    "            if init_p is None:\n",
    "                init_s = None\n",
    "            elif init_s is None:\n",
    "                raise ValueError(f\"{uname} has power but no status\")\n",
    "            else:\n",
    "                init_s = int(init_s * time_multiplier)\n",
    "\n",
    "            commitment_status = _scalar(\n",
    "                udict.get(\"Commitment status\"), default=[None] * T\n",
    "            )\n",
    "\n",
    "            tu = ThermalUnit(\n",
    "                name=uname,\n",
    "                bus=bus,\n",
    "                max_power=max_power,\n",
    "                min_power=min_power,\n",
    "                must_run=ts(udict.get(\"Must run?\"), default=[False] * T),\n",
    "                min_power_cost=min_power_cost,\n",
    "                segments=segments,\n",
    "                min_up=int(_scalar(udict.get(\"Minimum uptime (h)\"), 1) * time_multiplier),\n",
    "                min_down=int(\n",
    "                    _scalar(udict.get(\"Minimum downtime (h)\"), 1) * time_multiplier\n",
    "                ),\n",
    "                ramp_up=_scalar(udict.get(\"Ramp up limit (MW)\"), 1e6),\n",
    "                ramp_down=_scalar(udict.get(\"Ramp down limit (MW)\"), 1e6),\n",
    "                startup_limit=_scalar(udict.get(\"Startup limit (MW)\"), 1e6),\n",
    "                shutdown_limit=_scalar(udict.get(\"Shutdown limit (MW)\"), 1e6),\n",
    "                initial_status=init_s,\n",
    "                initial_power=init_p,\n",
    "                startup_categories=startup_categories,\n",
    "                reserves=unit_reserves,\n",
    "                commitment_status=commitment_status,\n",
    "            )\n",
    "            bus.thermal_units.append(tu)\n",
    "            thermal_units.append(tu)\n",
    "            name_to_unit[uname] = tu\n",
    "            for r in unit_reserves:\n",
    "                r.thermal_units.append(tu)\n",
    "\n",
    "        elif utype.lower() == \"profiled\":\n",
    "            pu = ProfiledUnit(\n",
    "                name=uname,\n",
    "                bus=bus,\n",
    "                min_power=ts(_scalar(udict.get(\"Minimum power (MW)\"), 0.0)),\n",
    "                max_power=ts(udict[\"Maximum power (MW)\"]),\n",
    "                cost=ts(udict[\"Cost ($/MW)\"]),\n",
    "            )\n",
    "            bus.profiled_units.append(pu)\n",
    "            profiled_units.append(pu)\n",
    "        else:\n",
    "            raise ValueError(f\"Unit {uname} has invalid type '{utype}'\")\n",
    "\n",
    "    # ---------------------------------------------------------------------- #\n",
    "    #  Lines                                                                 #\n",
    "    # ---------------------------------------------------------------------- #\n",
    "    if \"Transmission lines\" in j:\n",
    "        for idx, (lname, ldict) in enumerate(j[\"Transmission lines\"].items(), start=1):\n",
    "            line = TransmissionLine(\n",
    "                name=lname,\n",
    "                index=idx,\n",
    "                source=name_to_bus[ldict[\"Source bus\"]],\n",
    "                target=name_to_bus[ldict[\"Target bus\"]],\n",
    "                susceptance=float(ldict[\"Susceptance (S)\"]),\n",
    "                normal_limit=ts(ldict.get(\"Normal flow limit (MW)\"), default=[1e8] * T),\n",
    "                emergency_limit=ts(\n",
    "                    ldict.get(\"Emergency flow limit (MW)\"), default=[1e8] * T\n",
    "                ),\n",
    "                flow_penalty=ts(\n",
    "                    ldict.get(\"Flow limit penalty ($/MW)\"), default=[5000.0] * T\n",
    "                ),\n",
    "            )\n",
    "            lines.append(line)\n",
    "            name_to_line[lname] = line\n",
    "\n",
    "    # ---------------------------------------------------------------------- #\n",
    "    #  Contingencies                                                         #\n",
    "    # ---------------------------------------------------------------------- #\n",
    "    if \"Contingencies\" in j:\n",
    "        for cname, cdict in j[\"Contingencies\"].items():\n",
    "            affected_lines = [name_to_line[l] for l in cdict.get(\"Affected lines\", [])]\n",
    "            affected_units = [name_to_unit[u] for u in cdict.get(\"Affected units\", [])]\n",
    "            contingencies.append(\n",
    "                Contingency(name=cname, lines=affected_lines, units=affected_units)\n",
    "            )\n",
    "\n",
    "    # ---------------------------------------------------------------------- #\n",
    "    #  Price-sensitive loads                                                 #\n",
    "    # ---------------------------------------------------------------------- #\n",
    "    if \"Price-sensitive loads\" in j:\n",
    "        for lname, ldict in j[\"Price-sensitive loads\"].items():\n",
    "            load = PriceSensitiveLoad(\n",
    "                name=lname,\n",
    "                bus=name_to_bus[ldict[\"Bus\"]],\n",
    "                demand=ts(ldict[\"Demand (MW)\"]),\n",
    "                revenue=ts(ldict[\"Revenue ($/MW)\"]),\n",
    "            )\n",
    "            loads.append(load)\n",
    "            load.bus.price_sensitive_loads.append(load)\n",
    "\n",
    "    # ---------------------------------------------------------------------- #\n",
    "    #  Storage units                                                         #\n",
    "    # ---------------------------------------------------------------------- #\n",
    "    if \"Storage units\" in j:\n",
    "        for sname, sdict in j[\"Storage units\"].items():\n",
    "            bus = name_to_bus[sdict[\"Bus\"]]\n",
    "            min_level = ts(_scalar(sdict.get(\"Minimum level (MWh)\"), 0.0))\n",
    "            max_level = ts(sdict[\"Maximum level (MWh)\"])\n",
    "            su = StorageUnit(\n",
    "                name=sname,\n",
    "                bus=bus,\n",
    "                min_level=min_level,\n",
    "                max_level=max_level,\n",
    "                simultaneous=ts(\n",
    "                    _scalar(\n",
    "                        sdict.get(\"Allow simultaneous charging and discharging\"), True\n",
    "                    )\n",
    "                ),\n",
    "                charge_cost=ts(sdict[\"Charge cost ($/MW)\"]),\n",
    "                discharge_cost=ts(sdict[\"Discharge cost ($/MW)\"]),\n",
    "                charge_eff=ts(_scalar(sdict.get(\"Charge efficiency\"), 1.0)),\n",
    "                discharge_eff=ts(_scalar(sdict.get(\"Discharge efficiency\"), 1.0)),\n",
    "                loss_factor=ts(_scalar(sdict.get(\"Loss factor\"), 0.0)),\n",
    "                min_charge=ts(_scalar(sdict.get(\"Minimum charge rate (MW)\"), 0.0)),\n",
    "                max_charge=ts(sdict[\"Maximum charge rate (MW)\"]),\n",
    "                min_discharge=ts(\n",
    "                    _scalar(sdict.get(\"Minimum discharge rate (MW)\"), 0.0)\n",
    "                ),\n",
    "                max_discharge=ts(sdict[\"Maximum discharge rate (MW)\"]),\n",
    "                initial_level=_scalar(sdict.get(\"Initial level (MWh)\"), 0.0),\n",
    "                last_min=_scalar(\n",
    "                    sdict.get(\"Last period minimum level (MWh)\"), min_level[-1]\n",
    "                ),\n",
    "                last_max=_scalar(\n",
    "                    sdict.get(\"Last period maximum level (MWh)\"), max_level[-1]\n",
    "                ),\n",
    "            )\n",
    "            storage_units.append(su)\n",
    "            bus.storage_units.append(su)\n",
    "\n",
    "    # ---------------------------------------------------------------------- #\n",
    "    #  Sparse matrices (zeros – replication of spzeros(Float64, …) )         #\n",
    "    # ---------------------------------------------------------------------- #\n",
    "    isf = sparse.csr_matrix((len(lines), len(buses) - 1), dtype=float)\n",
    "    lodf = sparse.csr_matrix((len(lines), len(lines)), dtype=float)\n",
    "\n",
    "    scenario = UnitCommitmentScenario(\n",
    "        name=_scalar(par.get(\"Scenario name\"), \"\"),\n",
    "        probability=float(_scalar(par.get(\"Scenario weight\"), 1)),\n",
    "        buses_by_name={b.name: b for b in buses},\n",
    "        buses=buses,\n",
    "        contingencies_by_name={c.name: c for c in contingencies},\n",
    "        contingencies=contingencies,\n",
    "        lines_by_name={l.name: l for l in lines},\n",
    "        lines=lines,\n",
    "        power_balance_penalty=power_balance_penalty,\n",
    "        price_sensitive_loads_by_name={pl.name: pl for pl in loads},\n",
    "        price_sensitive_loads=loads,\n",
    "        reserves=reserves,\n",
    "        reserves_by_name=name_to_reserve,\n",
    "        time=T,\n",
    "        time_step=time_step,\n",
    "        thermal_units_by_name={tu.name: tu for tu in thermal_units},\n",
    "        thermal_units=thermal_units,\n",
    "        profiled_units_by_name={pu.name: pu for pu in profiled_units},\n",
    "        profiled_units=profiled_units,\n",
    "        storage_units_by_name={su.name: su for su in storage_units},\n",
    "        storage_units=storage_units,\n",
    "        isf=isf,\n",
    "        lodf=lodf,\n",
    "        source=j[\"Parameters\"].get(\"SOURCE\"),\n",
    "    )\n",
    "\n",
    "    _repair(scenario)  # replicate Julia's repair! in a minimal way\n",
    "    return scenario\n",
    "\n",
    "\n",
    "# --------------------------------------------------------------------------- #\n",
    "#  Basic \"repair!\"                                                           #\n",
    "# --------------------------------------------------------------------------- #\n",
    "\n",
    "\n",
    "def _repair(scenario: UnitCommitmentScenario) -> None:\n",
    "    \"\"\"\n",
    "    Julia's repair! performs several tasks:\n",
    "      • fills commitment_status for must-run units\n",
    "      • clamps initial conditions\n",
    "      • builds ISF/LODF if missing\n",
    "    Here we implement minimal sanity checks.\n",
    "    \"\"\"\n",
    "    for tu in scenario.thermal_units:\n",
    "        # ensure commitment_status consistent with must_run\n",
    "        for t, mr in enumerate(tu.must_run):\n",
    "            if mr is True:\n",
    "                tu.commitment_status[t] = True\n",
    "\n"
   ]
  },
  {
   "cell_type": "code",
   "execution_count": 36,
   "id": "5011d58e",
   "metadata": {},
   "outputs": [
    {
     "name": "stdout",
     "output_type": "stream",
     "text": [
      "→ Loading sample instance 'matpower/case57/2017-01-01' …\n",
      "Loaded scenario 's1' with 7 thermal units, 80 lines, horizon 36 steps of 60 minutes.\n"
     ]
    }
   ],
   "source": [
    "# --------------------------------------------------------------------------- #\n",
    "#  Quick self-test                                                            #\n",
    "# --------------------------------------------------------------------------- #\n",
    "\n",
    "if __name__ == \"__main__\":\n",
    "    SAMPLE = \"matpower/case57/2017-01-01\"\n",
    "    print(f\"→ Loading sample instance '{SAMPLE}' …\")\n",
    "    inst = read_benchmark(SAMPLE, quiet=False)\n",
    "    sc = inst.deterministic\n",
    "    print(\n",
    "        f\"Loaded scenario '{sc.name}' with \"\n",
    "        f\"{len(sc.thermal_units)} thermal units, \"\n",
    "        f\"{len(sc.lines)} lines, horizon {sc.time} steps of \"\n",
    "        f\"{sc.time_step} minutes.\"\n",
    "    )"
   ]
  },
  {
   "cell_type": "markdown",
   "id": "8b6c7135",
   "metadata": {},
   "source": [
    "# Gurobi SCUC"
   ]
  },
  {
   "cell_type": "code",
   "execution_count": null,
   "id": "0c5c7a60",
   "metadata": {},
   "outputs": [],
   "source": []
  },
  {
   "cell_type": "code",
   "execution_count": 37,
   "id": "ef4fead5",
   "metadata": {},
   "outputs": [],
   "source": [
    "\n",
    "def _nested():\n",
    "    return gp.tupledict({})\n",
    "\n",
    "class _VarKeeper(dict):\n",
    "    \"\"\"dict that auto-creates a nested tupledict on first access.\"\"\"\n",
    "    def __missing__(self, key):\n",
    "        val = _nested()\n",
    "        super().__setitem__(key, val)\n",
    "        return val\n",
    "\n",
    "def build_model(\n",
    "    instance: UnitCommitmentInstance,\n",
    "    *,\n",
    "    name: str = \"SCUC-Python\",\n",
    "    mip_gap: float | None = 0.001,\n",
    "    threads: int | None = None,\n",
    "    verbose: bool = True,\n",
    ") -> gp.Model:\n",
    "    \"\"\"\n",
    "    Translate *instance* into a Gurobi MIP closely matching UnitCommitment.jl.\n",
    "\n",
    "    Arguments\n",
    "    ---------\n",
    "    mip_gap   – Relative MIP gap (None ⇒ leave Gurobi default)\n",
    "    threads   – Thread count (None ⇒ leave default)\n",
    "    verbose   – If False, suppress all Gurobi output\n",
    "    \"\"\"\n",
    "    T = instance.time\n",
    "    m = gp.Model(name)\n",
    "    m._instance = instance\n",
    "    if not verbose:\n",
    "        m.setParam(\"OutputFlag\", 0)\n",
    "    if mip_gap is not None:\n",
    "        m.setParam(\"MIPGap\", mip_gap)\n",
    "    if threads is not None:\n",
    "        m.setParam(\"Threads\", threads)\n",
    "\n",
    "    # Storage for variables / exprs, keyed exactly like the Julia code\n",
    "    v = {  # primary decision containers (tupledicts created lazily)\n",
    "        n: _VarKeeper()\n",
    "        for n in (\n",
    "            \"is_on\",\n",
    "            \"switch_on\",\n",
    "            \"switch_off\",\n",
    "            \"prod_above\",\n",
    "            \"startup\",\n",
    "            \"reserve\",\n",
    "            \"reserve_shortfall\",\n",
    "            \"upflexiramp\",\n",
    "            \"dwflexiramp\",\n",
    "            \"upflexiramp_shortfall\",\n",
    "            \"dwflexiramp_shortfall\",\n",
    "            \"expr_net_injection\",\n",
    "            \"net_injection\",\n",
    "            \"curtail\",\n",
    "            \"overflow\",\n",
    "            \"cont_overflow\", \n",
    "            \"prod_profiled\",\n",
    "            \"storage_level\",\n",
    "            \"charge_rate\",\n",
    "            \"discharge_rate\",\n",
    "            \"is_charging\",\n",
    "            \"is_discharging\",\n",
    "            \"bal_pos\",\n",
    "            \"bal_neg\",\n",
    "            \"overflow\",\n",
    "            \"flow\", \n",
    "            \"prod_profiled\",\n",
    "        )\n",
    "    }\n",
    "    m._vars = v\n",
    "    con = {}  # constraints if you want to examine them later\n",
    "    obj = gp.LinExpr()\n",
    "\n",
    "    # Helper lambdas to shorten code\n",
    "    add = obj.add\n",
    "    TD = gp.tupledict\n",
    "    rng = range\n",
    "\n",
    "    # Binary commitment, startup/shutdown\n",
    "    for g in instance.scenarios[0].thermal_units:  # all scenarios share units\n",
    "        # Commitment status\n",
    "        for t in rng(1, T + 1):\n",
    "            k = (g.name, t)\n",
    "            v[\"is_on\"][k] = m.addVar(vtype=GRB.BINARY, name=f\"is_on[{g.name},{t}]\")\n",
    "            v[\"switch_on\"][k] = m.addVar(vtype=GRB.BINARY, name=f\"su[{g.name},{t}]\")\n",
    "            v[\"switch_off\"][k] = m.addVar(vtype=GRB.BINARY, name=f\"sd[{g.name},{t}]\")\n",
    "            # Piece-wise production above minimum\n",
    "            v[\"prod_above\"][k] = m.addVar(lb=0, name=f\"g+[{g.name},{t}]\")\n",
    "\n",
    "        # Startup category vars (multi-segment)\n",
    "        for t in rng(1, T + 1):\n",
    "            for s, cat in enumerate(g.startup_categories, start=1):\n",
    "                v[\"startup\"][(g.name, t, s)] = m.addVar(\n",
    "                    vtype=GRB.BINARY, name=f\"startup[{g.name},{t},{s}]\"\n",
    "                )\n",
    "\n",
    "        # Minimum up/down-time, logical status, startup costs, etc.\n",
    "        _add_unit_commitment_eqs(m, g, v, con, add)\n",
    "\n",
    "    # Scenario-specific structures\n",
    "    for sc in instance.scenarios:\n",
    "        pname = sc.name  # short alias\n",
    "\n",
    "        # ➊ Transmission – overflow slacks (line constraints are added later)\n",
    "        for line in sc.lines:\n",
    "            for t in rng(1, T + 1):\n",
    "                key = (pname, line.name, t)\n",
    "                v[\"overflow\"][key] = m.addVar(\n",
    "                    lb=0, name=f\"ovfl[{line.name},{pname},{t}]\"\n",
    "                )\n",
    "                add(line.flow_penalty[t - 1] * sc.probability * v[\"overflow\"][key])\n",
    "\n",
    "        # ➋ Bus balance: curtailment + net-injection expr initialisation\n",
    "        for bus in sc.buses:\n",
    "            for t in rng(1, T + 1):\n",
    "                v[\"expr_net_injection\"][(pname, bus.name, t)] = gp.LinExpr(\n",
    "                    -bus.load[t - 1]\n",
    "                )\n",
    "                v[\"curtail\"][(pname, bus.name, t)] = m.addVar(\n",
    "                    lb=0,\n",
    "                    ub=bus.load[t - 1],\n",
    "                    name=f\"curt[{bus.name},{pname},{t}]\",\n",
    "                )\n",
    "                add(\n",
    "                    sc.power_balance_penalty[t - 1]\n",
    "                    * sc.probability\n",
    "                    * v[\"curtail\"][(pname, bus.name, t)]\n",
    "                )\n",
    "                v[\"expr_net_injection\"][(pname, bus.name, t)].addTerms(\n",
    "                    1.0, v[\"curtail\"][(pname, bus.name, t)]\n",
    "                )\n",
    "\n",
    "        # ➌ Thermal dispatch / reserves / ramping\n",
    "        for g in sc.thermal_units:\n",
    "            _add_unit_dispatch_eqs(m, g, sc, v, con, add)\n",
    "\n",
    "        # ➍ Profiled units\n",
    "        for pu in sc.profiled_units:\n",
    "            _add_profiled_unit(m, pu, sc, v, add)\n",
    "\n",
    "        # ➎ Price-sensitive loads\n",
    "        for ps in sc.price_sensitive_loads:\n",
    "            _add_price_sensitive_load(m, ps, sc, v, add)\n",
    "\n",
    "        # ➏ Storage\n",
    "        for su in sc.storage_units:\n",
    "            _add_storage(m, su, sc, v, con, add)\n",
    "\n",
    "        # ➐ Transmission power-flow limits (shift-factor formulation)\n",
    "        _add_transmission_eqs(m, sc, v, con)\n",
    "\n",
    "        # ➑ Contingency constraints\n",
    "        _add_contingency_eqs(m, sc, v, con, add)\n",
    "\n",
    "        # ➒ System-wide power balance & reserve requirements\n",
    "        _add_system_wide_eqs(m, sc, v, con, add)\n",
    "\n",
    "    # Finalise objective\n",
    "    m.setObjective(obj, GRB.MINIMIZE)\n",
    "    m.update()\n",
    "    return m\n",
    "\n",
    "def _add_reserve_vars_and_eqs(m, g, sc, v, add):\n",
    "    \"\"\"\n",
    "    Add reserve variables and constraints, including ramp-up capacity for spinning reserves.\n",
    "    Follows UnitCommitment.jl/src/formulation/reserves.jl (Carrion-Arroyo formulation).\n",
    "    \"\"\"\n",
    "    pname = sc.name\n",
    "    T = m._instance.time\n",
    "    reserve = v[\"reserve\"]\n",
    "    reserve_sf = v[\"reserve_shortfall\"]\n",
    "    upfr, dwfr = v[\"upflexiramp\"], v[\"dwflexiramp\"]\n",
    "    upfr_sf, dwfr_sf = v[\"upflexiramp_shortfall\"], v[\"dwflexiramp_shortfall\"]\n",
    "    is_on = v[\"is_on\"]\n",
    "    prod_above = v[\"prod_above\"]\n",
    "\n",
    "    for r in g.reserves:\n",
    "        if r.type == \"spinning\":\n",
    "            for t in range(1, T + 1):\n",
    "                key = (pname, r.name, g.name, t)\n",
    "                reserve[key] = m.addVar(\n",
    "                    lb=0, name=f\"Rspin[{g.name},{r.name},{pname},{t}]\"\n",
    "                )\n",
    "                reserve_sf.setdefault((pname, r.name, t), m.addVar(lb=0))\n",
    "                \n",
    "                # Ramp-up capacity constraint: reserve + production above min <= max power\n",
    "                m.addConstr(\n",
    "                    prod_above[(g.name, t)] + reserve[key] <= \n",
    "                    (g.max_power[t - 1] - g.min_power[t - 1]) * is_on[(g.name, t)],\n",
    "                    name=f\"RspinCap[{g.name},{r.name},{pname},{t}]\"\n",
    "                )\n",
    "                \n",
    "                # Reserve limited by ramp-up rate\n",
    "                m.addConstr(\n",
    "                    reserve[key] <= g.ramp_up * is_on[(g.name, t)],\n",
    "                    name=f\"RspinRamp[{g.name},{r.name},{pname},{t}]\"\n",
    "                )\n",
    "                \n",
    "        elif r.type == \"flexiramp\":\n",
    "            for t in range(1, T + 1):\n",
    "                upfr[(pname, r.name, g.name, t)] = m.addVar(lb=0)\n",
    "                dwfr[(pname, r.name, g.name, t)] = m.addVar(lb=0)\n",
    "                upfr_sf.setdefault((pname, r.name, t), m.addVar(lb=0))\n",
    "                dwfr_sf.setdefault((pname, r.name, t), m.addVar(lb=0))\n",
    "\n",
    "# def _add_contingency_eqs(m, sc, v, con, add):\n",
    "#     \"\"\"\n",
    "#     Add transmission constraints for contingencies using LODF matrices.\n",
    "#     Follows UnitCommitment.jl/src/formulation/transmission.jl.\n",
    "#     \"\"\"\n",
    "#     pname = sc.name\n",
    "#     T = m._instance.time\n",
    "#     isf = sc.isf\n",
    "#     lodf = sc.lodf\n",
    "#     if isf.size == 0 or len(sc.contingencies) == 0:  # Skip if no lines or contingencies\n",
    "#         return\n",
    "\n",
    "#     for c in sc.contingencies:\n",
    "#         # Identify outaged lines\n",
    "#         outaged_line_indices = [l.index - 1 for l in c.lines]  # 1-based to 0-based\n",
    "#         if not outaged_line_indices:  # Skip if no lines affected\n",
    "#             continue\n",
    "\n",
    "#         for l_idx, line in enumerate(sc.lines):\n",
    "#             if line in c.lines:  # Skip outaged lines\n",
    "#                 continue\n",
    "#             for t in range(1, T + 1):\n",
    "#                 # Base flow (same as in _add_transmission_eqs)\n",
    "#                 flow_expr = gp.LinExpr()\n",
    "#                 for b_idx, bus in enumerate(sc.buses[1:], start=0):  # Skip slack\n",
    "#                     flow_expr.add(\n",
    "#                         v[\"net_injection\"][(pname, bus.name, t)],\n",
    "#                         isf[l_idx, b_idx],\n",
    "#                     )\n",
    "\n",
    "#                 # Adjust flow for outaged lines using LODF\n",
    "#                 for o_idx in outaged_line_indices:\n",
    "#                     if o_idx != l_idx:  # Avoid self-reference\n",
    "#                         for b_idx, bus in enumerate(sc.buses[1:], start=0):\n",
    "#                             flow_expr.add(\n",
    "#                                 v[\"net_injection\"][(pname, bus.name, t)],\n",
    "#                                 isf[o_idx, b_idx] * lodf[l_idx, o_idx],\n",
    "#                             )\n",
    "\n",
    "#                 # Contingency-specific overflow variable\n",
    "#                 key = (pname, c.name, line.name, t)\n",
    "#                 v[\"cont_overflow\"][key] = m.addVar(\n",
    "#                     lb=0, name=f\"cont_ovfl[{c.name},{line.name},{pname},{t}]\"\n",
    "#                 )\n",
    "#                 add(line.flow_penalty[t - 1] * sc.probability * v[\"cont_overflow\"][key])\n",
    "\n",
    "#                 # Positive and negative flow constraints under contingency\n",
    "#                 m.addConstr(\n",
    "#                     flow_expr - v[\"cont_overflow\"][key] <= line.emergency_limit[t - 1],\n",
    "#                     name=f\"ContPF+[{c.name},{line.name},{pname},{t}]\"\n",
    "#                 )\n",
    "#                 m.addConstr(\n",
    "#                     -flow_expr - v[\"cont_overflow\"][key] <= line.emergency_limit[t - 1],\n",
    "#                     name=f\"ContPF-[{c.name},{line.name},{pname},{t}]\"\n",
    "#                 )\n",
    "\n",
    "# --------------------------------------------------------------------------- #\n",
    "# -------------  E Q U A T I O N   B U I L D E R S  ------------------------- #\n",
    "# --------------------------------------------------------------------------- #\n",
    "\n",
    "def _add_unit_commitment_eqs(\n",
    "    m: gp.Model,\n",
    "    g: ThermalUnit,\n",
    "    v: Dict[str, TD],\n",
    "    con: Dict[str, TD],\n",
    "    add,\n",
    "):\n",
    "    \"\"\"Binary/unit-commitment constraints & startup costs.\"\"\"\n",
    "    T = m._instance.time\n",
    "    is_on, su, sd = v[\"is_on\"], v[\"switch_on\"], v[\"switch_off\"]\n",
    "    gmin, gmax = g.min_power, g.max_power\n",
    "\n",
    "    # Logical consistency: on_t − on_{t-1} = su_t − sd_t\n",
    "    for t in range(1, T + 1):\n",
    "        lhs = gp.LinExpr(is_on[(g.name, t)])\n",
    "        rhs = gp.LinExpr()\n",
    "        if t == 1:\n",
    "            rhs.addConstant(int(g.initial_status > 0))\n",
    "        else:\n",
    "            rhs.add(is_on[(g.name, t - 1)], 1.0)\n",
    "        rhs.add(su[(g.name, t)], 1.0)\n",
    "        rhs.add(sd[(g.name, t)], -1.0)\n",
    "        m.addConstr(lhs - rhs == 0, name=f\"logic[{g.name},{t}]\")\n",
    "\n",
    "    # Piece-wise startup cost contribution to objective\n",
    "    for t in range(1, T + 1):\n",
    "        for s, cat in enumerate(g.startup_categories, start=1):\n",
    "            add(cat.cost * v[\"startup\"][(g.name, t, s)])\n",
    "\n",
    "    # Minimum up-/down-time\n",
    "    for t in range(1, T + 1):\n",
    "        m.addConstr(\n",
    "            gp.quicksum(\n",
    "                su[(g.name, τ)]\n",
    "                for τ in range(max(1, t - g.min_up + 1), t + 1)\n",
    "            )\n",
    "            <= is_on[(g.name, t)],\n",
    "            name=f\"minUP[{g.name},{t}]\",\n",
    "        )\n",
    "        m.addConstr(\n",
    "            gp.quicksum(\n",
    "                sd[(g.name, τ)]\n",
    "                for τ in range(max(1, t - g.min_down + 1), t + 1)\n",
    "            )\n",
    "            <= 1 - is_on[(g.name, t)],\n",
    "            name=f\"minDN[{g.name},{t}]\",\n",
    "        )\n",
    "\n",
    "    # Production above minimum must be zero when off\n",
    "    for t in range(1, T + 1):\n",
    "        key = (g.name, t)\n",
    "        m.addConstr(\n",
    "            v[\"prod_above\"][key] <= (gmax[t - 1] - gmin[t - 1]) * is_on[key],\n",
    "            name=f\"gmax[{g.name},{t}]\",\n",
    "        )\n",
    "\n",
    "\n",
    "def _add_unit_dispatch_eqs(m, g, sc, v, con, add):\n",
    "    \"\"\"\n",
    "    Continuous dispatch, ramping, piece-wise costs, reserves.\n",
    "    This replaces the buggy block that tried to call .VarName / .add on Vars.\n",
    "    \"\"\"\n",
    "    T      = m._instance.time\n",
    "    name   = g.name\n",
    "    pname  = sc.name\n",
    "    gmin   = g.min_power\n",
    "    gmax   = g.max_power\n",
    "    is_on  = v[\"is_on\"]\n",
    "    g_abv  = v[\"prod_above\"]\n",
    "    netexp = v[\"expr_net_injection\"]\n",
    "\n",
    "    # ---------- 1) Piece-wise cost segments & definition of g_abv ----------\n",
    "    for t in range(1, T + 1):\n",
    "        seg_vars = []\n",
    "        for s, seg in enumerate(g.segments, start=1):\n",
    "            amount = seg.amount[t - 1]\n",
    "            slope  = seg.cost[t - 1]\n",
    "            z = m.addVar(lb=0, ub=amount, name=f\"seg[{name},{t},{s}]\")\n",
    "            seg_vars.append(z)\n",
    "            # cost\n",
    "            add(sc.probability * slope * z)\n",
    "            # availability only if unit is on\n",
    "            m.addConstr(z <= amount * is_on[(name, t)], name=f\"segON[{name},{t},{s}]\")\n",
    "        # tie segments to g_abv\n",
    "        m.addConstr(\n",
    "            g_abv[(name, t)] == gp.quicksum(seg_vars), name=f\"gDef[{name},{t}]\"\n",
    "        )\n",
    "\n",
    "        # net injection: min-power + above-min\n",
    "        netexp[(pname, g.bus.name, t)].add(g_abv[(name, t)])\n",
    "        netexp[(pname, g.bus.name, t)].add(is_on[(name, t)], gmin[t - 1])\n",
    "\n",
    "    # ---------- 2) Ramping limits -----------------------------------------\n",
    "    for t in range(1, T + 1):\n",
    "        prev = (\n",
    "            g.initial_power - gmin[0]\n",
    "            if t == 1\n",
    "            else g_abv[(name, t - 1)]\n",
    "        )\n",
    "        m.addConstr(\n",
    "            g_abv[(name, t)] - prev <= g.ramp_up,   name=f\"RU[{name},{t}]\"\n",
    "        )\n",
    "        m.addConstr(\n",
    "            prev - g_abv[(name, t)] <= g.ramp_down, name=f\"RD[{name},{t}]\"\n",
    "        )\n",
    "\n",
    "    # ---------- 3) Reserves & flexiramp (unchanged) ------------------------\n",
    "    _add_reserve_vars_and_eqs(m, g, sc, v, add)\n",
    "\n",
    "\n",
    "\n",
    "def _add_reserve_vars_and_eqs(m, g, sc, v, add):\n",
    "    pname = sc.name\n",
    "    T = m._instance.time\n",
    "    reserve = v[\"reserve\"]\n",
    "    reserve_sf = v[\"reserve_shortfall\"]\n",
    "    upfr, dwfr = v[\"upflexiramp\"], v[\"dwflexiramp\"]\n",
    "    upfr_sf, dwfr_sf = v[\"upflexiramp_shortfall\"], v[\"dwflexiramp_shortfall\"]\n",
    "\n",
    "    for r in g.reserves:\n",
    "        if r.type == \"spinning\":\n",
    "            for t in range(1, T + 1):\n",
    "                reserve[(pname, r.name, g.name, t)] = m.addVar(\n",
    "                    lb=0, name=f\"Rspin[{g.name},{r.name},{pname},{t}]\"\n",
    "                )\n",
    "                reserve_sf.setdefault((pname, r.name, t), m.addVar(lb=0))\n",
    "        elif r.type == \"flexiramp\":\n",
    "            for t in range(1, T + 1):\n",
    "                upfr[(pname, r.name, g.name, t)] = m.addVar(lb=0)\n",
    "                dwfr[(pname, r.name, g.name, t)] = m.addVar(lb=0)\n",
    "                upfr_sf.setdefault((pname, r.name, t), m.addVar(lb=0))\n",
    "                dwfr_sf.setdefault((pname, r.name, t), m.addVar(lb=0))\n",
    "\n",
    "    # Ramp-up capacity must cover spinning reserve + prod increase\n",
    "    # (simple Carrion–Arroyo type) – omitted here for brevity.\n",
    "\n",
    "\n",
    "def _add_profiled_unit(m, pu: ProfiledUnit, sc, v, add):\n",
    "    pname = sc.name\n",
    "    T = m._instance.time\n",
    "    for t in range(1, T + 1):\n",
    "        key = (pname, pu.name, t)\n",
    "        v[\"prod_profiled\"][key] = m.addVar(\n",
    "            lb=pu.min_power[t - 1], ub=pu.max_power[t - 1], name=f\"PU[{pu.name},{t}]\"\n",
    "        )\n",
    "        add(sc.probability * pu.cost[t - 1] * v[\"prod_profiled\"][key])\n",
    "        v[\"expr_net_injection\"][(pname, pu.bus.name, t)].add(v[\"prod_profiled\"][key])\n",
    "\n",
    "\n",
    "def _add_price_sensitive_load(m, ps: PriceSensitiveLoad, sc, v, add):\n",
    "    pname = sc.name\n",
    "    T = m._instance.time\n",
    "    for t in range(1, T + 1):\n",
    "        k = (pname, ps.name, t)\n",
    "        var = m.addVar(lb=0, ub=ps.demand[t - 1], name=f\"PSL[{ps.name},{t}]\")\n",
    "        add(-sc.probability * ps.revenue[t - 1] * var)\n",
    "        v[\"expr_net_injection\"][(pname, ps.bus.name, t)].add(var, -1.0)\n",
    "\n",
    "\n",
    "def _add_storage(m, su: StorageUnit, sc, v, con, add):\n",
    "    pname = sc.name\n",
    "    T = m._instance.time\n",
    "    Δh = sc.time_step / 60.0\n",
    "    lvl = v[\"storage_level\"]\n",
    "    ch = v[\"charge_rate\"]\n",
    "    dis = v[\"discharge_rate\"]\n",
    "    is_ch = v[\"is_charging\"]\n",
    "    is_dis = v[\"is_discharging\"]\n",
    "    netexpr = v[\"expr_net_injection\"]\n",
    "\n",
    "    for t in range(1, T + 1):\n",
    "        key = (pname, su.name, t)\n",
    "        lvl[key] = m.addVar(lb=su.min_level[t - 1], ub=su.max_level[t - 1])\n",
    "        ch[key] = m.addVar(lb=0)\n",
    "        dis[key] = m.addVar(lb=0)\n",
    "        is_ch[key] = m.addVar(vtype=GRB.BINARY)\n",
    "        is_dis[key] = m.addVar(vtype=GRB.BINARY)\n",
    "\n",
    "        add(sc.probability * (su.charge_cost[t - 1] * ch[key] +\n",
    "                              su.discharge_cost[t - 1] * dis[key]))\n",
    "\n",
    "        netexpr[(pname, su.bus.name, t)].add(dis[key], 1.0)\n",
    "        netexpr[(pname, su.bus.name, t)].add(ch[key], -1.0)\n",
    "\n",
    "        # Min/max rates conditional on binary flags\n",
    "        m.addConstr(ch[key] >= su.min_charge[t - 1] * is_ch[key])\n",
    "        m.addConstr(ch[key] <= su.max_charge[t - 1] * is_ch[key])\n",
    "        m.addConstr(dis[key] >= su.min_discharge[t - 1] * is_dis[key])\n",
    "        m.addConstr(dis[key] <= su.max_discharge[t - 1] * is_dis[key])\n",
    "\n",
    "        # No simultaneous charge & discharge\n",
    "        if not su.simultaneous[t - 1]:\n",
    "            m.addConstr(is_ch[key] + is_dis[key] <= 1)\n",
    "\n",
    "        # Storage level transition\n",
    "        prev = su.initial_level if t == 1 else lvl[(pname, su.name, t - 1)]\n",
    "        m.addConstr(\n",
    "            lvl[key]\n",
    "            == (1 - su.loss_factor[t - 1]) * prev\n",
    "            + ch[key] * Δh * su.charge_eff[t - 1]\n",
    "            - dis[key] * Δh / su.discharge_eff[t - 1]\n",
    "        )\n",
    "\n",
    "        # End-of-horizon level\n",
    "        if t == T:\n",
    "            m.addConstr(\n",
    "                lvl[key] >= su.last_min\n",
    "            )\n",
    "            m.addConstr(\n",
    "                lvl[key] <= su.last_max\n",
    "            )\n",
    "\n",
    "\n",
    "# def _add_transmission_eqs(m, sc, v, con):\n",
    "#     \"\"\"ISF/PTDF linear flow constraints with overflow slack.\"\"\"\n",
    "#     pname = sc.name\n",
    "#     T = m._instance.time\n",
    "#     isf = sc.isf\n",
    "#     if isf.size == 0:  # single-bus case\n",
    "#         return\n",
    "#     for l_idx, line in enumerate(sc.lines):\n",
    "#         for t in range(1, T + 1):\n",
    "#             flow_expr = gp.LinExpr()\n",
    "#             for b_idx, bus in enumerate(sc.buses[1:], start=0):  # skip slack\n",
    "#                 flow_expr.add(\n",
    "#                     v[\"net_injection\"][(pname, bus.name, t)],\n",
    "#                     isf[l_idx, b_idx],\n",
    "#                 )\n",
    "#             m.addConstr(\n",
    "#                 flow_expr - v[\"overflow\"][(pname, line.name, t)]\n",
    "#                 <= line.normal_limit[t - 1],\n",
    "#                 name=f\"PF+[{line.name},{t}]\",\n",
    "#             )\n",
    "#             m.addConstr(\n",
    "#                 -flow_expr - v[\"overflow\"][(pname, line.name, t)]\n",
    "#                 <= line.normal_limit[t - 1],\n",
    "#                 name=f\"PF-[{line.name},{t}]\",\n",
    "            # )\n",
    "\n",
    "\n",
    "# Required modifications to build_model to support flow variables\n",
    "def _add_transmission_eqs(m, sc, v, con):\n",
    "    \"\"\"ISF/PTDF linear flow constraints with overflow slack and flow variables.\"\"\"\n",
    "    pname = sc.name\n",
    "    T = m._instance.time\n",
    "    isf = sc.isf\n",
    "    if isf.size == 0:  # single-bus case\n",
    "        return\n",
    "    for l_idx, line in enumerate(sc.lines):\n",
    "        for t in range(1, T + 1):\n",
    "            flow_expr = gp.LinExpr()\n",
    "            for b_idx, bus in enumerate(sc.buses[1:], start=0):  # skip slack\n",
    "                flow_expr.add(\n",
    "                    v[\"net_injection\"][(pname, bus.name, t)], isf[l_idx, b_idx]\n",
    "                )\n",
    "            # Store flow as a variable\n",
    "            flow_key = (pname, line.name, t)\n",
    "            v[\"flow\"][flow_key] = m.addVar(lb=-GRB.INFINITY, name=f\"flow[{line.name},{pname},{t}]\")\n",
    "            m.addConstr(v[\"flow\"][flow_key] == flow_expr, name=f\"FlowDef[{line.name},{pname},{t}]\")\n",
    "            # Flow limits\n",
    "            m.addConstr(\n",
    "                v[\"flow\"][flow_key] - v[\"overflow\"][(pname, line.name, t)] <=\n",
    "                line.normal_limit[t - 1],\n",
    "                name=f\"PF+[{line.name},{pname},{t}]\"\n",
    "            )\n",
    "            m.addConstr(\n",
    "                -v[\"flow\"][flow_key] - v[\"overflow\"][(pname, line.name, t)] <=\n",
    "                line.normal_limit[t - 1],\n",
    "                name=f\"PF-[{line.name},{pname},{t}]\"\n",
    "            )\n",
    "\n",
    "def _add_contingency_eqs(m, sc, v, con, add):\n",
    "    \"\"\"Transmission constraints for contingencies using LODF matrices.\"\"\"\n",
    "    pname = sc.name\n",
    "    T = m._instance.time\n",
    "    isf = sc.isf\n",
    "    lodf = sc.lodf\n",
    "    if isf.size == 0 or len(sc.contingencies) == 0:\n",
    "        return\n",
    "\n",
    "    for c in sc.contingencies:\n",
    "        outaged_line_indices = [l.index - 1 for l in c.lines]\n",
    "        if not outaged_line_indices:\n",
    "            continue\n",
    "        for l_idx, line in enumerate(sc.lines):\n",
    "            if line in c.lines:\n",
    "                continue\n",
    "            for t in range(1, T + 1):\n",
    "                flow_expr = gp.LinExpr()\n",
    "                for b_idx, bus in enumerate(sc.buses[1:], start=0):\n",
    "                    flow_expr.add(\n",
    "                        v[\"net_injection\"][(pname, bus.name, t)], isf[l_idx, b_idx]\n",
    "                    )\n",
    "                for o_idx in outaged_line_indices:\n",
    "                    if o_idx != l_idx:\n",
    "                        for b_idx, bus in enumerate(sc.buses[1:], start=0):\n",
    "                            flow_expr.add(\n",
    "                                v[\"net_injection\"][(pname, bus.name, t)],\n",
    "                                isf[o_idx, b_idx] * lodf[l_idx, o_idx]\n",
    "                            )\n",
    "                key = (pname, c.name, line.name, t)\n",
    "                v[\"cont_overflow\"][key] = m.addVar(\n",
    "                    lb=0, name=f\"cont_ovfl[{c.name},{line.name},{pname},{t}]\"\n",
    "                )\n",
    "                add(line.flow_penalty[t - 1] * sc.probability * v[\"cont_overflow\"][key])\n",
    "                m.addConstr(\n",
    "                    flow_expr - v[\"cont_overflow\"][key] <= line.emergency_limit[t - 1],\n",
    "                    name=f\"ContPF+[{c.name},{line.name},{pname},{t}]\"\n",
    "                )\n",
    "                m.addConstr(\n",
    "                    -flow_expr - v[\"cont_overflow\"][key] <= line.emergency_limit[t - 1],\n",
    "                    name=f\"ContPF-[{c.name},{line.name},{pname},{t}]\"\n",
    "                )\n",
    "\n",
    "def _add_system_wide_eqs(m, sc, v, con, add):\n",
    "    \"\"\"\n",
    "    • Creates explicit net-injection variables NI[b,t], ensuring they can be negative.\n",
    "    • Links NI to the expression of physical flows (generation, load, etc.).\n",
    "    • Adds a SINGLE system-wide power balance constraint for each time period,\n",
    "      allowing power to flow between buses.\n",
    "    • Penalises system-wide surplus/shortfall to ensure balance.\n",
    "    • Builds reserve-requirement constraints (unchanged from before).\n",
    "    \"\"\"\n",
    "    pname = sc.name\n",
    "    T = m._instance.time\n",
    "    HIGH_PENALTY = 1e7  # A large penalty for system imbalance\n",
    "\n",
    "    # --- 1. Define explicit net injection variables for each bus ---\n",
    "    # This part is crucial because other functions (like transmission) use v[\"net_injection\"].\n",
    "    # We must define it as a free variable (positive or negative).\n",
    "    for bus in sc.buses:\n",
    "        for t in range(1, T + 1):\n",
    "            key = (pname, bus.name, t)\n",
    "            # Define net_injection as a variable that can be positive or negative\n",
    "            v[\"net_injection\"][key] = m.addVar(lb=-GRB.INFINITY, name=f\"NI[{bus.name},{t}]\")\n",
    "            # Link this variable to the detailed expression of flows at the bus\n",
    "            m.addConstr(\n",
    "                v[\"net_injection\"][key] == v[\"expr_net_injection\"][key],\n",
    "                name=f\"LinkNI[{bus.name},{t}]\",\n",
    "            )\n",
    "\n",
    "    # --- 2. Add a single system-wide power balance for each time period ---\n",
    "    for t in range(1, T + 1):\n",
    "        # Create system-wide slack variables for this time step\n",
    "        p_surplus = m.addVar(lb=0, name=f\"P_surplus[{pname},{t}]\")\n",
    "        p_shortfall = m.addVar(lb=0, name=f\"P_shortfall[{pname},{t}]\")\n",
    "\n",
    "        # Penalize any system-wide imbalance in the objective function\n",
    "        add(sc.probability * HIGH_PENALTY * (p_surplus + p_shortfall))\n",
    "\n",
    "        # Add the single system balance constraint: Sum of all net injections must be zero\n",
    "        # (allowing for a small, heavily penalized slack).\n",
    "        m.addConstr(\n",
    "            gp.quicksum(v[\"net_injection\"][(pname, bus.name, t)] for bus in sc.buses)\n",
    "            == p_surplus - p_shortfall,\n",
    "            name=f\"SystemBalance[{pname},{t}]\",\n",
    "        )\n",
    "\n",
    "    # --- 3. Add reserve requirements (this part is unchanged) ---\n",
    "    for r in sc.reserves:\n",
    "        if r.type == \"spinning\":\n",
    "            _reserve_requirement(\n",
    "                m, r,\n",
    "                v[\"reserve\"], v[\"reserve_shortfall\"],\n",
    "                sc, T, add\n",
    "            )\n",
    "        elif r.type == \"flexiramp\":\n",
    "            _reserve_requirement(\n",
    "                m, r,\n",
    "                v[\"upflexiramp\"], v[\"upflexiramp_shortfall\"],\n",
    "                sc, T, add,\n",
    "                paired=v[\"dwflexiramp\"],\n",
    "                paired_sf=v[\"dwflexiramp_shortfall\"],\n",
    "            )\n",
    "\n",
    "\n",
    "\n",
    "def _reserve_requirement(\n",
    "    m,\n",
    "    r: Reserve,\n",
    "    res_vars: TD,\n",
    "    sf_vars: TD,\n",
    "    sc,\n",
    "    T,\n",
    "    add,\n",
    "    *,\n",
    "    paired: TD | None = None,\n",
    "    paired_sf: TD | None = None,\n",
    "):\n",
    "    pname = sc.name\n",
    "    for t in range(1, T + 1):\n",
    "        lhs = gp.quicksum(\n",
    "            res_vars[(pname, r.name, g.name, t)] for g in r.thermal_units\n",
    "        )\n",
    "        if paired is not None:\n",
    "            lhs += gp.quicksum(\n",
    "                paired[(pname, r.name, g.name, t)] for g in r.thermal_units\n",
    "            )\n",
    "        sf = sf_vars[(pname, r.name, t)]\n",
    "        lhs += sf\n",
    "        m.addConstr(lhs >= r.amount[t - 1], name=f\"ResReq[{r.name},{t}]\")\n",
    "        add(sc.probability * r.shortfall_penalty * sf)\n",
    "\n",
    "\n",
    "\n"
   ]
  },
  {
   "cell_type": "code",
   "execution_count": 38,
   "id": "dddf2244",
   "metadata": {},
   "outputs": [
    {
     "name": "stdout",
     "output_type": "stream",
     "text": [
      "→ Loading sample instance 'matpower/case30/2017-01-01' …\n",
      "Loaded scenario 's1' with 6 thermal units, 41 lines, horizon 36 steps of 60 minutes.\n",
      "Set parameter MIPGap to value 0.1\n",
      "Gurobi Optimizer version 12.0.1 build v12.0.1rc0 (win64 - Windows 11.0 (22631.2))\n",
      "\n",
      "CPU model: AMD Ryzen 7 7840HS with Radeon 780M Graphics, instruction set [SSE2|AVX|AVX2|AVX512]\n",
      "Thread count: 8 physical cores, 16 logical processors, using up to 16 threads\n",
      "\n",
      "Non-default parameters:\n",
      "MIPGap  0.1\n",
      "\n",
      "Optimize a model with 3528 rows, 6516 columns and 10084 nonzeros\n",
      "Model fingerprint: 0x442b2544\n",
      "Variable types: 5220 continuous, 1296 integer (1296 binary)\n",
      "Coefficient statistics:\n",
      "  Matrix range     [1e+00, 4e+02]\n",
      "  Objective range  [1e+01, 1e+07]\n",
      "  Bounds range     [1e+00, 1e+02]\n",
      "  RHS range        [1e+00, 3e+02]\n",
      "Found heuristic solution: objective 4.865948e+08\n",
      "Presolve removed 1590 rows and 4982 columns\n",
      "Presolve time: 0.08s\n",
      "Presolved: 1938 rows, 1534 columns, 6116 nonzeros\n",
      "Found heuristic solution: objective 4.865943e+08\n",
      "Variable types: 1186 continuous, 348 integer (348 binary)\n",
      "\n",
      "Root relaxation: objective 2.942557e+05, 461 iterations, 0.01 seconds (0.00 work units)\n",
      "\n",
      "    Nodes    |    Current Node    |     Objective Bounds      |     Work\n",
      " Expl Unexpl |  Obj  Depth IntInf | Incumbent    BestBd   Gap | It/Node Time\n",
      "\n",
      "*    0     0               0    294255.71045 294255.710  0.00%     -    0s\n",
      "\n",
      "Explored 1 nodes (461 simplex iterations) in 0.14 seconds (0.03 work units)\n",
      "Thread count was 16 (of 16 available processors)\n",
      "\n",
      "Solution count 3: 294256 4.86594e+08 4.86595e+08 \n",
      "\n",
      "Optimal solution found (tolerance 1.00e-01)\n",
      "Best objective 2.942557104535e+05, best bound 2.942557104535e+05, gap 0.0000%\n",
      "★ Optimal cost: 294,255.71\n"
     ]
    }
   ],
   "source": [
    "# --------------------------------------------------------------------------- #\n",
    "#  Demo / self-test                                                           #\n",
    "# --------------------------------------------------------------------------- #\n",
    "\n",
    "if __name__ == \"__main__\":\n",
    "    SAMPLE = \"matpower/case30/2017-01-01\"\n",
    "    print(f\"→ Loading sample instance '{SAMPLE}' …\")\n",
    "    inst = read_benchmark(SAMPLE, quiet=False)\n",
    "    sc = inst.deterministic\n",
    "    print(\n",
    "        f\"Loaded scenario '{sc.name}' with \"\n",
    "        f\"{len(sc.thermal_units)} thermal units, \"\n",
    "        f\"{len(sc.lines)} lines, horizon {sc.time} steps of \"\n",
    "        f\"{sc.time_step} minutes.\"\n",
    "    )\n",
    "\n",
    "    model = build_model(inst, mip_gap=0.1, verbose=True)\n",
    "    model.optimize()\n",
    "    print(f\"★ Optimal cost: {model.ObjVal:,.2f}\")"
   ]
  },
  {
   "cell_type": "markdown",
   "id": "813624e3",
   "metadata": {},
   "source": [
    "#  Solution extractor"
   ]
  },
  {
   "cell_type": "code",
   "execution_count": 39,
   "id": "fb99959d",
   "metadata": {},
   "outputs": [],
   "source": [
    "from math import isfinite\n",
    "\n",
    "\n",
    "def _round(x, digits=5):\n",
    "    \"\"\"Round a number, Gurobi variable, or linear expression to specified digits if finite.\"\"\"\n",
    "    if isinstance(x, gp.Var):\n",
    "        x = x.X if hasattr(x, 'X') else 0.0  # Handle unset variables\n",
    "    elif isinstance(x, gp.LinExpr):\n",
    "        x = x.getValue() if x.size() > 0 else 0.0  # Evaluate LinExpr to scalar\n",
    "    return round(float(x), digits) if isfinite(x) else float(x)\n",
    "\n",
    "def extract_solution(m: gp.Model) -> OrderedDict:\n",
    "    \"\"\"\n",
    "    Extract a solved Gurobi model's solution as a nested OrderedDict matching\n",
    "    UnitCommitment.jl's solution() structure.\n",
    "\n",
    "    Args:\n",
    "        m: Solved Gurobi model with attached m._instance and m._vars.\n",
    "\n",
    "    Returns:\n",
    "        OrderedDict with solution data, single scenario dict if deterministic.\n",
    "\n",
    "    Raises:\n",
    "        RuntimeError: If model is not solved or lacks required attributes.\n",
    "    \"\"\"\n",
    "    # Validate model state and attributes\n",
    "    if m.Status not in (GRB.OPTIMAL, GRB.SUBOPTIMAL, GRB.INTERRUPTED):\n",
    "        raise RuntimeError(f\"Model has invalid status: {m.Status}\")\n",
    "    if not hasattr(m, '_instance') or not hasattr(m, '_vars'):\n",
    "        raise RuntimeError(\"Model missing required attributes: m._instance or m._vars\")\n",
    "\n",
    "    inst = m._instance\n",
    "    T = inst.time\n",
    "    v = m._vars\n",
    "\n",
    "    def series(var_dict, keys, scenario=None, prefix=''):\n",
    "        \"\"\"Create OrderedDict of time series for given keys.\"\"\"\n",
    "        od = OrderedDict()\n",
    "        sname = scenario.name if scenario else None\n",
    "        for obj in keys:\n",
    "            key_prefix = (sname, prefix, obj.name) if sname and prefix else \\\n",
    "                         (sname, obj.name) if sname else obj.name\n",
    "            od[obj.name] = [\n",
    "                _round(var_dict.get((key_prefix, t), 0.0)) for t in range(1, T + 1)\n",
    "            ]\n",
    "        return od\n",
    "\n",
    "    def thermal_outputs(sc, sname):\n",
    "        \"\"\"Generate thermal unit-related outputs.\"\"\"\n",
    "        od = OrderedDict()\n",
    "        if not sc.thermal_units:\n",
    "            return od\n",
    "\n",
    "        # Production and costs\n",
    "        od[\"Thermal production (MW)\"] = OrderedDict(\n",
    "            (g.name, [\n",
    "                _round(v[\"is_on\"][(g.name, t)].X * g.min_power[t - 1] +\n",
    "                       v[\"prod_above\"][(g.name, t)].X)\n",
    "                for t in range(1, T + 1)\n",
    "            ]) for g in sc.thermal_units\n",
    "        )\n",
    "        od[\"Thermal production cost ($)\"] = OrderedDict(\n",
    "            (g.name, [\n",
    "                _round(v[\"is_on\"][(g.name, t)].X * g.min_power_cost[t - 1] +\n",
    "                       sum(\n",
    "                           m.getVarByName(f\"seg[{g.name},{t},{k}]\").X *\n",
    "                           g.segments[k - 1].cost[t - 1]\n",
    "                           for k in range(1, len(g.segments) + 1)\n",
    "                       ))\n",
    "                for t in range(1, T + 1)\n",
    "            ]) for g in sc.thermal_units\n",
    "        )\n",
    "        # od[\"Startup cost ($)\"] = OrderedDict(\n",
    "        #     (g.name, [\n",
    "        #         _round(sum(\n",
    "        #             g.startup_categories[s - 1].cost *\n",
    "        #             v[\"startup\"][(g.name, t, s)].X\n",
    "        #             for s in range(1, len(g.startup_categories) + 1)\n",
    "        #         ))\n",
    "        #         for t in range(1, T + 1)\n",
    "        #     ]) for g in sc.thermal_units\n",
    "        # )\n",
    "\n",
    "        # Commitment status\n",
    "        for key in [\"is_on\", \"switch_on\", \"switch_off\"]:\n",
    "            od[key.capitalize()] = series(v[key], sc.thermal_units)\n",
    "\n",
    "        # Net injection and curtailment\n",
    "        # od[\"Net injection (MW)\"] = series(v[\"net_injection\"], sc.buses, scenario=sc)\n",
    "        # od[\"Load curtail (MW)\"] = series(v[\"curtail\"], sc.buses, scenario=sc)\n",
    "\n",
    "        return od\n",
    "\n",
    "    def transmission_outputs(sc, sname):\n",
    "        \"\"\"Generate transmission-related outputs.\"\"\"\n",
    "        od = OrderedDict()\n",
    "        if not sc.lines:\n",
    "            return od\n",
    "\n",
    "        # od[\"Line flow (MW)\"] = series(v[\"flow\"], sc.lines, scenario=sc)\n",
    "        od[\"Line overflow (MW)\"] = series(v[\"overflow\"], sc.lines, scenario=sc)\n",
    "        if sc.contingencies:\n",
    "            od[\"Contingency overflow (MW)\"] = OrderedDict(\n",
    "                (c.name, series(v[\"cont_overflow\"], sc.lines, scenario=sc, prefix=c.name))\n",
    "                for c in sc.contingencies\n",
    "            )\n",
    "        return od\n",
    "\n",
    "    def other_unit_outputs(sc, sname):\n",
    "        \"\"\"Generate outputs for profiled units, price-sensitive loads, and storage.\"\"\"\n",
    "        od = OrderedDict()\n",
    "\n",
    "        # Profiled units\n",
    "        if sc.profiled_units:\n",
    "            od[\"Profiled production (MW)\"] = series(v[\"prod_profiled\"], sc.profiled_units, scenario=sc)\n",
    "            od[\"Profiled production cost ($)\"] = OrderedDict(\n",
    "                (pu.name, [_round(v[\"prod_profiled\"][(sname, pu.name, t)].X * pu.cost[t - 1])\n",
    "                          for t in range(1, T + 1)])\n",
    "                for pu in sc.profiled_units\n",
    "            )\n",
    "\n",
    "        # Price-sensitive loads\n",
    "        if sc.price_sensitive_loads:\n",
    "            od[\"Price-sensitive loads (MW)\"] = series(\n",
    "                v[\"expr_net_injection\"], sc.price_sensitive_loads, scenario=sc\n",
    "            )\n",
    "\n",
    "        # Storage units\n",
    "        if sc.storage_units:\n",
    "            for key in [\"storage_level\", \"charge_rate\", \"discharge_rate\"]:\n",
    "                od[key.capitalize().replace('_', ' ') + \" (MW)\"] = series(\n",
    "                    v[key], sc.storage_units, scenario=sc\n",
    "                )\n",
    "            for key in [\"is_charging\", \"is_discharging\"]:\n",
    "                od[key.capitalize().replace('_', ' ')] = series(\n",
    "                    v[key], sc.storage_units, scenario=sc\n",
    "                )\n",
    "            od[\"Storage charging cost ($)\"] = OrderedDict(\n",
    "                (su.name, [_round(v[\"charge_rate\"][(sname, su.name, t)].X * su.charge_cost[t - 1])\n",
    "                          for t in range(1, T + 1)])\n",
    "                for su in sc.storage_units\n",
    "            )\n",
    "            od[\"Storage discharging cost ($)\"] = OrderedDict(\n",
    "                (su.name, [_round(v[\"discharge_rate\"][(sname, su.name, t)].X * su.discharge_cost[t - 1])\n",
    "                          for t in range(1, T + 1)])\n",
    "                for su in sc.storage_units\n",
    "            )\n",
    "\n",
    "        return od\n",
    "\n",
    "    def reserve_outputs(sc, sname):\n",
    "        \"\"\"Generate reserve-related outputs.\"\"\"\n",
    "        od = OrderedDict()\n",
    "        if not sc.reserves:\n",
    "            return od\n",
    "\n",
    "        reserve_types = {\n",
    "            \"spinning\": [\"reserve\", \"reserve_shortfall\"],\n",
    "            \"flexiramp\": [\"upflexiramp\", \"upflexiramp_shortfall\", \"dwflexiramp\", \"dwflexiramp_shortfall\"]\n",
    "        }\n",
    "        for r_type, var_names in reserve_types.items():\n",
    "            for var_name in var_names:\n",
    "                key = var_name.replace('_', ' ').capitalize() + \" (MW)\"\n",
    "                od[key] = OrderedDict(\n",
    "                    (r.name, OrderedDict(\n",
    "                        (g.name, [_round(v[var_name][(sname, r.name, g.name, t)].X)\n",
    "                                 for t in range(1, T + 1)])\n",
    "                        for g in r.thermal_units\n",
    "                    )) if \"shortfall\" not in var_name else\n",
    "                    (r.name, [_round(v[var_name][(sname, r.name, t)].X)\n",
    "                             for t in range(1, T + 1)])\n",
    "                    for r in sc.reserves if r.type == r_type\n",
    "                )\n",
    "\n",
    "        return od\n",
    "\n",
    "    # Build solution dictionary\n",
    "    sol = OrderedDict()\n",
    "    for sc in inst.scenarios:\n",
    "        sname = sc.name\n",
    "        sdict = OrderedDict()\n",
    "        sol[sname] = sdict\n",
    "        sdict.update(thermal_outputs(sc, sname))\n",
    "        # sdict.update(transmission_outputs(sc, sname))\n",
    "        sdict.update(other_unit_outputs(sc, sname))\n",
    "        # sdict.update(reserve_outputs(sc, sname))\n",
    "\n",
    "    return next(iter(sol.values())) if len(sol) == 1 else sol"
   ]
  },
  {
   "cell_type": "code",
   "execution_count": 40,
   "id": "b90505dc",
   "metadata": {},
   "outputs": [
    {
     "name": "stdout",
     "output_type": "stream",
     "text": [
      "['Thermal production (MW)', 'Thermal production cost ($)', 'Is_on', 'Switch_on', 'Switch_off']\n",
      "[4.80346, 4.80346, 4.80346, 4.80346, 4.80346]\n",
      "\n",
      "Solution saved to output_gurobi\\matpower\\case30\\2017-01-01_solution.npz\n"
     ]
    }
   ],
   "source": [
    "from pathlib import Path\n",
    "from collections import OrderedDict\n",
    "\n",
    "# extract solution\n",
    "sol = extract_solution(model)\n",
    "print(list(sol.keys()))               # top-level keys\n",
    "print(sol[\"Thermal production (MW)\"][\"g1\"][:5])   # first 5 periods of g1\n",
    "\n",
    "# flatten nested OrderedDict → dict of numpy arrays\n",
    "def _flatten_sol_dict(d, parent_key='', sep='/'):\n",
    "    items = {}\n",
    "    for k, v in d.items():\n",
    "        new_key = f\"{parent_key}{sep}{k}\" if parent_key else k\n",
    "        if isinstance(v, (dict, OrderedDict)):\n",
    "            items.update(_flatten_sol_dict(v, new_key, sep=sep))\n",
    "        else:\n",
    "            items[new_key] = np.array(v)\n",
    "    return items\n",
    "\n",
    "flat_sol = _flatten_sol_dict(sol)\n",
    "\n",
    "in_path = Path(SAMPLE)\n",
    "out_dir = Path(\"output_gurobi\") / in_path.parent\n",
    "out_dir.mkdir(parents=True, exist_ok=True)\n",
    "\n",
    "# name the file \"<basename>_solution.npz\"\n",
    "out_file = out_dir / f\"{in_path.name}_solution.npz\"\n",
    "np.savez(out_file, **flat_sol)\n",
    "\n",
    "print(f\"\\nSolution saved to {out_file}\")"
   ]
  },
  {
   "cell_type": "code",
   "execution_count": 41,
   "id": "2ae6e3aa",
   "metadata": {},
   "outputs": [],
   "source": [
    "from datetime import date, timedelta"
   ]
  },
  {
   "cell_type": "code",
   "execution_count": 42,
   "id": "1b3074ba",
   "metadata": {},
   "outputs": [
    {
     "name": "stdout",
     "output_type": "stream",
     "text": [
      "\n",
      "→ Loading 'matpower/case300/2017-01-01' …\n",
      "★ case300 2017-01-01 — objective = 15,303,438.73\n",
      "✓ Saved → output_gurobi\\matpower\\case300\\2017-01-01_solution.npz\n",
      "\n",
      "→ Loading 'matpower/case300/2017-01-02' …\n",
      "★ case300 2017-01-02 — objective = 16,167,191.76\n",
      "✓ Saved → output_gurobi\\matpower\\case300\\2017-01-02_solution.npz\n",
      "\n",
      "→ Loading 'matpower/case300/2017-01-03' …\n",
      "★ case300 2017-01-03 — objective = 16,176,274.68\n",
      "✓ Saved → output_gurobi\\matpower\\case300\\2017-01-03_solution.npz\n",
      "\n",
      "→ Loading 'matpower/case300/2017-01-04' …\n",
      "★ case300 2017-01-04 — objective = 19,638,372.66\n",
      "✓ Saved → output_gurobi\\matpower\\case300\\2017-01-04_solution.npz\n",
      "\n",
      "→ Loading 'matpower/case300/2017-01-05' …\n",
      "★ case300 2017-01-05 — objective = 25,099,498.62\n",
      "✓ Saved → output_gurobi\\matpower\\case300\\2017-01-05_solution.npz\n",
      "\n",
      "→ Loading 'matpower/case300/2017-01-06' …\n",
      "★ case300 2017-01-06 — objective = 23,394,483.49\n",
      "✓ Saved → output_gurobi\\matpower\\case300\\2017-01-06_solution.npz\n",
      "\n",
      "→ Loading 'matpower/case300/2017-01-07' …\n",
      "★ case300 2017-01-07 — objective = 22,740,342.51\n",
      "✓ Saved → output_gurobi\\matpower\\case300\\2017-01-07_solution.npz\n",
      "\n",
      "→ Loading 'matpower/case300/2017-01-08' …\n",
      "★ case300 2017-01-08 — objective = 24,667,368.70\n",
      "✓ Saved → output_gurobi\\matpower\\case300\\2017-01-08_solution.npz\n",
      "\n",
      "→ Loading 'matpower/case300/2017-01-09' …\n",
      "★ case300 2017-01-09 — objective = 26,940,201.83\n",
      "✓ Saved → output_gurobi\\matpower\\case300\\2017-01-09_solution.npz\n",
      "\n",
      "→ Loading 'matpower/case300/2017-01-10' …\n",
      "★ case300 2017-01-10 — objective = 22,108,932.67\n",
      "✓ Saved → output_gurobi\\matpower\\case300\\2017-01-10_solution.npz\n",
      "\n",
      "→ Loading 'matpower/case300/2017-01-11' …\n",
      "★ case300 2017-01-11 — objective = 18,410,782.86\n",
      "✓ Saved → output_gurobi\\matpower\\case300\\2017-01-11_solution.npz\n",
      "\n",
      "→ Loading 'matpower/case300/2017-01-12' …\n",
      "★ case300 2017-01-12 — objective = 17,427,708.49\n",
      "✓ Saved → output_gurobi\\matpower\\case300\\2017-01-12_solution.npz\n",
      "\n",
      "→ Loading 'matpower/case300/2017-01-13' …\n",
      "★ case300 2017-01-13 — objective = 21,660,754.02\n",
      "✓ Saved → output_gurobi\\matpower\\case300\\2017-01-13_solution.npz\n",
      "\n",
      "→ Loading 'matpower/case300/2017-01-14' …\n",
      "★ case300 2017-01-14 — objective = 18,916,631.07\n",
      "✓ Saved → output_gurobi\\matpower\\case300\\2017-01-14_solution.npz\n",
      "\n",
      "→ Loading 'matpower/case300/2017-01-15' …\n",
      "★ case300 2017-01-15 — objective = 16,819,976.11\n",
      "✓ Saved → output_gurobi\\matpower\\case300\\2017-01-15_solution.npz\n",
      "\n",
      "→ Loading 'matpower/case300/2017-01-16' …\n",
      "★ case300 2017-01-16 — objective = 20,594,072.37\n",
      "✓ Saved → output_gurobi\\matpower\\case300\\2017-01-16_solution.npz\n",
      "\n",
      "→ Loading 'matpower/case300/2017-01-17' …\n",
      "★ case300 2017-01-17 — objective = 19,732,048.11\n",
      "✓ Saved → output_gurobi\\matpower\\case300\\2017-01-17_solution.npz\n",
      "\n",
      "→ Loading 'matpower/case300/2017-01-18' …\n",
      "★ case300 2017-01-18 — objective = 19,736,945.55\n",
      "✓ Saved → output_gurobi\\matpower\\case300\\2017-01-18_solution.npz\n",
      "\n",
      "→ Loading 'matpower/case300/2017-01-19' …\n",
      "★ case300 2017-01-19 — objective = 20,858,604.07\n",
      "✓ Saved → output_gurobi\\matpower\\case300\\2017-01-19_solution.npz\n",
      "\n",
      "→ Loading 'matpower/case300/2017-01-20' …\n",
      "★ case300 2017-01-20 — objective = 18,487,882.14\n",
      "✓ Saved → output_gurobi\\matpower\\case300\\2017-01-20_solution.npz\n",
      "\n",
      "→ Loading 'matpower/case300/2017-01-21' …\n",
      "★ case300 2017-01-21 — objective = 15,344,503.53\n",
      "✓ Saved → output_gurobi\\matpower\\case300\\2017-01-21_solution.npz\n",
      "\n",
      "→ Loading 'matpower/case300/2017-01-22' …\n",
      "★ case300 2017-01-22 — objective = 16,321,941.05\n",
      "✓ Saved → output_gurobi\\matpower\\case300\\2017-01-22_solution.npz\n",
      "\n",
      "→ Loading 'matpower/case300/2017-01-23' …\n",
      "★ case300 2017-01-23 — objective = 20,145,365.63\n",
      "✓ Saved → output_gurobi\\matpower\\case300\\2017-01-23_solution.npz\n",
      "\n",
      "→ Loading 'matpower/case300/2017-01-24' …\n",
      "★ case300 2017-01-24 — objective = 19,022,493.68\n",
      "✓ Saved → output_gurobi\\matpower\\case300\\2017-01-24_solution.npz\n",
      "\n",
      "→ Loading 'matpower/case300/2017-01-25' …\n",
      "★ case300 2017-01-25 — objective = 17,991,850.16\n",
      "✓ Saved → output_gurobi\\matpower\\case300\\2017-01-25_solution.npz\n",
      "\n",
      "→ Loading 'matpower/case300/2017-01-26' …\n",
      "★ case300 2017-01-26 — objective = 16,961,858.38\n",
      "✓ Saved → output_gurobi\\matpower\\case300\\2017-01-26_solution.npz\n",
      "\n",
      "→ Loading 'matpower/case300/2017-01-27' …\n",
      "★ case300 2017-01-27 — objective = 16,758,505.91\n",
      "✓ Saved → output_gurobi\\matpower\\case300\\2017-01-27_solution.npz\n",
      "\n",
      "→ Loading 'matpower/case300/2017-01-28' …\n",
      "★ case300 2017-01-28 — objective = 16,693,934.78\n",
      "✓ Saved → output_gurobi\\matpower\\case300\\2017-01-28_solution.npz\n",
      "\n",
      "→ Loading 'matpower/case300/2017-01-29' …\n",
      "★ case300 2017-01-29 — objective = 18,083,380.64\n",
      "✓ Saved → output_gurobi\\matpower\\case300\\2017-01-29_solution.npz\n",
      "\n",
      "→ Loading 'matpower/case300/2017-01-30' …\n",
      "★ case300 2017-01-30 — objective = 20,628,250.57\n",
      "✓ Saved → output_gurobi\\matpower\\case300\\2017-01-30_solution.npz\n",
      "\n",
      "→ Loading 'matpower/case300/2017-01-31' …\n",
      "★ case300 2017-01-31 — objective = 18,730,093.58\n",
      "✓ Saved → output_gurobi\\matpower\\case300\\2017-01-31_solution.npz\n",
      "\n",
      "→ Loading 'matpower/case300/2017-02-01' …\n",
      "★ case300 2017-02-01 — objective = 18,215,969.75\n",
      "✓ Saved → output_gurobi\\matpower\\case300\\2017-02-01_solution.npz\n",
      "\n",
      "→ Loading 'matpower/case300/2017-02-02' …\n",
      "★ case300 2017-02-02 — objective = 20,175,811.53\n",
      "✓ Saved → output_gurobi\\matpower\\case300\\2017-02-02_solution.npz\n",
      "\n",
      "→ Loading 'matpower/case300/2017-02-03' …\n",
      "★ case300 2017-02-03 — objective = 20,164,523.43\n",
      "✓ Saved → output_gurobi\\matpower\\case300\\2017-02-03_solution.npz\n",
      "\n",
      "→ Loading 'matpower/case300/2017-02-04' …\n",
      "★ case300 2017-02-04 — objective = 18,208,287.67\n",
      "✓ Saved → output_gurobi\\matpower\\case300\\2017-02-04_solution.npz\n",
      "\n",
      "→ Loading 'matpower/case300/2017-02-05' …\n",
      "★ case300 2017-02-05 — objective = 16,902,929.14\n",
      "✓ Saved → output_gurobi\\matpower\\case300\\2017-02-05_solution.npz\n",
      "\n",
      "→ Loading 'matpower/case300/2017-02-06' …\n",
      "★ case300 2017-02-06 — objective = 17,314,407.90\n",
      "✓ Saved → output_gurobi\\matpower\\case300\\2017-02-06_solution.npz\n",
      "\n",
      "→ Loading 'matpower/case300/2017-02-07' …\n",
      "★ case300 2017-02-07 — objective = 15,293,806.97\n",
      "✓ Saved → output_gurobi\\matpower\\case300\\2017-02-07_solution.npz\n",
      "\n",
      "→ Loading 'matpower/case300/2017-02-08' …\n",
      "★ case300 2017-02-08 — objective = 16,112,318.76\n",
      "✓ Saved → output_gurobi\\matpower\\case300\\2017-02-08_solution.npz\n",
      "\n",
      "→ Loading 'matpower/case300/2017-02-09' …\n",
      "★ case300 2017-02-09 — objective = 23,356,021.89\n",
      "✓ Saved → output_gurobi\\matpower\\case300\\2017-02-09_solution.npz\n",
      "\n",
      "→ Loading 'matpower/case300/2017-02-10' …\n",
      "★ case300 2017-02-10 — objective = 23,093,092.07\n",
      "✓ Saved → output_gurobi\\matpower\\case300\\2017-02-10_solution.npz\n",
      "\n",
      "→ Loading 'matpower/case300/2017-02-11' …\n",
      "★ case300 2017-02-11 — objective = 18,392,333.91\n",
      "✓ Saved → output_gurobi\\matpower\\case300\\2017-02-11_solution.npz\n",
      "\n",
      "→ Loading 'matpower/case300/2017-02-12' …\n",
      "★ case300 2017-02-12 — objective = 18,404,049.10\n",
      "✓ Saved → output_gurobi\\matpower\\case300\\2017-02-12_solution.npz\n",
      "\n",
      "→ Loading 'matpower/case300/2017-02-13' …\n",
      "★ case300 2017-02-13 — objective = 24,687,145.17\n",
      "✓ Saved → output_gurobi\\matpower\\case300\\2017-02-13_solution.npz\n",
      "\n",
      "→ Loading 'matpower/case300/2017-02-14' …\n",
      "★ case300 2017-02-14 — objective = 25,005,204.40\n",
      "✓ Saved → output_gurobi\\matpower\\case300\\2017-02-14_solution.npz\n",
      "\n",
      "→ Loading 'matpower/case300/2017-02-15' …\n",
      "★ case300 2017-02-15 — objective = 20,288,470.40\n",
      "✓ Saved → output_gurobi\\matpower\\case300\\2017-02-15_solution.npz\n",
      "\n",
      "→ Loading 'matpower/case300/2017-02-16' …\n",
      "★ case300 2017-02-16 — objective = 21,596,350.54\n",
      "✓ Saved → output_gurobi\\matpower\\case300\\2017-02-16_solution.npz\n",
      "\n",
      "→ Loading 'matpower/case300/2017-02-17' …\n",
      "★ case300 2017-02-17 — objective = 18,223,733.61\n",
      "✓ Saved → output_gurobi\\matpower\\case300\\2017-02-17_solution.npz\n",
      "\n",
      "→ Loading 'matpower/case300/2017-02-18' …\n",
      "★ case300 2017-02-18 — objective = 12,925,466.50\n",
      "✓ Saved → output_gurobi\\matpower\\case300\\2017-02-18_solution.npz\n",
      "\n",
      "→ Loading 'matpower/case300/2017-02-19' …\n",
      "★ case300 2017-02-19 — objective = 12,511,096.20\n",
      "✓ Saved → output_gurobi\\matpower\\case300\\2017-02-19_solution.npz\n",
      "\n",
      "→ Loading 'matpower/case300/2017-02-20' …\n",
      "★ case300 2017-02-20 — objective = 14,929,195.65\n",
      "✓ Saved → output_gurobi\\matpower\\case300\\2017-02-20_solution.npz\n",
      "\n",
      "→ Loading 'matpower/case300/2017-02-21' …\n",
      "★ case300 2017-02-21 — objective = 15,198,101.35\n",
      "✓ Saved → output_gurobi\\matpower\\case300\\2017-02-21_solution.npz\n",
      "\n",
      "→ Loading 'matpower/case300/2017-02-22' …\n",
      "★ case300 2017-02-22 — objective = 14,219,698.18\n",
      "✓ Saved → output_gurobi\\matpower\\case300\\2017-02-22_solution.npz\n",
      "\n",
      "→ Loading 'matpower/case300/2017-02-23' …\n",
      "★ case300 2017-02-23 — objective = 13,314,261.79\n",
      "✓ Saved → output_gurobi\\matpower\\case300\\2017-02-23_solution.npz\n",
      "\n",
      "→ Loading 'matpower/case300/2017-02-24' …\n",
      "★ case300 2017-02-24 — objective = 11,847,394.64\n",
      "✓ Saved → output_gurobi\\matpower\\case300\\2017-02-24_solution.npz\n",
      "\n",
      "→ Loading 'matpower/case300/2017-02-25' …\n",
      "★ case300 2017-02-25 — objective = 11,436,965.81\n",
      "✓ Saved → output_gurobi\\matpower\\case300\\2017-02-25_solution.npz\n",
      "\n",
      "→ Loading 'matpower/case300/2017-02-26' …\n",
      "★ case300 2017-02-26 — objective = 13,650,634.80\n",
      "✓ Saved → output_gurobi\\matpower\\case300\\2017-02-26_solution.npz\n",
      "\n",
      "→ Loading 'matpower/case300/2017-02-27' …\n",
      "★ case300 2017-02-27 — objective = 14,244,787.63\n",
      "✓ Saved → output_gurobi\\matpower\\case300\\2017-02-27_solution.npz\n",
      "\n",
      "→ Loading 'matpower/case300/2017-02-28' …\n",
      "★ case300 2017-02-28 — objective = 13,232,382.14\n",
      "✓ Saved → output_gurobi\\matpower\\case300\\2017-02-28_solution.npz\n",
      "\n",
      "→ Loading 'matpower/case300/2017-03-01' …\n",
      "★ case300 2017-03-01 — objective = 12,802,783.41\n",
      "✓ Saved → output_gurobi\\matpower\\case300\\2017-03-01_solution.npz\n",
      "\n",
      "→ Loading 'matpower/case300/2017-03-02' …\n",
      "★ case300 2017-03-02 — objective = 14,731,321.47\n",
      "✓ Saved → output_gurobi\\matpower\\case300\\2017-03-02_solution.npz\n",
      "\n",
      "→ Loading 'matpower/case300/2017-03-03' …\n",
      "★ case300 2017-03-03 — objective = 16,069,302.26\n",
      "✓ Saved → output_gurobi\\matpower\\case300\\2017-03-03_solution.npz\n",
      "\n",
      "→ Loading 'matpower/case300/2017-03-04' …\n",
      "★ case300 2017-03-04 — objective = 16,296,649.44\n",
      "✓ Saved → output_gurobi\\matpower\\case300\\2017-03-04_solution.npz\n",
      "\n",
      "→ Loading 'matpower/case300/2017-03-05' …\n",
      "★ case300 2017-03-05 — objective = 15,414,334.95\n",
      "✓ Saved → output_gurobi\\matpower\\case300\\2017-03-05_solution.npz\n",
      "\n",
      "→ Loading 'matpower/case300/2017-03-06' …\n",
      "★ case300 2017-03-06 — objective = 13,856,746.04\n",
      "✓ Saved → output_gurobi\\matpower\\case300\\2017-03-06_solution.npz\n",
      "\n",
      "→ Loading 'matpower/case300/2017-03-07' …\n",
      "★ case300 2017-03-07 — objective = 12,404,762.54\n",
      "✓ Saved → output_gurobi\\matpower\\case300\\2017-03-07_solution.npz\n",
      "\n",
      "→ Loading 'matpower/case300/2017-03-08' …\n",
      "★ case300 2017-03-08 — objective = 12,270,305.06\n",
      "✓ Saved → output_gurobi\\matpower\\case300\\2017-03-08_solution.npz\n",
      "\n",
      "→ Loading 'matpower/case300/2017-03-09' …\n",
      "★ case300 2017-03-09 — objective = 12,770,812.54\n",
      "✓ Saved → output_gurobi\\matpower\\case300\\2017-03-09_solution.npz\n",
      "\n",
      "→ Loading 'matpower/case300/2017-03-10' …\n",
      "★ case300 2017-03-10 — objective = 16,629,847.56\n",
      "✓ Saved → output_gurobi\\matpower\\case300\\2017-03-10_solution.npz\n",
      "\n",
      "→ Loading 'matpower/case300/2017-03-11' …\n",
      "★ case300 2017-03-11 — objective = 17,448,755.32\n",
      "✓ Saved → output_gurobi\\matpower\\case300\\2017-03-11_solution.npz\n",
      "\n",
      "→ Loading 'matpower/case300/2017-03-12' …\n",
      "★ case300 2017-03-12 — objective = 17,514,952.80\n",
      "✓ Saved → output_gurobi\\matpower\\case300\\2017-03-12_solution.npz\n",
      "\n",
      "→ Loading 'matpower/case300/2017-03-13' …\n",
      "★ case300 2017-03-13 — objective = 18,539,533.11\n",
      "✓ Saved → output_gurobi\\matpower\\case300\\2017-03-13_solution.npz\n",
      "\n",
      "→ Loading 'matpower/case300/2017-03-14' …\n",
      "★ case300 2017-03-14 — objective = 19,496,192.95\n",
      "✓ Saved → output_gurobi\\matpower\\case300\\2017-03-14_solution.npz\n",
      "\n",
      "→ Loading 'matpower/case300/2017-03-15' …\n",
      "★ case300 2017-03-15 — objective = 21,374,816.18\n",
      "✓ Saved → output_gurobi\\matpower\\case300\\2017-03-15_solution.npz\n",
      "\n",
      "→ Loading 'matpower/case300/2017-03-16' …\n",
      "★ case300 2017-03-16 — objective = 20,337,174.37\n",
      "✓ Saved → output_gurobi\\matpower\\case300\\2017-03-16_solution.npz\n",
      "\n",
      "→ Loading 'matpower/case300/2017-03-17' …\n",
      "★ case300 2017-03-17 — objective = 16,148,565.10\n",
      "✓ Saved → output_gurobi\\matpower\\case300\\2017-03-17_solution.npz\n",
      "\n",
      "→ Loading 'matpower/case300/2017-03-18' …\n",
      "★ case300 2017-03-18 — objective = 12,452,434.69\n",
      "✓ Saved → output_gurobi\\matpower\\case300\\2017-03-18_solution.npz\n",
      "\n",
      "→ Loading 'matpower/case300/2017-03-19' …\n",
      "★ case300 2017-03-19 — objective = 13,763,751.31\n",
      "✓ Saved → output_gurobi\\matpower\\case300\\2017-03-19_solution.npz\n",
      "\n",
      "→ Loading 'matpower/case300/2017-03-20' …\n",
      "★ case300 2017-03-20 — objective = 15,226,323.44\n",
      "✓ Saved → output_gurobi\\matpower\\case300\\2017-03-20_solution.npz\n",
      "\n",
      "→ Loading 'matpower/case300/2017-03-21' …\n",
      "★ case300 2017-03-21 — objective = 13,832,044.25\n",
      "✓ Saved → output_gurobi\\matpower\\case300\\2017-03-21_solution.npz\n",
      "\n",
      "→ Loading 'matpower/case300/2017-03-22' …\n",
      "★ case300 2017-03-22 — objective = 17,065,976.49\n",
      "✓ Saved → output_gurobi\\matpower\\case300\\2017-03-22_solution.npz\n",
      "\n",
      "→ Loading 'matpower/case300/2017-03-23' …\n",
      "★ case300 2017-03-23 — objective = 15,852,870.67\n",
      "✓ Saved → output_gurobi\\matpower\\case300\\2017-03-23_solution.npz\n",
      "\n",
      "→ Loading 'matpower/case300/2017-03-24' …\n",
      "★ case300 2017-03-24 — objective = 12,285,359.81\n",
      "✓ Saved → output_gurobi\\matpower\\case300\\2017-03-24_solution.npz\n",
      "\n",
      "→ Loading 'matpower/case300/2017-03-25' …\n",
      "★ case300 2017-03-25 — objective = 11,278,999.77\n",
      "✓ Saved → output_gurobi\\matpower\\case300\\2017-03-25_solution.npz\n",
      "\n",
      "→ Loading 'matpower/case300/2017-03-26' …\n",
      "★ case300 2017-03-26 — objective = 12,415,116.92\n",
      "✓ Saved → output_gurobi\\matpower\\case300\\2017-03-26_solution.npz\n",
      "\n",
      "→ Loading 'matpower/case300/2017-03-27' …\n",
      "★ case300 2017-03-27 — objective = 13,166,287.25\n",
      "✓ Saved → output_gurobi\\matpower\\case300\\2017-03-27_solution.npz\n",
      "\n",
      "→ Loading 'matpower/case300/2017-03-28' …\n",
      "★ case300 2017-03-28 — objective = 13,154,665.63\n",
      "✓ Saved → output_gurobi\\matpower\\case300\\2017-03-28_solution.npz\n",
      "\n",
      "→ Loading 'matpower/case300/2017-03-29' …\n",
      "★ case300 2017-03-29 — objective = 14,257,497.15\n",
      "✓ Saved → output_gurobi\\matpower\\case300\\2017-03-29_solution.npz\n",
      "\n",
      "→ Loading 'matpower/case300/2017-03-30' …\n",
      "★ case300 2017-03-30 — objective = 14,559,875.29\n",
      "✓ Saved → output_gurobi\\matpower\\case300\\2017-03-30_solution.npz\n",
      "\n",
      "→ Loading 'matpower/case300/2017-03-31' …\n",
      "★ case300 2017-03-31 — objective = 14,206,302.10\n",
      "✓ Saved → output_gurobi\\matpower\\case300\\2017-03-31_solution.npz\n",
      "\n",
      "→ Loading 'matpower/case300/2017-04-01' …\n",
      "★ case300 2017-04-01 — objective = 11,062,912.94\n",
      "✓ Saved → output_gurobi\\matpower\\case300\\2017-04-01_solution.npz\n",
      "\n",
      "→ Loading 'matpower/case300/2017-04-02' …\n",
      "★ case300 2017-04-02 — objective = 11,125,483.15\n",
      "✓ Saved → output_gurobi\\matpower\\case300\\2017-04-02_solution.npz\n",
      "\n",
      "→ Loading 'matpower/case300/2017-04-03' …\n",
      "★ case300 2017-04-03 — objective = 12,727,528.14\n",
      "✓ Saved → output_gurobi\\matpower\\case300\\2017-04-03_solution.npz\n",
      "\n",
      "→ Loading 'matpower/case300/2017-04-04' …\n",
      "★ case300 2017-04-04 — objective = 12,458,533.53\n",
      "✓ Saved → output_gurobi\\matpower\\case300\\2017-04-04_solution.npz\n",
      "\n",
      "→ Loading 'matpower/case300/2017-04-05' …\n",
      "★ case300 2017-04-05 — objective = 12,630,884.44\n",
      "✓ Saved → output_gurobi\\matpower\\case300\\2017-04-05_solution.npz\n",
      "\n",
      "→ Loading 'matpower/case300/2017-04-06' …\n",
      "★ case300 2017-04-06 — objective = 13,626,624.97\n",
      "✓ Saved → output_gurobi\\matpower\\case300\\2017-04-06_solution.npz\n",
      "\n",
      "→ Loading 'matpower/case300/2017-04-07' …\n",
      "★ case300 2017-04-07 — objective = 13,194,359.34\n",
      "✓ Saved → output_gurobi\\matpower\\case300\\2017-04-07_solution.npz\n",
      "\n",
      "→ Loading 'matpower/case300/2017-04-08' …\n",
      "★ case300 2017-04-08 — objective = 11,177,071.23\n",
      "✓ Saved → output_gurobi\\matpower\\case300\\2017-04-08_solution.npz\n",
      "\n",
      "→ Loading 'matpower/case300/2017-04-09' …\n",
      "★ case300 2017-04-09 — objective = 10,744,818.94\n",
      "✓ Saved → output_gurobi\\matpower\\case300\\2017-04-09_solution.npz\n",
      "\n",
      "→ Loading 'matpower/case300/2017-04-10' …\n",
      "★ case300 2017-04-10 — objective = 12,796,595.83\n",
      "✓ Saved → output_gurobi\\matpower\\case300\\2017-04-10_solution.npz\n",
      "\n",
      "→ Loading 'matpower/case300/2017-04-11' …\n",
      "★ case300 2017-04-11 — objective = 13,417,170.33\n",
      "✓ Saved → output_gurobi\\matpower\\case300\\2017-04-11_solution.npz\n",
      "\n",
      "→ Loading 'matpower/case300/2017-04-12' …\n",
      "★ case300 2017-04-12 — objective = 12,801,920.78\n",
      "✓ Saved → output_gurobi\\matpower\\case300\\2017-04-12_solution.npz\n",
      "\n",
      "→ Loading 'matpower/case300/2017-04-13' …\n",
      "★ case300 2017-04-13 — objective = 12,404,682.83\n",
      "✓ Saved → output_gurobi\\matpower\\case300\\2017-04-13_solution.npz\n",
      "\n",
      "→ Loading 'matpower/case300/2017-04-14' …\n",
      "★ case300 2017-04-14 — objective = 11,663,873.28\n",
      "✓ Saved → output_gurobi\\matpower\\case300\\2017-04-14_solution.npz\n",
      "\n",
      "→ Loading 'matpower/case300/2017-04-15' …\n",
      "★ case300 2017-04-15 — objective = 9,903,608.81\n",
      "✓ Saved → output_gurobi\\matpower\\case300\\2017-04-15_solution.npz\n",
      "\n",
      "→ Loading 'matpower/case300/2017-04-16' …\n",
      "★ case300 2017-04-16 — objective = 12,116,486.80\n",
      "✓ Saved → output_gurobi\\matpower\\case300\\2017-04-16_solution.npz\n",
      "\n",
      "→ Loading 'matpower/case300/2017-04-17' …\n",
      "★ case300 2017-04-17 — objective = 12,516,986.04\n",
      "✓ Saved → output_gurobi\\matpower\\case300\\2017-04-17_solution.npz\n",
      "\n",
      "→ Loading 'matpower/case300/2017-04-18' …\n",
      "★ case300 2017-04-18 — objective = 11,907,211.85\n",
      "✓ Saved → output_gurobi\\matpower\\case300\\2017-04-18_solution.npz\n",
      "\n",
      "→ Loading 'matpower/case300/2017-04-19' …\n",
      "★ case300 2017-04-19 — objective = 12,152,252.81\n",
      "✓ Saved → output_gurobi\\matpower\\case300\\2017-04-19_solution.npz\n",
      "\n",
      "→ Loading 'matpower/case300/2017-04-20' …\n",
      "★ case300 2017-04-20 — objective = 13,128,262.01\n",
      "✓ Saved → output_gurobi\\matpower\\case300\\2017-04-20_solution.npz\n",
      "\n",
      "→ Loading 'matpower/case300/2017-04-21' …\n",
      "★ case300 2017-04-21 — objective = 12,181,158.23\n",
      "✓ Saved → output_gurobi\\matpower\\case300\\2017-04-21_solution.npz\n",
      "\n",
      "→ Loading 'matpower/case300/2017-04-22' …\n",
      "★ case300 2017-04-22 — objective = 10,171,922.71\n",
      "✓ Saved → output_gurobi\\matpower\\case300\\2017-04-22_solution.npz\n",
      "\n",
      "→ Loading 'matpower/case300/2017-04-23' …\n",
      "★ case300 2017-04-23 — objective = 11,026,569.36\n",
      "✓ Saved → output_gurobi\\matpower\\case300\\2017-04-23_solution.npz\n",
      "\n",
      "→ Loading 'matpower/case300/2017-04-24' …\n",
      "★ case300 2017-04-24 — objective = 12,320,305.25\n",
      "✓ Saved → output_gurobi\\matpower\\case300\\2017-04-24_solution.npz\n",
      "\n",
      "→ Loading 'matpower/case300/2017-04-25' …\n",
      "★ case300 2017-04-25 — objective = 13,319,743.65\n",
      "✓ Saved → output_gurobi\\matpower\\case300\\2017-04-25_solution.npz\n",
      "\n",
      "→ Loading 'matpower/case300/2017-04-26' …\n",
      "★ case300 2017-04-26 — objective = 12,850,928.56\n",
      "✓ Saved → output_gurobi\\matpower\\case300\\2017-04-26_solution.npz\n",
      "\n",
      "→ Loading 'matpower/case300/2017-04-27' …\n",
      "★ case300 2017-04-27 — objective = 13,577,305.66\n",
      "✓ Saved → output_gurobi\\matpower\\case300\\2017-04-27_solution.npz\n",
      "\n",
      "→ Loading 'matpower/case300/2017-04-28' …\n",
      "★ case300 2017-04-28 — objective = 12,866,864.09\n",
      "✓ Saved → output_gurobi\\matpower\\case300\\2017-04-28_solution.npz\n",
      "\n",
      "→ Loading 'matpower/case300/2017-04-29' …\n",
      "★ case300 2017-04-29 — objective = 12,384,212.30\n",
      "✓ Saved → output_gurobi\\matpower\\case300\\2017-04-29_solution.npz\n",
      "\n",
      "→ Loading 'matpower/case300/2017-04-30' …\n",
      "★ case300 2017-04-30 — objective = 10,617,262.35\n",
      "✓ Saved → output_gurobi\\matpower\\case300\\2017-04-30_solution.npz\n",
      "\n",
      "→ Loading 'matpower/case300/2017-05-01' …\n",
      "★ case300 2017-05-01 — objective = 12,472,767.39\n",
      "✓ Saved → output_gurobi\\matpower\\case300\\2017-05-01_solution.npz\n",
      "\n",
      "→ Loading 'matpower/case300/2017-05-02' …\n",
      "★ case300 2017-05-02 — objective = 11,355,102.59\n",
      "✓ Saved → output_gurobi\\matpower\\case300\\2017-05-02_solution.npz\n",
      "\n",
      "→ Loading 'matpower/case300/2017-05-03' …\n",
      "★ case300 2017-05-03 — objective = 10,913,910.57\n",
      "✓ Saved → output_gurobi\\matpower\\case300\\2017-05-03_solution.npz\n",
      "\n",
      "→ Loading 'matpower/case300/2017-05-04' …\n",
      "★ case300 2017-05-04 — objective = 12,022,288.87\n",
      "✓ Saved → output_gurobi\\matpower\\case300\\2017-05-04_solution.npz\n",
      "\n",
      "→ Loading 'matpower/case300/2017-05-05' …\n",
      "★ case300 2017-05-05 — objective = 11,365,071.75\n",
      "✓ Saved → output_gurobi\\matpower\\case300\\2017-05-05_solution.npz\n",
      "\n",
      "→ Loading 'matpower/case300/2017-05-06' …\n",
      "★ case300 2017-05-06 — objective = 9,594,922.12\n",
      "✓ Saved → output_gurobi\\matpower\\case300\\2017-05-06_solution.npz\n",
      "\n",
      "→ Loading 'matpower/case300/2017-05-07' …\n",
      "★ case300 2017-05-07 — objective = 10,493,349.66\n",
      "✓ Saved → output_gurobi\\matpower\\case300\\2017-05-07_solution.npz\n",
      "\n",
      "→ Loading 'matpower/case300/2017-05-08' …\n",
      "★ case300 2017-05-08 — objective = 11,981,980.50\n",
      "✓ Saved → output_gurobi\\matpower\\case300\\2017-05-08_solution.npz\n",
      "\n",
      "→ Loading 'matpower/case300/2017-05-09' …\n",
      "★ case300 2017-05-09 — objective = 11,925,816.95\n",
      "✓ Saved → output_gurobi\\matpower\\case300\\2017-05-09_solution.npz\n",
      "\n",
      "→ Loading 'matpower/case300/2017-05-10' …\n",
      "★ case300 2017-05-10 — objective = 12,007,489.31\n",
      "✓ Saved → output_gurobi\\matpower\\case300\\2017-05-10_solution.npz\n",
      "\n",
      "→ Loading 'matpower/case300/2017-05-11' …\n",
      "★ case300 2017-05-11 — objective = 12,940,921.02\n",
      "✓ Saved → output_gurobi\\matpower\\case300\\2017-05-11_solution.npz\n",
      "\n",
      "→ Loading 'matpower/case300/2017-05-12' …\n",
      "★ case300 2017-05-12 — objective = 12,263,088.13\n",
      "✓ Saved → output_gurobi\\matpower\\case300\\2017-05-12_solution.npz\n",
      "\n",
      "→ Loading 'matpower/case300/2017-05-13' …\n",
      "★ case300 2017-05-13 — objective = 10,453,278.03\n",
      "✓ Saved → output_gurobi\\matpower\\case300\\2017-05-13_solution.npz\n",
      "\n",
      "→ Loading 'matpower/case300/2017-05-14' …\n",
      "★ case300 2017-05-14 — objective = 10,716,943.30\n",
      "✓ Saved → output_gurobi\\matpower\\case300\\2017-05-14_solution.npz\n",
      "\n",
      "→ Loading 'matpower/case300/2017-05-15' …\n",
      "★ case300 2017-05-15 — objective = 12,344,099.08\n",
      "✓ Saved → output_gurobi\\matpower\\case300\\2017-05-15_solution.npz\n",
      "\n",
      "→ Loading 'matpower/case300/2017-05-16' …\n",
      "★ case300 2017-05-16 — objective = 14,162,021.98\n",
      "✓ Saved → output_gurobi\\matpower\\case300\\2017-05-16_solution.npz\n",
      "\n",
      "→ Loading 'matpower/case300/2017-05-17' …\n",
      "★ case300 2017-05-17 — objective = 18,070,393.76\n",
      "✓ Saved → output_gurobi\\matpower\\case300\\2017-05-17_solution.npz\n",
      "\n",
      "→ Loading 'matpower/case300/2017-05-18' …\n",
      "★ case300 2017-05-18 — objective = 20,834,911.97\n",
      "✓ Saved → output_gurobi\\matpower\\case300\\2017-05-18_solution.npz\n",
      "\n",
      "→ Loading 'matpower/case300/2017-05-19' …\n",
      "★ case300 2017-05-19 — objective = 17,585,239.53\n",
      "✓ Saved → output_gurobi\\matpower\\case300\\2017-05-19_solution.npz\n",
      "\n",
      "→ Loading 'matpower/case300/2017-05-20' …\n",
      "★ case300 2017-05-20 — objective = 10,342,698.03\n",
      "✓ Saved → output_gurobi\\matpower\\case300\\2017-05-20_solution.npz\n",
      "\n",
      "→ Loading 'matpower/case300/2017-05-21' …\n",
      "★ case300 2017-05-21 — objective = 10,188,220.01\n",
      "✓ Saved → output_gurobi\\matpower\\case300\\2017-05-21_solution.npz\n",
      "\n",
      "→ Loading 'matpower/case300/2017-05-22' …\n",
      "★ case300 2017-05-22 — objective = 12,507,697.03\n",
      "✓ Saved → output_gurobi\\matpower\\case300\\2017-05-22_solution.npz\n",
      "\n",
      "→ Loading 'matpower/case300/2017-05-23' …\n",
      "★ case300 2017-05-23 — objective = 12,575,640.04\n",
      "✓ Saved → output_gurobi\\matpower\\case300\\2017-05-23_solution.npz\n",
      "\n",
      "→ Loading 'matpower/case300/2017-05-24' …\n",
      "★ case300 2017-05-24 — objective = 13,443,546.48\n",
      "✓ Saved → output_gurobi\\matpower\\case300\\2017-05-24_solution.npz\n",
      "\n",
      "→ Loading 'matpower/case300/2017-05-25' …\n",
      "★ case300 2017-05-25 — objective = 12,899,388.88\n",
      "✓ Saved → output_gurobi\\matpower\\case300\\2017-05-25_solution.npz\n",
      "\n",
      "→ Loading 'matpower/case300/2017-05-26' …\n",
      "★ case300 2017-05-26 — objective = 11,920,991.08\n",
      "✓ Saved → output_gurobi\\matpower\\case300\\2017-05-26_solution.npz\n",
      "\n",
      "→ Loading 'matpower/case300/2017-05-27' …\n",
      "★ case300 2017-05-27 — objective = 10,323,203.50\n",
      "✓ Saved → output_gurobi\\matpower\\case300\\2017-05-27_solution.npz\n",
      "\n",
      "→ Loading 'matpower/case300/2017-05-28' …\n",
      "★ case300 2017-05-28 — objective = 9,804,224.12\n",
      "✓ Saved → output_gurobi\\matpower\\case300\\2017-05-28_solution.npz\n",
      "\n",
      "→ Loading 'matpower/case300/2017-05-29' …\n",
      "★ case300 2017-05-29 — objective = 10,207,692.11\n",
      "✓ Saved → output_gurobi\\matpower\\case300\\2017-05-29_solution.npz\n",
      "\n",
      "→ Loading 'matpower/case300/2017-05-30' …\n",
      "★ case300 2017-05-30 — objective = 12,344,648.11\n",
      "✓ Saved → output_gurobi\\matpower\\case300\\2017-05-30_solution.npz\n",
      "\n",
      "→ Loading 'matpower/case300/2017-05-31' …\n",
      "★ case300 2017-05-31 — objective = 13,761,324.59\n",
      "✓ Saved → output_gurobi\\matpower\\case300\\2017-05-31_solution.npz\n",
      "\n",
      "→ Loading 'matpower/case300/2017-06-01' …\n",
      "★ case300 2017-06-01 — objective = 13,576,306.95\n",
      "✓ Saved → output_gurobi\\matpower\\case300\\2017-06-01_solution.npz\n",
      "\n",
      "→ Loading 'matpower/case300/2017-06-02' …\n",
      "★ case300 2017-06-02 — objective = 13,772,087.08\n",
      "✓ Saved → output_gurobi\\matpower\\case300\\2017-06-02_solution.npz\n",
      "\n",
      "→ Loading 'matpower/case300/2017-06-03' …\n",
      "★ case300 2017-06-03 — objective = 11,778,648.01\n",
      "✓ Saved → output_gurobi\\matpower\\case300\\2017-06-03_solution.npz\n",
      "\n",
      "→ Loading 'matpower/case300/2017-06-04' …\n",
      "★ case300 2017-06-04 — objective = 13,836,997.44\n",
      "✓ Saved → output_gurobi\\matpower\\case300\\2017-06-04_solution.npz\n",
      "\n",
      "→ Loading 'matpower/case300/2017-06-05' …\n",
      "★ case300 2017-06-05 — objective = 15,872,087.79\n",
      "✓ Saved → output_gurobi\\matpower\\case300\\2017-06-05_solution.npz\n",
      "\n",
      "→ Loading 'matpower/case300/2017-06-06' …\n",
      "★ case300 2017-06-06 — objective = 14,300,170.69\n",
      "✓ Saved → output_gurobi\\matpower\\case300\\2017-06-06_solution.npz\n",
      "\n",
      "→ Loading 'matpower/case300/2017-06-07' …\n",
      "★ case300 2017-06-07 — objective = 12,699,227.95\n",
      "✓ Saved → output_gurobi\\matpower\\case300\\2017-06-07_solution.npz\n",
      "\n",
      "→ Loading 'matpower/case300/2017-06-08' …\n",
      "★ case300 2017-06-08 — objective = 13,190,527.75\n",
      "✓ Saved → output_gurobi\\matpower\\case300\\2017-06-08_solution.npz\n",
      "\n",
      "→ Loading 'matpower/case300/2017-06-09' …\n",
      "★ case300 2017-06-09 — objective = 14,347,613.63\n",
      "✓ Saved → output_gurobi\\matpower\\case300\\2017-06-09_solution.npz\n",
      "\n",
      "→ Loading 'matpower/case300/2017-06-10' …\n",
      "★ case300 2017-06-10 — objective = 16,076,044.79\n",
      "✓ Saved → output_gurobi\\matpower\\case300\\2017-06-10_solution.npz\n",
      "\n",
      "→ Loading 'matpower/case300/2017-06-11' …\n",
      "★ case300 2017-06-11 — objective = 21,019,438.25\n",
      "✓ Saved → output_gurobi\\matpower\\case300\\2017-06-11_solution.npz\n",
      "\n",
      "→ Loading 'matpower/case300/2017-06-12' …\n",
      "★ case300 2017-06-12 — objective = 27,097,203.31\n",
      "✓ Saved → output_gurobi\\matpower\\case300\\2017-06-12_solution.npz\n",
      "\n",
      "→ Loading 'matpower/case300/2017-06-13' …\n",
      "★ case300 2017-06-13 — objective = 27,199,006.23\n",
      "✓ Saved → output_gurobi\\matpower\\case300\\2017-06-13_solution.npz\n",
      "\n",
      "→ Loading 'matpower/case300/2017-06-14' …\n",
      "★ case300 2017-06-14 — objective = 20,171,683.03\n",
      "✓ Saved → output_gurobi\\matpower\\case300\\2017-06-14_solution.npz\n",
      "\n",
      "→ Loading 'matpower/case300/2017-06-15' …\n",
      "★ case300 2017-06-15 — objective = 17,468,823.23\n",
      "✓ Saved → output_gurobi\\matpower\\case300\\2017-06-15_solution.npz\n",
      "\n",
      "→ Loading 'matpower/case300/2017-06-16' …\n",
      "★ case300 2017-06-16 — objective = 17,447,173.64\n",
      "✓ Saved → output_gurobi\\matpower\\case300\\2017-06-16_solution.npz\n",
      "\n",
      "→ Loading 'matpower/case300/2017-06-17' …\n",
      "★ case300 2017-06-17 — objective = 17,696,947.22\n",
      "✓ Saved → output_gurobi\\matpower\\case300\\2017-06-17_solution.npz\n",
      "\n",
      "→ Loading 'matpower/case300/2017-06-18' …\n",
      "★ case300 2017-06-18 — objective = 22,393,155.75\n",
      "✓ Saved → output_gurobi\\matpower\\case300\\2017-06-18_solution.npz\n",
      "\n",
      "→ Loading 'matpower/case300/2017-06-19' …\n",
      "★ case300 2017-06-19 — objective = 22,919,406.27\n",
      "✓ Saved → output_gurobi\\matpower\\case300\\2017-06-19_solution.npz\n",
      "\n",
      "→ Loading 'matpower/case300/2017-06-20' …\n",
      "★ case300 2017-06-20 — objective = 21,871,998.29\n",
      "✓ Saved → output_gurobi\\matpower\\case300\\2017-06-20_solution.npz\n",
      "\n",
      "→ Loading 'matpower/case300/2017-06-21' …\n",
      "★ case300 2017-06-21 — objective = 21,893,374.64\n",
      "✓ Saved → output_gurobi\\matpower\\case300\\2017-06-21_solution.npz\n",
      "\n",
      "→ Loading 'matpower/case300/2017-06-22' …\n",
      "★ case300 2017-06-22 — objective = 25,709,674.63\n",
      "✓ Saved → output_gurobi\\matpower\\case300\\2017-06-22_solution.npz\n",
      "\n",
      "→ Loading 'matpower/case300/2017-06-23' …\n",
      "★ case300 2017-06-23 — objective = 25,135,991.55\n",
      "✓ Saved → output_gurobi\\matpower\\case300\\2017-06-23_solution.npz\n",
      "\n",
      "→ Loading 'matpower/case300/2017-06-24' …\n",
      "★ case300 2017-06-24 — objective = 20,607,183.83\n",
      "✓ Saved → output_gurobi\\matpower\\case300\\2017-06-24_solution.npz\n",
      "\n",
      "→ Loading 'matpower/case300/2017-06-25' …\n",
      "★ case300 2017-06-25 — objective = 17,980,723.21\n",
      "✓ Saved → output_gurobi\\matpower\\case300\\2017-06-25_solution.npz\n",
      "\n",
      "→ Loading 'matpower/case300/2017-06-26' …\n",
      "★ case300 2017-06-26 — objective = 18,066,759.50\n",
      "✓ Saved → output_gurobi\\matpower\\case300\\2017-06-26_solution.npz\n",
      "\n",
      "→ Loading 'matpower/case300/2017-06-27' …\n",
      "★ case300 2017-06-27 — objective = 17,633,860.25\n",
      "✓ Saved → output_gurobi\\matpower\\case300\\2017-06-27_solution.npz\n",
      "\n",
      "→ Loading 'matpower/case300/2017-06-28' …\n",
      "★ case300 2017-06-28 — objective = 18,825,261.91\n",
      "✓ Saved → output_gurobi\\matpower\\case300\\2017-06-28_solution.npz\n",
      "\n",
      "→ Loading 'matpower/case300/2017-06-29' …\n",
      "★ case300 2017-06-29 — objective = 24,079,665.41\n",
      "✓ Saved → output_gurobi\\matpower\\case300\\2017-06-29_solution.npz\n",
      "\n",
      "→ Loading 'matpower/case300/2017-06-30' …\n",
      "★ case300 2017-06-30 — objective = 26,162,762.98\n",
      "✓ Saved → output_gurobi\\matpower\\case300\\2017-06-30_solution.npz\n",
      "\n",
      "→ Loading 'matpower/case300/2017-07-01' …\n",
      "★ case300 2017-07-01 — objective = 23,801,595.29\n",
      "✓ Saved → output_gurobi\\matpower\\case300\\2017-07-01_solution.npz\n",
      "\n",
      "→ Loading 'matpower/case300/2017-07-02' …\n",
      "★ case300 2017-07-02 — objective = 23,700,951.47\n",
      "✓ Saved → output_gurobi\\matpower\\case300\\2017-07-02_solution.npz\n",
      "\n",
      "→ Loading 'matpower/case300/2017-07-03' …\n",
      "★ case300 2017-07-03 — objective = 21,974,396.79\n",
      "✓ Saved → output_gurobi\\matpower\\case300\\2017-07-03_solution.npz\n",
      "\n",
      "→ Loading 'matpower/case300/2017-07-04' …\n",
      "★ case300 2017-07-04 — objective = 20,837,646.14\n",
      "✓ Saved → output_gurobi\\matpower\\case300\\2017-07-04_solution.npz\n",
      "\n",
      "→ Loading 'matpower/case300/2017-07-05' …\n",
      "★ case300 2017-07-05 — objective = 21,578,365.64\n",
      "✓ Saved → output_gurobi\\matpower\\case300\\2017-07-05_solution.npz\n",
      "\n",
      "→ Loading 'matpower/case300/2017-07-06' …\n",
      "★ case300 2017-07-06 — objective = 20,909,880.17\n",
      "✓ Saved → output_gurobi\\matpower\\case300\\2017-07-06_solution.npz\n",
      "\n",
      "→ Loading 'matpower/case300/2017-07-07' …\n",
      "★ case300 2017-07-07 — objective = 23,494,103.75\n",
      "✓ Saved → output_gurobi\\matpower\\case300\\2017-07-07_solution.npz\n",
      "\n",
      "→ Loading 'matpower/case300/2017-07-08' …\n",
      "★ case300 2017-07-08 — objective = 21,772,561.50\n",
      "✓ Saved → output_gurobi\\matpower\\case300\\2017-07-08_solution.npz\n",
      "\n",
      "→ Loading 'matpower/case300/2017-07-09' …\n",
      "★ case300 2017-07-09 — objective = 17,131,627.28\n",
      "✓ Saved → output_gurobi\\matpower\\case300\\2017-07-09_solution.npz\n",
      "\n",
      "→ Loading 'matpower/case300/2017-07-10' …\n",
      "★ case300 2017-07-10 — objective = 24,499,028.73\n",
      "✓ Saved → output_gurobi\\matpower\\case300\\2017-07-10_solution.npz\n",
      "\n",
      "→ Loading 'matpower/case300/2017-07-11' …\n",
      "★ case300 2017-07-11 — objective = 28,469,705.88\n",
      "✓ Saved → output_gurobi\\matpower\\case300\\2017-07-11_solution.npz\n",
      "\n",
      "→ Loading 'matpower/case300/2017-07-12' …\n",
      "★ case300 2017-07-12 — objective = 30,775,235.47\n",
      "✓ Saved → output_gurobi\\matpower\\case300\\2017-07-12_solution.npz\n",
      "\n",
      "→ Loading 'matpower/case300/2017-07-13' …\n",
      "★ case300 2017-07-13 — objective = 31,422,426.87\n",
      "✓ Saved → output_gurobi\\matpower\\case300\\2017-07-13_solution.npz\n",
      "\n",
      "→ Loading 'matpower/case300/2017-07-14' …\n",
      "★ case300 2017-07-14 — objective = 25,149,095.85\n",
      "✓ Saved → output_gurobi\\matpower\\case300\\2017-07-14_solution.npz\n",
      "\n",
      "→ Loading 'matpower/case300/2017-07-15' …\n",
      "★ case300 2017-07-15 — objective = 19,533,711.04\n",
      "✓ Saved → output_gurobi\\matpower\\case300\\2017-07-15_solution.npz\n",
      "\n",
      "→ Loading 'matpower/case300/2017-07-16' …\n",
      "★ case300 2017-07-16 — objective = 18,303,952.27\n",
      "✓ Saved → output_gurobi\\matpower\\case300\\2017-07-16_solution.npz\n",
      "\n",
      "→ Loading 'matpower/case300/2017-07-17' …\n",
      "★ case300 2017-07-17 — objective = 25,295,383.65\n",
      "✓ Saved → output_gurobi\\matpower\\case300\\2017-07-17_solution.npz\n",
      "\n",
      "→ Loading 'matpower/case300/2017-07-18' …\n",
      "★ case300 2017-07-18 — objective = 26,752,142.03\n",
      "✓ Saved → output_gurobi\\matpower\\case300\\2017-07-18_solution.npz\n",
      "\n",
      "→ Loading 'matpower/case300/2017-07-19' …\n",
      "★ case300 2017-07-19 — objective = 23,881,409.54\n",
      "✓ Saved → output_gurobi\\matpower\\case300\\2017-07-19_solution.npz\n",
      "\n",
      "→ Loading 'matpower/case300/2017-07-20' …\n",
      "★ case300 2017-07-20 — objective = 32,264,315.23\n",
      "✓ Saved → output_gurobi\\matpower\\case300\\2017-07-20_solution.npz\n",
      "\n",
      "→ Loading 'matpower/case300/2017-07-21' …\n",
      "★ case300 2017-07-21 — objective = 30,139,219.02\n",
      "✓ Saved → output_gurobi\\matpower\\case300\\2017-07-21_solution.npz\n",
      "\n",
      "→ Loading 'matpower/case300/2017-07-22' …\n",
      "★ case300 2017-07-22 — objective = 26,205,796.87\n",
      "✓ Saved → output_gurobi\\matpower\\case300\\2017-07-22_solution.npz\n",
      "\n",
      "→ Loading 'matpower/case300/2017-07-23' …\n",
      "★ case300 2017-07-23 — objective = 20,453,373.52\n",
      "✓ Saved → output_gurobi\\matpower\\case300\\2017-07-23_solution.npz\n",
      "\n",
      "→ Loading 'matpower/case300/2017-07-24' …\n",
      "★ case300 2017-07-24 — objective = 20,672,970.92\n",
      "✓ Saved → output_gurobi\\matpower\\case300\\2017-07-24_solution.npz\n",
      "\n",
      "→ Loading 'matpower/case300/2017-07-25' …\n",
      "★ case300 2017-07-25 — objective = 17,236,380.71\n",
      "✓ Saved → output_gurobi\\matpower\\case300\\2017-07-25_solution.npz\n",
      "\n",
      "→ Loading 'matpower/case300/2017-07-26' …\n",
      "★ case300 2017-07-26 — objective = 16,842,419.91\n",
      "✓ Saved → output_gurobi\\matpower\\case300\\2017-07-26_solution.npz\n",
      "\n",
      "→ Loading 'matpower/case300/2017-07-27' …\n",
      "★ case300 2017-07-27 — objective = 19,077,531.50\n",
      "✓ Saved → output_gurobi\\matpower\\case300\\2017-07-27_solution.npz\n",
      "\n",
      "→ Loading 'matpower/case300/2017-07-28' …\n",
      "★ case300 2017-07-28 — objective = 17,976,013.09\n",
      "✓ Saved → output_gurobi\\matpower\\case300\\2017-07-28_solution.npz\n",
      "\n",
      "→ Loading 'matpower/case300/2017-07-29' …\n",
      "★ case300 2017-07-29 — objective = 13,709,139.25\n",
      "✓ Saved → output_gurobi\\matpower\\case300\\2017-07-29_solution.npz\n",
      "\n",
      "→ Loading 'matpower/case300/2017-07-30' …\n",
      "★ case300 2017-07-30 — objective = 16,099,455.31\n",
      "✓ Saved → output_gurobi\\matpower\\case300\\2017-07-30_solution.npz\n",
      "\n",
      "→ Loading 'matpower/case300/2017-07-31' …\n",
      "★ case300 2017-07-31 — objective = 21,604,875.03\n",
      "✓ Saved → output_gurobi\\matpower\\case300\\2017-07-31_solution.npz\n",
      "\n",
      "→ Loading 'matpower/case300/2017-08-01' …\n",
      "★ case300 2017-08-01 — objective = 26,402,773.21\n",
      "✓ Saved → output_gurobi\\matpower\\case300\\2017-08-01_solution.npz\n",
      "\n",
      "→ Loading 'matpower/case300/2017-08-02' …\n",
      "★ case300 2017-08-02 — objective = 27,411,387.00\n",
      "✓ Saved → output_gurobi\\matpower\\case300\\2017-08-02_solution.npz\n",
      "\n",
      "→ Loading 'matpower/case300/2017-08-03' …\n",
      "★ case300 2017-08-03 — objective = 26,749,644.44\n",
      "✓ Saved → output_gurobi\\matpower\\case300\\2017-08-03_solution.npz\n",
      "\n",
      "→ Loading 'matpower/case300/2017-08-04' …\n",
      "★ case300 2017-08-04 — objective = 9,386,309.52\n",
      "✓ Saved → output_gurobi\\matpower\\case300\\2017-08-04_solution.npz\n",
      "\n",
      "→ Loading 'matpower/case300/2017-08-05' …\n",
      "★ case300 2017-08-05 — objective = 6,709,928.40\n",
      "✓ Saved → output_gurobi\\matpower\\case300\\2017-08-05_solution.npz\n",
      "\n",
      "→ Loading 'matpower/case300/2017-08-06' …\n",
      "★ case300 2017-08-06 — objective = 6,639,853.19\n",
      "✓ Saved → output_gurobi\\matpower\\case300\\2017-08-06_solution.npz\n",
      "\n",
      "→ Loading 'matpower/case300/2017-08-07' …\n",
      "★ case300 2017-08-07 — objective = 7,545,954.04\n",
      "✓ Saved → output_gurobi\\matpower\\case300\\2017-08-07_solution.npz\n",
      "\n",
      "→ Loading 'matpower/case300/2017-08-08' …\n",
      "★ case300 2017-08-08 — objective = 7,201,596.98\n",
      "✓ Saved → output_gurobi\\matpower\\case300\\2017-08-08_solution.npz\n",
      "\n",
      "→ Loading 'matpower/case300/2017-08-09' …\n",
      "★ case300 2017-08-09 — objective = 7,443,794.63\n",
      "✓ Saved → output_gurobi\\matpower\\case300\\2017-08-09_solution.npz\n",
      "\n",
      "→ Loading 'matpower/case300/2017-08-10' …\n",
      "★ case300 2017-08-10 — objective = 8,119,604.06\n",
      "✓ Saved → output_gurobi\\matpower\\case300\\2017-08-10_solution.npz\n",
      "\n",
      "→ Loading 'matpower/case300/2017-08-11' …\n",
      "★ case300 2017-08-11 — objective = 7,832,776.41\n",
      "✓ Saved → output_gurobi\\matpower\\case300\\2017-08-11_solution.npz\n",
      "\n",
      "→ Loading 'matpower/case300/2017-08-12' …\n",
      "★ case300 2017-08-12 — objective = 7,000,220.59\n",
      "✓ Saved → output_gurobi\\matpower\\case300\\2017-08-12_solution.npz\n",
      "\n",
      "→ Loading 'matpower/case300/2017-08-13' …\n",
      "★ case300 2017-08-13 — objective = 7,560,871.59\n",
      "✓ Saved → output_gurobi\\matpower\\case300\\2017-08-13_solution.npz\n",
      "\n",
      "→ Loading 'matpower/case300/2017-08-14' …\n",
      "★ case300 2017-08-14 — objective = 9,079,029.39\n",
      "✓ Saved → output_gurobi\\matpower\\case300\\2017-08-14_solution.npz\n",
      "\n",
      "→ Loading 'matpower/case300/2017-08-15' …\n",
      "★ case300 2017-08-15 — objective = 9,806,742.34\n",
      "✓ Saved → output_gurobi\\matpower\\case300\\2017-08-15_solution.npz\n",
      "\n",
      "→ Loading 'matpower/case300/2017-08-16' …\n"
     ]
    },
    {
     "name": "stderr",
     "output_type": "stream",
     "text": [
      "100%|██████████| 53.4k/53.4k [00:00<00:00, 98.0kB/s]\n"
     ]
    },
    {
     "name": "stdout",
     "output_type": "stream",
     "text": [
      "★ case300 2017-08-16 — objective = 10,060,560.45\n",
      "✓ Saved → output_gurobi\\matpower\\case300\\2017-08-16_solution.npz\n",
      "\n",
      "→ Loading 'matpower/case300/2017-08-17' …\n"
     ]
    },
    {
     "name": "stderr",
     "output_type": "stream",
     "text": [
      "100%|██████████| 53.3k/53.3k [00:00<00:00, 97.6kB/s]\n"
     ]
    },
    {
     "name": "stdout",
     "output_type": "stream",
     "text": [
      "★ case300 2017-08-17 — objective = 10,007,323.31\n",
      "✓ Saved → output_gurobi\\matpower\\case300\\2017-08-17_solution.npz\n",
      "\n",
      "→ Loading 'matpower/case300/2017-08-18' …\n"
     ]
    },
    {
     "name": "stderr",
     "output_type": "stream",
     "text": [
      "100%|██████████| 53.3k/53.3k [00:00<00:00, 98.6kB/s]\n"
     ]
    },
    {
     "name": "stdout",
     "output_type": "stream",
     "text": [
      "★ case300 2017-08-18 — objective = 10,501,492.27\n",
      "✓ Saved → output_gurobi\\matpower\\case300\\2017-08-18_solution.npz\n",
      "\n",
      "→ Loading 'matpower/case300/2017-08-19' …\n"
     ]
    },
    {
     "name": "stderr",
     "output_type": "stream",
     "text": [
      "100%|██████████| 53.2k/53.2k [00:00<00:00, 98.5kB/s]\n"
     ]
    },
    {
     "name": "stdout",
     "output_type": "stream",
     "text": [
      "★ case300 2017-08-19 — objective = 9,749,001.67\n",
      "✓ Saved → output_gurobi\\matpower\\case300\\2017-08-19_solution.npz\n",
      "\n",
      "→ Loading 'matpower/case300/2017-08-20' …\n"
     ]
    },
    {
     "name": "stderr",
     "output_type": "stream",
     "text": [
      "100%|██████████| 53.2k/53.2k [00:00<00:00, 97.5kB/s]\n"
     ]
    },
    {
     "name": "stdout",
     "output_type": "stream",
     "text": [
      "★ case300 2017-08-20 — objective = 9,082,583.13\n",
      "✓ Saved → output_gurobi\\matpower\\case300\\2017-08-20_solution.npz\n",
      "\n",
      "→ Loading 'matpower/case300/2017-08-21' …\n",
      "★ case300 2017-08-21 — objective = 10,336,816.46\n",
      "✓ Saved → output_gurobi\\matpower\\case300\\2017-08-21_solution.npz\n",
      "\n",
      "→ Loading 'matpower/case300/2017-08-22' …\n",
      "★ case300 2017-08-22 — objective = 12,054,265.67\n",
      "✓ Saved → output_gurobi\\matpower\\case300\\2017-08-22_solution.npz\n",
      "\n",
      "→ Loading 'matpower/case300/2017-08-23' …\n",
      "★ case300 2017-08-23 — objective = 8,728,927.53\n",
      "✓ Saved → output_gurobi\\matpower\\case300\\2017-08-23_solution.npz\n",
      "\n",
      "→ Loading 'matpower/case300/2017-08-24' …\n",
      "★ case300 2017-08-24 — objective = 7,553,969.46\n",
      "✓ Saved → output_gurobi\\matpower\\case300\\2017-08-24_solution.npz\n",
      "\n",
      "→ Loading 'matpower/case300/2017-08-25' …\n",
      "★ case300 2017-08-25 — objective = 6,812,200.91\n",
      "✓ Saved → output_gurobi\\matpower\\case300\\2017-08-25_solution.npz\n",
      "\n",
      "→ Loading 'matpower/case300/2017-08-26' …\n",
      "★ case300 2017-08-26 — objective = 5,651,158.36\n",
      "✓ Saved → output_gurobi\\matpower\\case300\\2017-08-26_solution.npz\n",
      "\n",
      "→ Loading 'matpower/case300/2017-08-27' …\n",
      "★ case300 2017-08-27 — objective = 6,198,797.73\n",
      "✓ Saved → output_gurobi\\matpower\\case300\\2017-08-27_solution.npz\n",
      "\n",
      "→ Loading 'matpower/case300/2017-08-28' …\n",
      "★ case300 2017-08-28 — objective = 6,950,894.51\n",
      "✓ Saved → output_gurobi\\matpower\\case300\\2017-08-28_solution.npz\n",
      "\n",
      "→ Loading 'matpower/case300/2017-08-29' …\n",
      "★ case300 2017-08-29 — objective = 6,832,466.53\n",
      "✓ Saved → output_gurobi\\matpower\\case300\\2017-08-29_solution.npz\n",
      "\n",
      "→ Loading 'matpower/case300/2017-08-30' …\n",
      "★ case300 2017-08-30 — objective = 7,121,623.36\n",
      "✓ Saved → output_gurobi\\matpower\\case300\\2017-08-30_solution.npz\n",
      "\n",
      "→ Loading 'matpower/case300/2017-08-31' …\n"
     ]
    },
    {
     "name": "stderr",
     "output_type": "stream",
     "text": [
      "100%|██████████| 52.9k/52.9k [00:00<00:00, 97.9kB/s]\n"
     ]
    },
    {
     "name": "stdout",
     "output_type": "stream",
     "text": [
      "★ case300 2017-08-31 — objective = 7,379,302.06\n",
      "✓ Saved → output_gurobi\\matpower\\case300\\2017-08-31_solution.npz\n",
      "\n",
      "→ Loading 'matpower/case300/2017-09-01' …\n",
      "★ case300 2017-09-01 — objective = 5,981,544.52\n",
      "✓ Saved → output_gurobi\\matpower\\case300\\2017-09-01_solution.npz\n",
      "\n",
      "→ Loading 'matpower/case300/2017-09-02' …\n",
      "★ case300 2017-09-02 — objective = 4,922,944.65\n",
      "✓ Saved → output_gurobi\\matpower\\case300\\2017-09-02_solution.npz\n",
      "\n",
      "→ Loading 'matpower/case300/2017-09-03' …\n",
      "★ case300 2017-09-03 — objective = 4,863,554.73\n",
      "✓ Saved → output_gurobi\\matpower\\case300\\2017-09-03_solution.npz\n",
      "\n",
      "→ Loading 'matpower/case300/2017-09-04' …\n",
      "✗ Error in case300 2017-09-04: Expecting value: line 1 column 1 (char 0)\n",
      "\n",
      "→ Loading 'matpower/case300/2017-09-05' …\n"
     ]
    },
    {
     "name": "stderr",
     "output_type": "stream",
     "text": [
      "100%|██████████| 53.2k/53.2k [00:00<00:00, 90.5kB/s]\n"
     ]
    },
    {
     "name": "stdout",
     "output_type": "stream",
     "text": [
      "★ case300 2017-09-05 — objective = 8,193,217.81\n",
      "✓ Saved → output_gurobi\\matpower\\case300\\2017-09-05_solution.npz\n",
      "\n",
      "→ Loading 'matpower/case300/2017-09-06' …\n"
     ]
    },
    {
     "name": "stderr",
     "output_type": "stream",
     "text": [
      "100%|██████████| 51.8k/51.8k [00:00<00:00, 90.8kB/s]\n"
     ]
    },
    {
     "name": "stdout",
     "output_type": "stream",
     "text": [
      "★ case300 2017-09-06 — objective = 6,482,122.39\n",
      "✓ Saved → output_gurobi\\matpower\\case300\\2017-09-06_solution.npz\n",
      "\n",
      "→ Loading 'matpower/case300/2017-09-07' …\n"
     ]
    },
    {
     "name": "stderr",
     "output_type": "stream",
     "text": [
      "100%|██████████| 52.6k/52.6k [00:00<00:00, 80.4kB/s]\n"
     ]
    },
    {
     "name": "stdout",
     "output_type": "stream",
     "text": [
      "★ case300 2017-09-07 — objective = 5,930,242.08\n",
      "✓ Saved → output_gurobi\\matpower\\case300\\2017-09-07_solution.npz\n",
      "\n",
      "→ Loading 'matpower/case300/2017-09-08' …\n"
     ]
    },
    {
     "name": "stderr",
     "output_type": "stream",
     "text": [
      "100%|██████████| 52.4k/52.4k [00:00<00:00, 96.0kB/s]\n"
     ]
    },
    {
     "name": "stdout",
     "output_type": "stream",
     "text": [
      "★ case300 2017-09-08 — objective = 5,562,367.62\n",
      "✓ Saved → output_gurobi\\matpower\\case300\\2017-09-08_solution.npz\n",
      "\n",
      "→ Loading 'matpower/case300/2017-09-09' …\n"
     ]
    },
    {
     "name": "stderr",
     "output_type": "stream",
     "text": [
      "100%|██████████| 52.0k/52.0k [00:00<00:00, 96.3kB/s]\n"
     ]
    },
    {
     "name": "stdout",
     "output_type": "stream",
     "text": [
      "★ case300 2017-09-09 — objective = 4,664,729.54\n",
      "✓ Saved → output_gurobi\\matpower\\case300\\2017-09-09_solution.npz\n",
      "\n",
      "→ Loading 'matpower/case300/2017-09-10' …\n"
     ]
    },
    {
     "name": "stderr",
     "output_type": "stream",
     "text": [
      "100%|██████████| 52.6k/52.6k [00:00<00:00, 96.9kB/s]\n"
     ]
    },
    {
     "name": "stdout",
     "output_type": "stream",
     "text": [
      "★ case300 2017-09-10 — objective = 4,854,883.88\n",
      "✓ Saved → output_gurobi\\matpower\\case300\\2017-09-10_solution.npz\n",
      "\n",
      "→ Loading 'matpower/case300/2017-09-11' …\n"
     ]
    },
    {
     "name": "stderr",
     "output_type": "stream",
     "text": [
      "100%|██████████| 52.5k/52.5k [00:00<00:00, 80.5kB/s]\n"
     ]
    },
    {
     "name": "stdout",
     "output_type": "stream",
     "text": [
      "★ case300 2017-09-11 — objective = 5,695,681.67\n",
      "✓ Saved → output_gurobi\\matpower\\case300\\2017-09-11_solution.npz\n",
      "\n",
      "→ Loading 'matpower/case300/2017-09-12' …\n"
     ]
    },
    {
     "name": "stderr",
     "output_type": "stream",
     "text": [
      "100%|██████████| 52.8k/52.8k [00:00<00:00, 98.1kB/s]\n"
     ]
    },
    {
     "name": "stdout",
     "output_type": "stream",
     "text": [
      "★ case300 2017-09-12 — objective = 5,789,745.15\n",
      "✓ Saved → output_gurobi\\matpower\\case300\\2017-09-12_solution.npz\n",
      "\n",
      "→ Loading 'matpower/case300/2017-09-13' …\n"
     ]
    },
    {
     "name": "stderr",
     "output_type": "stream",
     "text": [
      "100%|██████████| 52.6k/52.6k [00:00<00:00, 96.7kB/s]\n"
     ]
    },
    {
     "name": "stdout",
     "output_type": "stream",
     "text": [
      "★ case300 2017-09-13 — objective = 7,026,267.18\n",
      "✓ Saved → output_gurobi\\matpower\\case300\\2017-09-13_solution.npz\n",
      "\n",
      "→ Loading 'matpower/case300/2017-09-14' …\n"
     ]
    },
    {
     "name": "stderr",
     "output_type": "stream",
     "text": [
      "100%|██████████| 52.8k/52.8k [00:00<00:00, 96.1kB/s]\n"
     ]
    },
    {
     "name": "stdout",
     "output_type": "stream",
     "text": [
      "★ case300 2017-09-14 — objective = 7,575,493.12\n",
      "✓ Saved → output_gurobi\\matpower\\case300\\2017-09-14_solution.npz\n",
      "\n",
      "→ Loading 'matpower/case300/2017-09-15' …\n"
     ]
    },
    {
     "name": "stderr",
     "output_type": "stream",
     "text": [
      "100%|██████████| 52.9k/52.9k [00:00<00:00, 97.8kB/s]\n"
     ]
    },
    {
     "name": "stdout",
     "output_type": "stream",
     "text": [
      "★ case300 2017-09-15 — objective = 7,703,122.47\n",
      "✓ Saved → output_gurobi\\matpower\\case300\\2017-09-15_solution.npz\n",
      "\n",
      "→ Loading 'matpower/case300/2017-09-16' …\n"
     ]
    },
    {
     "name": "stderr",
     "output_type": "stream",
     "text": [
      "100%|██████████| 52.8k/52.8k [00:00<00:00, 96.8kB/s]\n"
     ]
    },
    {
     "name": "stdout",
     "output_type": "stream",
     "text": [
      "★ case300 2017-09-16 — objective = 6,852,649.64\n",
      "✓ Saved → output_gurobi\\matpower\\case300\\2017-09-16_solution.npz\n",
      "\n",
      "→ Loading 'matpower/case300/2017-09-17' …\n"
     ]
    },
    {
     "name": "stderr",
     "output_type": "stream",
     "text": [
      "100%|██████████| 52.8k/52.8k [00:00<00:00, 81.9kB/s]\n"
     ]
    },
    {
     "name": "stdout",
     "output_type": "stream",
     "text": [
      "★ case300 2017-09-17 — objective = 7,002,988.72\n",
      "✓ Saved → output_gurobi\\matpower\\case300\\2017-09-17_solution.npz\n",
      "\n",
      "→ Loading 'matpower/case300/2017-09-18' …\n"
     ]
    },
    {
     "name": "stderr",
     "output_type": "stream",
     "text": [
      "100%|██████████| 53.0k/53.0k [00:00<00:00, 97.6kB/s]\n"
     ]
    },
    {
     "name": "stdout",
     "output_type": "stream",
     "text": [
      "★ case300 2017-09-18 — objective = 7,613,668.56\n",
      "✓ Saved → output_gurobi\\matpower\\case300\\2017-09-18_solution.npz\n",
      "\n",
      "→ Loading 'matpower/case300/2017-09-19' …\n"
     ]
    },
    {
     "name": "stderr",
     "output_type": "stream",
     "text": [
      "100%|██████████| 52.9k/52.9k [00:00<00:00, 97.6kB/s]\n"
     ]
    },
    {
     "name": "stdout",
     "output_type": "stream",
     "text": [
      "★ case300 2017-09-19 — objective = 7,543,817.90\n",
      "✓ Saved → output_gurobi\\matpower\\case300\\2017-09-19_solution.npz\n",
      "\n",
      "→ Loading 'matpower/case300/2017-09-20' …\n"
     ]
    },
    {
     "name": "stderr",
     "output_type": "stream",
     "text": [
      "100%|██████████| 52.9k/52.9k [00:00<00:00, 97.4kB/s]\n"
     ]
    },
    {
     "name": "stdout",
     "output_type": "stream",
     "text": [
      "★ case300 2017-09-20 — objective = 8,757,521.49\n",
      "✓ Saved → output_gurobi\\matpower\\case300\\2017-09-20_solution.npz\n",
      "\n",
      "→ Loading 'matpower/case300/2017-09-21' …\n"
     ]
    },
    {
     "name": "stderr",
     "output_type": "stream",
     "text": [
      "100%|██████████| 53.1k/53.1k [00:00<00:00, 82.6kB/s]\n"
     ]
    },
    {
     "name": "stdout",
     "output_type": "stream",
     "text": [
      "★ case300 2017-09-21 — objective = 9,118,446.60\n",
      "✓ Saved → output_gurobi\\matpower\\case300\\2017-09-21_solution.npz\n",
      "\n",
      "→ Loading 'matpower/case300/2017-09-22' …\n"
     ]
    },
    {
     "name": "stderr",
     "output_type": "stream",
     "text": [
      "100%|██████████| 53.0k/53.0k [00:00<00:00, 98.0kB/s]\n"
     ]
    },
    {
     "name": "stdout",
     "output_type": "stream",
     "text": [
      "★ case300 2017-09-22 — objective = 8,677,617.22\n",
      "✓ Saved → output_gurobi\\matpower\\case300\\2017-09-22_solution.npz\n",
      "\n",
      "→ Loading 'matpower/case300/2017-09-23' …\n"
     ]
    },
    {
     "name": "stderr",
     "output_type": "stream",
     "text": [
      "100%|██████████| 53.0k/53.0k [00:00<00:00, 97.9kB/s]\n"
     ]
    },
    {
     "name": "stdout",
     "output_type": "stream",
     "text": [
      "★ case300 2017-09-23 — objective = 8,416,427.09\n",
      "✓ Saved → output_gurobi\\matpower\\case300\\2017-09-23_solution.npz\n",
      "\n",
      "→ Loading 'matpower/case300/2017-09-24' …\n"
     ]
    },
    {
     "name": "stderr",
     "output_type": "stream",
     "text": [
      "100%|██████████| 53.2k/53.2k [00:00<00:00, 98.3kB/s]\n"
     ]
    },
    {
     "name": "stdout",
     "output_type": "stream",
     "text": [
      "★ case300 2017-09-24 — objective = 9,263,477.89\n",
      "✓ Saved → output_gurobi\\matpower\\case300\\2017-09-24_solution.npz\n",
      "\n",
      "→ Loading 'matpower/case300/2017-09-25' …\n"
     ]
    },
    {
     "name": "stderr",
     "output_type": "stream",
     "text": [
      "100%|██████████| 53.2k/53.2k [00:00<00:00, 97.9kB/s]\n"
     ]
    },
    {
     "name": "stdout",
     "output_type": "stream",
     "text": [
      "★ case300 2017-09-25 — objective = 9,105,875.00\n",
      "✓ Saved → output_gurobi\\matpower\\case300\\2017-09-25_solution.npz\n",
      "\n",
      "→ Loading 'matpower/case300/2017-09-26' …\n"
     ]
    },
    {
     "name": "stderr",
     "output_type": "stream",
     "text": [
      "100%|██████████| 53.3k/53.3k [00:00<00:00, 98.6kB/s]\n"
     ]
    },
    {
     "name": "stdout",
     "output_type": "stream",
     "text": [
      "★ case300 2017-09-26 — objective = 8,623,077.75\n",
      "✓ Saved → output_gurobi\\matpower\\case300\\2017-09-26_solution.npz\n",
      "\n",
      "→ Loading 'matpower/case300/2017-09-27' …\n"
     ]
    },
    {
     "name": "stderr",
     "output_type": "stream",
     "text": [
      "100%|██████████| 52.9k/52.9k [00:00<00:00, 93.7kB/s]\n"
     ]
    },
    {
     "name": "stdout",
     "output_type": "stream",
     "text": [
      "★ case300 2017-09-27 — objective = 9,084,105.47\n",
      "✓ Saved → output_gurobi\\matpower\\case300\\2017-09-27_solution.npz\n",
      "\n",
      "→ Loading 'matpower/case300/2017-09-28' …\n"
     ]
    },
    {
     "name": "stderr",
     "output_type": "stream",
     "text": [
      "100%|██████████| 52.9k/52.9k [00:00<00:00, 97.5kB/s]\n"
     ]
    },
    {
     "name": "stdout",
     "output_type": "stream",
     "text": [
      "★ case300 2017-09-28 — objective = 6,978,012.68\n",
      "✓ Saved → output_gurobi\\matpower\\case300\\2017-09-28_solution.npz\n",
      "\n",
      "→ Loading 'matpower/case300/2017-09-29' …\n"
     ]
    },
    {
     "name": "stderr",
     "output_type": "stream",
     "text": [
      "100%|██████████| 52.6k/52.6k [00:00<00:00, 80.6kB/s]\n"
     ]
    },
    {
     "name": "stdout",
     "output_type": "stream",
     "text": [
      "★ case300 2017-09-29 — objective = 5,583,114.87\n",
      "✓ Saved → output_gurobi\\matpower\\case300\\2017-09-29_solution.npz\n",
      "\n",
      "→ Loading 'matpower/case300/2017-09-30' …\n"
     ]
    },
    {
     "name": "stderr",
     "output_type": "stream",
     "text": [
      "100%|██████████| 52.2k/52.2k [00:00<00:00, 96.3kB/s]\n"
     ]
    },
    {
     "name": "stdout",
     "output_type": "stream",
     "text": [
      "★ case300 2017-09-30 — objective = 3,983,397.47\n",
      "✓ Saved → output_gurobi\\matpower\\case300\\2017-09-30_solution.npz\n",
      "\n",
      "→ Loading 'matpower/case300/2017-10-01' …\n"
     ]
    },
    {
     "name": "stderr",
     "output_type": "stream",
     "text": [
      "100%|██████████| 52.4k/52.4k [00:00<00:00, 95.6kB/s]\n"
     ]
    },
    {
     "name": "stdout",
     "output_type": "stream",
     "text": [
      "★ case300 2017-10-01 — objective = 4,237,603.91\n",
      "✓ Saved → output_gurobi\\matpower\\case300\\2017-10-01_solution.npz\n",
      "\n",
      "→ Loading 'matpower/case300/2017-10-02' …\n"
     ]
    },
    {
     "name": "stderr",
     "output_type": "stream",
     "text": [
      "100%|██████████| 52.5k/52.5k [00:00<00:00, 94.7kB/s]\n"
     ]
    },
    {
     "name": "stdout",
     "output_type": "stream",
     "text": [
      "★ case300 2017-10-02 — objective = 5,107,877.38\n",
      "✓ Saved → output_gurobi\\matpower\\case300\\2017-10-02_solution.npz\n",
      "\n",
      "→ Loading 'matpower/case300/2017-10-03' …\n"
     ]
    },
    {
     "name": "stderr",
     "output_type": "stream",
     "text": [
      "100%|██████████| 52.2k/52.2k [00:00<00:00, 90.7kB/s]\n"
     ]
    },
    {
     "name": "stdout",
     "output_type": "stream",
     "text": [
      "★ case300 2017-10-03 — objective = 5,244,791.01\n",
      "✓ Saved → output_gurobi\\matpower\\case300\\2017-10-03_solution.npz\n",
      "\n",
      "→ Loading 'matpower/case300/2017-10-04' …\n"
     ]
    },
    {
     "name": "stderr",
     "output_type": "stream",
     "text": [
      "100%|██████████| 52.5k/52.5k [00:00<00:00, 95.7kB/s]\n"
     ]
    },
    {
     "name": "stdout",
     "output_type": "stream",
     "text": [
      "★ case300 2017-10-04 — objective = 5,526,639.27\n",
      "✓ Saved → output_gurobi\\matpower\\case300\\2017-10-04_solution.npz\n",
      "\n",
      "→ Loading 'matpower/case300/2017-10-05' …\n"
     ]
    },
    {
     "name": "stderr",
     "output_type": "stream",
     "text": [
      "100%|██████████| 52.9k/52.9k [00:00<00:00, 94.2kB/s]\n"
     ]
    },
    {
     "name": "stdout",
     "output_type": "stream",
     "text": [
      "★ case300 2017-10-05 — objective = 6,250,478.15\n",
      "✓ Saved → output_gurobi\\matpower\\case300\\2017-10-05_solution.npz\n",
      "\n",
      "→ Loading 'matpower/case300/2017-10-06' …\n"
     ]
    },
    {
     "name": "stderr",
     "output_type": "stream",
     "text": [
      "100%|██████████| 52.8k/52.8k [00:00<00:00, 97.6kB/s]\n"
     ]
    },
    {
     "name": "stdout",
     "output_type": "stream",
     "text": [
      "★ case300 2017-10-06 — objective = 6,140,188.15\n",
      "✓ Saved → output_gurobi\\matpower\\case300\\2017-10-06_solution.npz\n",
      "\n",
      "→ Loading 'matpower/case300/2017-10-07' …\n"
     ]
    },
    {
     "name": "stderr",
     "output_type": "stream",
     "text": [
      "100%|██████████| 52.9k/52.9k [00:00<00:00, 98.0kB/s]\n"
     ]
    },
    {
     "name": "stdout",
     "output_type": "stream",
     "text": [
      "★ case300 2017-10-07 — objective = 6,204,853.01\n",
      "✓ Saved → output_gurobi\\matpower\\case300\\2017-10-07_solution.npz\n",
      "\n",
      "→ Loading 'matpower/case300/2017-10-08' …\n"
     ]
    },
    {
     "name": "stderr",
     "output_type": "stream",
     "text": [
      "100%|██████████| 52.7k/52.7k [00:00<00:00, 97.6kB/s]\n"
     ]
    },
    {
     "name": "stdout",
     "output_type": "stream",
     "text": [
      "★ case300 2017-10-08 — objective = 6,642,512.98\n",
      "✓ Saved → output_gurobi\\matpower\\case300\\2017-10-08_solution.npz\n",
      "\n",
      "→ Loading 'matpower/case300/2017-10-09' …\n"
     ]
    },
    {
     "name": "stderr",
     "output_type": "stream",
     "text": [
      "100%|██████████| 52.9k/52.9k [00:00<00:00, 89.0kB/s]\n"
     ]
    },
    {
     "name": "stdout",
     "output_type": "stream",
     "text": [
      "★ case300 2017-10-09 — objective = 7,213,278.49\n",
      "✓ Saved → output_gurobi\\matpower\\case300\\2017-10-09_solution.npz\n",
      "\n",
      "→ Loading 'matpower/case300/2017-10-10' …\n"
     ]
    },
    {
     "name": "stderr",
     "output_type": "stream",
     "text": [
      "100%|██████████| 53.0k/53.0k [00:00<00:00, 95.6kB/s]\n"
     ]
    },
    {
     "name": "stdout",
     "output_type": "stream",
     "text": [
      "★ case300 2017-10-10 — objective = 7,371,645.14\n",
      "✓ Saved → output_gurobi\\matpower\\case300\\2017-10-10_solution.npz\n",
      "\n",
      "→ Loading 'matpower/case300/2017-10-11' …\n"
     ]
    },
    {
     "name": "stderr",
     "output_type": "stream",
     "text": [
      "100%|██████████| 52.1k/52.1k [00:00<00:00, 97.0kB/s]\n"
     ]
    },
    {
     "name": "stdout",
     "output_type": "stream",
     "text": [
      "★ case300 2017-10-11 — objective = 6,114,344.96\n",
      "✓ Saved → output_gurobi\\matpower\\case300\\2017-10-11_solution.npz\n",
      "\n",
      "→ Loading 'matpower/case300/2017-10-12' …\n"
     ]
    },
    {
     "name": "stderr",
     "output_type": "stream",
     "text": [
      "100%|██████████| 52.1k/52.1k [00:00<00:00, 96.8kB/s]\n"
     ]
    },
    {
     "name": "stdout",
     "output_type": "stream",
     "text": [
      "★ case300 2017-10-12 — objective = 5,866,201.11\n",
      "✓ Saved → output_gurobi\\matpower\\case300\\2017-10-12_solution.npz\n",
      "\n",
      "→ Loading 'matpower/case300/2017-10-13' …\n"
     ]
    },
    {
     "name": "stderr",
     "output_type": "stream",
     "text": [
      "100%|██████████| 52.3k/52.3k [00:00<00:00, 96.8kB/s]\n"
     ]
    },
    {
     "name": "stdout",
     "output_type": "stream",
     "text": [
      "★ case300 2017-10-13 — objective = 6,511,897.21\n",
      "✓ Saved → output_gurobi\\matpower\\case300\\2017-10-13_solution.npz\n",
      "\n",
      "→ Loading 'matpower/case300/2017-10-14' …\n"
     ]
    },
    {
     "name": "stderr",
     "output_type": "stream",
     "text": [
      "100%|██████████| 52.3k/52.3k [00:00<00:00, 84.1kB/s]\n"
     ]
    },
    {
     "name": "stdout",
     "output_type": "stream",
     "text": [
      "★ case300 2017-10-14 — objective = 6,163,023.83\n",
      "✓ Saved → output_gurobi\\matpower\\case300\\2017-10-14_solution.npz\n",
      "\n",
      "→ Loading 'matpower/case300/2017-10-15' …\n"
     ]
    },
    {
     "name": "stderr",
     "output_type": "stream",
     "text": [
      "100%|██████████| 52.6k/52.6k [00:00<00:00, 86.9kB/s]\n"
     ]
    },
    {
     "name": "stdout",
     "output_type": "stream",
     "text": [
      "★ case300 2017-10-15 — objective = 6,165,939.05\n",
      "✓ Saved → output_gurobi\\matpower\\case300\\2017-10-15_solution.npz\n",
      "\n",
      "→ Loading 'matpower/case300/2017-10-16' …\n"
     ]
    },
    {
     "name": "stderr",
     "output_type": "stream",
     "text": [
      "100%|██████████| 52.4k/52.4k [00:00<00:00, 96.5kB/s]\n"
     ]
    },
    {
     "name": "stdout",
     "output_type": "stream",
     "text": [
      "★ case300 2017-10-16 — objective = 6,183,032.62\n",
      "✓ Saved → output_gurobi\\matpower\\case300\\2017-10-16_solution.npz\n",
      "\n",
      "→ Loading 'matpower/case300/2017-10-17' …\n"
     ]
    },
    {
     "name": "stderr",
     "output_type": "stream",
     "text": [
      "100%|██████████| 52.6k/52.6k [00:00<00:00, 97.8kB/s]\n"
     ]
    },
    {
     "name": "stdout",
     "output_type": "stream",
     "text": [
      "★ case300 2017-10-17 — objective = 6,109,674.38\n",
      "✓ Saved → output_gurobi\\matpower\\case300\\2017-10-17_solution.npz\n",
      "\n",
      "→ Loading 'matpower/case300/2017-10-18' …\n"
     ]
    },
    {
     "name": "stderr",
     "output_type": "stream",
     "text": [
      "100%|██████████| 52.4k/52.4k [00:00<00:00, 96.7kB/s]\n"
     ]
    },
    {
     "name": "stdout",
     "output_type": "stream",
     "text": [
      "★ case300 2017-10-18 — objective = 5,721,755.72\n",
      "✓ Saved → output_gurobi\\matpower\\case300\\2017-10-18_solution.npz\n",
      "\n",
      "→ Loading 'matpower/case300/2017-10-19' …\n"
     ]
    },
    {
     "name": "stderr",
     "output_type": "stream",
     "text": [
      "100%|██████████| 52.1k/52.1k [00:00<00:00, 94.5kB/s]\n"
     ]
    },
    {
     "name": "stdout",
     "output_type": "stream",
     "text": [
      "★ case300 2017-10-19 — objective = 5,438,431.46\n",
      "✓ Saved → output_gurobi\\matpower\\case300\\2017-10-19_solution.npz\n",
      "\n",
      "→ Loading 'matpower/case300/2017-10-20' …\n"
     ]
    },
    {
     "name": "stderr",
     "output_type": "stream",
     "text": [
      "100%|██████████| 52.2k/52.2k [00:00<00:00, 102kB/s]\n"
     ]
    },
    {
     "name": "stdout",
     "output_type": "stream",
     "text": [
      "★ case300 2017-10-20 — objective = 5,044,010.24\n",
      "✓ Saved → output_gurobi\\matpower\\case300\\2017-10-20_solution.npz\n",
      "\n",
      "→ Loading 'matpower/case300/2017-10-21' …\n"
     ]
    },
    {
     "name": "stderr",
     "output_type": "stream",
     "text": [
      "100%|██████████| 52.2k/52.2k [00:00<00:00, 95.2kB/s]\n"
     ]
    },
    {
     "name": "stdout",
     "output_type": "stream",
     "text": [
      "★ case300 2017-10-21 — objective = 4,630,516.19\n",
      "✓ Saved → output_gurobi\\matpower\\case300\\2017-10-21_solution.npz\n",
      "\n",
      "→ Loading 'matpower/case300/2017-10-22' …\n"
     ]
    },
    {
     "name": "stderr",
     "output_type": "stream",
     "text": [
      "100%|██████████| 52.4k/52.4k [00:00<00:00, 102kB/s]\n"
     ]
    },
    {
     "name": "stdout",
     "output_type": "stream",
     "text": [
      "★ case300 2017-10-22 — objective = 4,956,688.33\n",
      "✓ Saved → output_gurobi\\matpower\\case300\\2017-10-22_solution.npz\n",
      "\n",
      "→ Loading 'matpower/case300/2017-10-23' …\n"
     ]
    },
    {
     "name": "stderr",
     "output_type": "stream",
     "text": [
      "100%|██████████| 52.4k/52.4k [00:00<00:00, 89.9kB/s]\n"
     ]
    },
    {
     "name": "stdout",
     "output_type": "stream",
     "text": [
      "★ case300 2017-10-23 — objective = 5,993,644.51\n",
      "✓ Saved → output_gurobi\\matpower\\case300\\2017-10-23_solution.npz\n",
      "\n",
      "→ Loading 'matpower/case300/2017-10-24' …\n"
     ]
    },
    {
     "name": "stderr",
     "output_type": "stream",
     "text": [
      "100%|██████████| 52.4k/52.4k [00:00<00:00, 95.5kB/s]\n"
     ]
    },
    {
     "name": "stdout",
     "output_type": "stream",
     "text": [
      "★ case300 2017-10-24 — objective = 6,853,834.46\n",
      "✓ Saved → output_gurobi\\matpower\\case300\\2017-10-24_solution.npz\n",
      "\n",
      "→ Loading 'matpower/case300/2017-10-25' …\n"
     ]
    },
    {
     "name": "stderr",
     "output_type": "stream",
     "text": [
      "100%|██████████| 52.3k/52.3k [00:00<00:00, 80.1kB/s]\n"
     ]
    },
    {
     "name": "stdout",
     "output_type": "stream",
     "text": [
      "★ case300 2017-10-25 — objective = 6,330,611.72\n",
      "✓ Saved → output_gurobi\\matpower\\case300\\2017-10-25_solution.npz\n",
      "\n",
      "→ Loading 'matpower/case300/2017-10-26' …\n"
     ]
    },
    {
     "name": "stderr",
     "output_type": "stream",
     "text": [
      "100%|██████████| 52.3k/52.3k [00:00<00:00, 96.5kB/s]\n"
     ]
    },
    {
     "name": "stdout",
     "output_type": "stream",
     "text": [
      "★ case300 2017-10-26 — objective = 5,989,984.78\n",
      "✓ Saved → output_gurobi\\matpower\\case300\\2017-10-26_solution.npz\n",
      "\n",
      "→ Loading 'matpower/case300/2017-10-27' …\n"
     ]
    },
    {
     "name": "stderr",
     "output_type": "stream",
     "text": [
      "100%|██████████| 52.2k/52.2k [00:00<00:00, 95.9kB/s]\n"
     ]
    },
    {
     "name": "stdout",
     "output_type": "stream",
     "text": [
      "★ case300 2017-10-27 — objective = 5,633,556.52\n",
      "✓ Saved → output_gurobi\\matpower\\case300\\2017-10-27_solution.npz\n",
      "\n",
      "→ Loading 'matpower/case300/2017-10-28' …\n"
     ]
    },
    {
     "name": "stderr",
     "output_type": "stream",
     "text": [
      "100%|██████████| 52.2k/52.2k [00:00<00:00, 96.3kB/s]\n"
     ]
    },
    {
     "name": "stdout",
     "output_type": "stream",
     "text": [
      "★ case300 2017-10-28 — objective = 4,910,356.36\n",
      "✓ Saved → output_gurobi\\matpower\\case300\\2017-10-28_solution.npz\n",
      "\n",
      "→ Loading 'matpower/case300/2017-10-29' …\n"
     ]
    },
    {
     "name": "stderr",
     "output_type": "stream",
     "text": [
      "100%|██████████| 52.5k/52.5k [00:00<00:00, 89.9kB/s]\n"
     ]
    },
    {
     "name": "stdout",
     "output_type": "stream",
     "text": [
      "★ case300 2017-10-29 — objective = 5,454,552.14\n",
      "✓ Saved → output_gurobi\\matpower\\case300\\2017-10-29_solution.npz\n",
      "\n",
      "→ Loading 'matpower/case300/2017-10-30' …\n"
     ]
    },
    {
     "name": "stderr",
     "output_type": "stream",
     "text": [
      "100%|██████████| 52.5k/52.5k [00:00<00:00, 92.7kB/s]\n"
     ]
    },
    {
     "name": "stdout",
     "output_type": "stream",
     "text": [
      "★ case300 2017-10-30 — objective = 6,513,470.34\n",
      "✓ Saved → output_gurobi\\matpower\\case300\\2017-10-30_solution.npz\n",
      "\n",
      "→ Loading 'matpower/case300/2017-10-31' …\n"
     ]
    },
    {
     "name": "stderr",
     "output_type": "stream",
     "text": [
      "100%|██████████| 52.4k/52.4k [00:00<00:00, 101kB/s]\n"
     ]
    },
    {
     "name": "stdout",
     "output_type": "stream",
     "text": [
      "★ case300 2017-10-31 — objective = 6,515,731.93\n",
      "✓ Saved → output_gurobi\\matpower\\case300\\2017-10-31_solution.npz\n",
      "\n",
      "→ Loading 'matpower/case300/2017-11-01' …\n"
     ]
    },
    {
     "name": "stderr",
     "output_type": "stream",
     "text": [
      "100%|██████████| 52.3k/52.3k [00:00<00:00, 95.5kB/s]\n"
     ]
    },
    {
     "name": "stdout",
     "output_type": "stream",
     "text": [
      "★ case300 2017-11-01 — objective = 6,574,255.89\n",
      "✓ Saved → output_gurobi\\matpower\\case300\\2017-11-01_solution.npz\n",
      "\n",
      "→ Loading 'matpower/case300/2017-11-02' …\n"
     ]
    },
    {
     "name": "stderr",
     "output_type": "stream",
     "text": [
      "100%|██████████| 52.1k/52.1k [00:00<00:00, 101kB/s]\n"
     ]
    },
    {
     "name": "stdout",
     "output_type": "stream",
     "text": [
      "★ case300 2017-11-02 — objective = 6,630,564.28\n",
      "✓ Saved → output_gurobi\\matpower\\case300\\2017-11-02_solution.npz\n",
      "\n",
      "→ Loading 'matpower/case300/2017-11-03' …\n"
     ]
    },
    {
     "name": "stderr",
     "output_type": "stream",
     "text": [
      "100%|██████████| 52.2k/52.2k [00:00<00:00, 82.2kB/s]\n"
     ]
    },
    {
     "name": "stdout",
     "output_type": "stream",
     "text": [
      "★ case300 2017-11-03 — objective = 6,254,412.97\n",
      "✓ Saved → output_gurobi\\matpower\\case300\\2017-11-03_solution.npz\n",
      "\n",
      "→ Loading 'matpower/case300/2017-11-04' …\n"
     ]
    },
    {
     "name": "stderr",
     "output_type": "stream",
     "text": [
      "100%|██████████| 52.4k/52.4k [00:00<00:00, 96.3kB/s]\n"
     ]
    },
    {
     "name": "stdout",
     "output_type": "stream",
     "text": [
      "★ case300 2017-11-04 — objective = 4,897,638.95\n",
      "✓ Saved → output_gurobi\\matpower\\case300\\2017-11-04_solution.npz\n",
      "\n",
      "→ Loading 'matpower/case300/2017-11-05' …\n"
     ]
    },
    {
     "name": "stderr",
     "output_type": "stream",
     "text": [
      "100%|██████████| 52.3k/52.3k [00:00<00:00, 91.3kB/s]\n"
     ]
    },
    {
     "name": "stdout",
     "output_type": "stream",
     "text": [
      "★ case300 2017-11-05 — objective = 5,170,081.45\n",
      "✓ Saved → output_gurobi\\matpower\\case300\\2017-11-05_solution.npz\n",
      "\n",
      "→ Loading 'matpower/case300/2017-11-06' …\n"
     ]
    },
    {
     "name": "stderr",
     "output_type": "stream",
     "text": [
      "100%|██████████| 52.4k/52.4k [00:00<00:00, 96.4kB/s]\n"
     ]
    },
    {
     "name": "stdout",
     "output_type": "stream",
     "text": [
      "★ case300 2017-11-06 — objective = 5,821,290.62\n",
      "✓ Saved → output_gurobi\\matpower\\case300\\2017-11-06_solution.npz\n",
      "\n",
      "→ Loading 'matpower/case300/2017-11-07' …\n"
     ]
    },
    {
     "name": "stderr",
     "output_type": "stream",
     "text": [
      "100%|██████████| 52.1k/52.1k [00:00<00:00, 90.0kB/s]\n"
     ]
    },
    {
     "name": "stdout",
     "output_type": "stream",
     "text": [
      "★ case300 2017-11-07 — objective = 6,327,817.47\n",
      "✓ Saved → output_gurobi\\matpower\\case300\\2017-11-07_solution.npz\n",
      "\n",
      "→ Loading 'matpower/case300/2017-11-08' …\n"
     ]
    },
    {
     "name": "stderr",
     "output_type": "stream",
     "text": [
      "100%|██████████| 52.6k/52.6k [00:00<00:00, 96.9kB/s]\n"
     ]
    },
    {
     "name": "stdout",
     "output_type": "stream",
     "text": [
      "★ case300 2017-11-08 — objective = 7,499,852.79\n",
      "✓ Saved → output_gurobi\\matpower\\case300\\2017-11-08_solution.npz\n",
      "\n",
      "→ Loading 'matpower/case300/2017-11-09' …\n"
     ]
    },
    {
     "name": "stderr",
     "output_type": "stream",
     "text": [
      "100%|██████████| 52.5k/52.5k [00:00<00:00, 96.6kB/s]\n"
     ]
    },
    {
     "name": "stdout",
     "output_type": "stream",
     "text": [
      "★ case300 2017-11-09 — objective = 7,877,511.28\n",
      "✓ Saved → output_gurobi\\matpower\\case300\\2017-11-09_solution.npz\n",
      "\n",
      "→ Loading 'matpower/case300/2017-11-10' …\n"
     ]
    },
    {
     "name": "stderr",
     "output_type": "stream",
     "text": [
      "100%|██████████| 52.6k/52.6k [00:00<00:00, 98.1kB/s]\n"
     ]
    },
    {
     "name": "stdout",
     "output_type": "stream",
     "text": [
      "★ case300 2017-11-10 — objective = 8,611,214.40\n",
      "✓ Saved → output_gurobi\\matpower\\case300\\2017-11-10_solution.npz\n",
      "\n",
      "→ Loading 'matpower/case300/2017-11-11' …\n"
     ]
    },
    {
     "name": "stderr",
     "output_type": "stream",
     "text": [
      "100%|██████████| 52.5k/52.5k [00:00<00:00, 96.8kB/s]\n"
     ]
    },
    {
     "name": "stdout",
     "output_type": "stream",
     "text": [
      "★ case300 2017-11-11 — objective = 7,775,033.93\n",
      "✓ Saved → output_gurobi\\matpower\\case300\\2017-11-11_solution.npz\n",
      "\n",
      "→ Loading 'matpower/case300/2017-11-12' …\n"
     ]
    },
    {
     "name": "stderr",
     "output_type": "stream",
     "text": [
      "100%|██████████| 52.6k/52.6k [00:00<00:00, 96.7kB/s]\n"
     ]
    },
    {
     "name": "stdout",
     "output_type": "stream",
     "text": [
      "★ case300 2017-11-12 — objective = 6,728,985.02\n",
      "✓ Saved → output_gurobi\\matpower\\case300\\2017-11-12_solution.npz\n",
      "\n",
      "→ Loading 'matpower/case300/2017-11-13' …\n"
     ]
    },
    {
     "name": "stderr",
     "output_type": "stream",
     "text": [
      "100%|██████████| 52.7k/52.7k [00:00<00:00, 97.0kB/s]\n"
     ]
    },
    {
     "name": "stdout",
     "output_type": "stream",
     "text": [
      "★ case300 2017-11-13 — objective = 7,622,220.04\n",
      "✓ Saved → output_gurobi\\matpower\\case300\\2017-11-13_solution.npz\n",
      "\n",
      "→ Loading 'matpower/case300/2017-11-14' …\n"
     ]
    },
    {
     "name": "stderr",
     "output_type": "stream",
     "text": [
      "100%|██████████| 52.6k/52.6k [00:00<00:00, 101kB/s]\n"
     ]
    },
    {
     "name": "stdout",
     "output_type": "stream",
     "text": [
      "★ case300 2017-11-14 — objective = 7,465,577.88\n",
      "✓ Saved → output_gurobi\\matpower\\case300\\2017-11-14_solution.npz\n",
      "\n",
      "→ Loading 'matpower/case300/2017-11-15' …\n"
     ]
    },
    {
     "name": "stderr",
     "output_type": "stream",
     "text": [
      "100%|██████████| 52.7k/52.7k [00:00<00:00, 84.8kB/s]\n"
     ]
    },
    {
     "name": "stdout",
     "output_type": "stream",
     "text": [
      "★ case300 2017-11-15 — objective = 6,875,777.22\n",
      "✓ Saved → output_gurobi\\matpower\\case300\\2017-11-15_solution.npz\n",
      "\n",
      "→ Loading 'matpower/case300/2017-11-16' …\n"
     ]
    },
    {
     "name": "stderr",
     "output_type": "stream",
     "text": [
      "100%|██████████| 52.6k/52.6k [00:00<00:00, 95.5kB/s]\n"
     ]
    },
    {
     "name": "stdout",
     "output_type": "stream",
     "text": [
      "★ case300 2017-11-16 — objective = 6,927,566.12\n",
      "✓ Saved → output_gurobi\\matpower\\case300\\2017-11-16_solution.npz\n",
      "\n",
      "→ Loading 'matpower/case300/2017-11-17' …\n"
     ]
    },
    {
     "name": "stderr",
     "output_type": "stream",
     "text": [
      "100%|██████████| 52.8k/52.8k [00:00<00:00, 96.9kB/s]\n"
     ]
    },
    {
     "name": "stdout",
     "output_type": "stream",
     "text": [
      "★ case300 2017-11-17 — objective = 6,918,653.75\n",
      "✓ Saved → output_gurobi\\matpower\\case300\\2017-11-17_solution.npz\n",
      "\n",
      "→ Loading 'matpower/case300/2017-11-18' …\n"
     ]
    },
    {
     "name": "stderr",
     "output_type": "stream",
     "text": [
      "100%|██████████| 52.2k/52.2k [00:00<00:00, 95.9kB/s]\n"
     ]
    },
    {
     "name": "stdout",
     "output_type": "stream",
     "text": [
      "★ case300 2017-11-18 — objective = 5,591,823.64\n",
      "✓ Saved → output_gurobi\\matpower\\case300\\2017-11-18_solution.npz\n",
      "\n",
      "→ Loading 'matpower/case300/2017-11-19' …\n"
     ]
    },
    {
     "name": "stderr",
     "output_type": "stream",
     "text": [
      "100%|██████████| 52.6k/52.6k [00:00<00:00, 91.4kB/s]\n"
     ]
    },
    {
     "name": "stdout",
     "output_type": "stream",
     "text": [
      "★ case300 2017-11-19 — objective = 6,506,292.01\n",
      "✓ Saved → output_gurobi\\matpower\\case300\\2017-11-19_solution.npz\n",
      "\n",
      "→ Loading 'matpower/case300/2017-11-20' …\n"
     ]
    },
    {
     "name": "stderr",
     "output_type": "stream",
     "text": [
      "100%|██████████| 52.8k/52.8k [00:00<00:00, 88.3kB/s]\n"
     ]
    },
    {
     "name": "stdout",
     "output_type": "stream",
     "text": [
      "★ case300 2017-11-20 — objective = 7,745,101.94\n",
      "✓ Saved → output_gurobi\\matpower\\case300\\2017-11-20_solution.npz\n",
      "\n",
      "→ Loading 'matpower/case300/2017-11-21' …\n"
     ]
    },
    {
     "name": "stderr",
     "output_type": "stream",
     "text": [
      "100%|██████████| 52.6k/52.6k [00:00<00:00, 78.8kB/s]\n"
     ]
    },
    {
     "name": "stdout",
     "output_type": "stream",
     "text": [
      "★ case300 2017-11-21 — objective = 6,839,812.30\n",
      "✓ Saved → output_gurobi\\matpower\\case300\\2017-11-21_solution.npz\n",
      "\n",
      "→ Loading 'matpower/case300/2017-11-22' …\n"
     ]
    },
    {
     "name": "stderr",
     "output_type": "stream",
     "text": [
      "100%|██████████| 52.3k/52.3k [00:00<00:00, 93.5kB/s]\n"
     ]
    },
    {
     "name": "stdout",
     "output_type": "stream",
     "text": [
      "★ case300 2017-11-22 — objective = 7,027,909.21\n",
      "✓ Saved → output_gurobi\\matpower\\case300\\2017-11-22_solution.npz\n",
      "\n",
      "→ Loading 'matpower/case300/2017-11-23' …\n"
     ]
    },
    {
     "name": "stderr",
     "output_type": "stream",
     "text": [
      "100%|██████████| 52.4k/52.4k [00:00<00:00, 96.5kB/s]\n"
     ]
    },
    {
     "name": "stdout",
     "output_type": "stream",
     "text": [
      "★ case300 2017-11-23 — objective = 6,911,782.63\n",
      "✓ Saved → output_gurobi\\matpower\\case300\\2017-11-23_solution.npz\n",
      "\n",
      "→ Loading 'matpower/case300/2017-11-24' …\n"
     ]
    },
    {
     "name": "stderr",
     "output_type": "stream",
     "text": [
      "100%|██████████| 52.7k/52.7k [00:00<00:00, 97.2kB/s]\n"
     ]
    },
    {
     "name": "stdout",
     "output_type": "stream",
     "text": [
      "★ case300 2017-11-24 — objective = 6,486,247.73\n",
      "✓ Saved → output_gurobi\\matpower\\case300\\2017-11-24_solution.npz\n",
      "\n",
      "→ Loading 'matpower/case300/2017-11-25' …\n"
     ]
    },
    {
     "name": "stderr",
     "output_type": "stream",
     "text": [
      "100%|██████████| 52.4k/52.4k [00:00<00:00, 100kB/s]\n"
     ]
    },
    {
     "name": "stdout",
     "output_type": "stream",
     "text": [
      "★ case300 2017-11-25 — objective = 5,579,398.68\n",
      "✓ Saved → output_gurobi\\matpower\\case300\\2017-11-25_solution.npz\n",
      "\n",
      "→ Loading 'matpower/case300/2017-11-26' …\n"
     ]
    },
    {
     "name": "stderr",
     "output_type": "stream",
     "text": [
      "100%|██████████| 52.3k/52.3k [00:00<00:00, 97.4kB/s]\n"
     ]
    },
    {
     "name": "stdout",
     "output_type": "stream",
     "text": [
      "★ case300 2017-11-26 — objective = 6,364,554.57\n",
      "✓ Saved → output_gurobi\\matpower\\case300\\2017-11-26_solution.npz\n",
      "\n",
      "→ Loading 'matpower/case300/2017-11-27' …\n"
     ]
    },
    {
     "name": "stderr",
     "output_type": "stream",
     "text": [
      "100%|██████████| 52.7k/52.7k [00:00<00:00, 96.5kB/s]\n"
     ]
    },
    {
     "name": "stdout",
     "output_type": "stream",
     "text": [
      "★ case300 2017-11-27 — objective = 7,603,308.23\n",
      "✓ Saved → output_gurobi\\matpower\\case300\\2017-11-27_solution.npz\n",
      "\n",
      "→ Loading 'matpower/case300/2017-11-28' …\n"
     ]
    },
    {
     "name": "stderr",
     "output_type": "stream",
     "text": [
      "100%|██████████| 52.8k/52.8k [00:00<00:00, 91.9kB/s]\n"
     ]
    },
    {
     "name": "stdout",
     "output_type": "stream",
     "text": [
      "★ case300 2017-11-28 — objective = 6,854,434.96\n",
      "✓ Saved → output_gurobi\\matpower\\case300\\2017-11-28_solution.npz\n",
      "\n",
      "→ Loading 'matpower/case300/2017-11-29' …\n"
     ]
    },
    {
     "name": "stderr",
     "output_type": "stream",
     "text": [
      "100%|██████████| 52.8k/52.8k [00:00<00:00, 97.1kB/s]\n"
     ]
    },
    {
     "name": "stdout",
     "output_type": "stream",
     "text": [
      "★ case300 2017-11-29 — objective = 7,044,083.90\n",
      "✓ Saved → output_gurobi\\matpower\\case300\\2017-11-29_solution.npz\n",
      "\n",
      "→ Loading 'matpower/case300/2017-11-30' …\n"
     ]
    },
    {
     "name": "stderr",
     "output_type": "stream",
     "text": [
      "100%|██████████| 52.7k/52.7k [00:00<00:00, 103kB/s]\n"
     ]
    },
    {
     "name": "stdout",
     "output_type": "stream",
     "text": [
      "★ case300 2017-11-30 — objective = 7,231,796.18\n",
      "✓ Saved → output_gurobi\\matpower\\case300\\2017-11-30_solution.npz\n",
      "\n",
      "→ Loading 'matpower/case300/2017-12-01' …\n"
     ]
    },
    {
     "name": "stderr",
     "output_type": "stream",
     "text": [
      "100%|██████████| 52.5k/52.5k [00:00<00:00, 80.5kB/s]\n"
     ]
    },
    {
     "name": "stdout",
     "output_type": "stream",
     "text": [
      "★ case300 2017-12-01 — objective = 6,683,149.92\n",
      "✓ Saved → output_gurobi\\matpower\\case300\\2017-12-01_solution.npz\n",
      "\n",
      "→ Loading 'matpower/case300/2017-12-02' …\n"
     ]
    },
    {
     "name": "stderr",
     "output_type": "stream",
     "text": [
      "100%|██████████| 52.5k/52.5k [00:00<00:00, 102kB/s]\n"
     ]
    },
    {
     "name": "stdout",
     "output_type": "stream",
     "text": [
      "★ case300 2017-12-02 — objective = 6,212,872.14\n",
      "✓ Saved → output_gurobi\\matpower\\case300\\2017-12-02_solution.npz\n",
      "\n",
      "→ Loading 'matpower/case300/2017-12-03' …\n"
     ]
    },
    {
     "name": "stderr",
     "output_type": "stream",
     "text": [
      "100%|██████████| 52.6k/52.6k [00:00<00:00, 97.7kB/s]\n"
     ]
    },
    {
     "name": "stdout",
     "output_type": "stream",
     "text": [
      "★ case300 2017-12-03 — objective = 6,816,094.93\n",
      "✓ Saved → output_gurobi\\matpower\\case300\\2017-12-03_solution.npz\n",
      "\n",
      "→ Loading 'matpower/case300/2017-12-04' …\n"
     ]
    },
    {
     "name": "stderr",
     "output_type": "stream",
     "text": [
      "100%|██████████| 52.8k/52.8k [00:00<00:00, 100kB/s]\n"
     ]
    },
    {
     "name": "stdout",
     "output_type": "stream",
     "text": [
      "★ case300 2017-12-04 — objective = 7,428,037.93\n",
      "✓ Saved → output_gurobi\\matpower\\case300\\2017-12-04_solution.npz\n",
      "\n",
      "→ Loading 'matpower/case300/2017-12-05' …\n"
     ]
    },
    {
     "name": "stderr",
     "output_type": "stream",
     "text": [
      "100%|██████████| 52.4k/52.4k [00:00<00:00, 84.0kB/s]\n"
     ]
    },
    {
     "name": "stdout",
     "output_type": "stream",
     "text": [
      "★ case300 2017-12-05 — objective = 6,838,430.21\n",
      "✓ Saved → output_gurobi\\matpower\\case300\\2017-12-05_solution.npz\n",
      "\n",
      "→ Loading 'matpower/case300/2017-12-06' …\n"
     ]
    },
    {
     "name": "stderr",
     "output_type": "stream",
     "text": [
      "100%|██████████| 52.6k/52.6k [00:00<00:00, 102kB/s]\n"
     ]
    },
    {
     "name": "stdout",
     "output_type": "stream",
     "text": [
      "★ case300 2017-12-06 — objective = 7,519,835.43\n",
      "✓ Saved → output_gurobi\\matpower\\case300\\2017-12-06_solution.npz\n",
      "\n",
      "→ Loading 'matpower/case300/2017-12-07' …\n"
     ]
    },
    {
     "name": "stderr",
     "output_type": "stream",
     "text": [
      "100%|██████████| 53.0k/53.0k [00:00<00:00, 97.8kB/s]\n"
     ]
    },
    {
     "name": "stdout",
     "output_type": "stream",
     "text": [
      "★ case300 2017-12-07 — objective = 8,720,740.04\n",
      "✓ Saved → output_gurobi\\matpower\\case300\\2017-12-07_solution.npz\n",
      "\n",
      "→ Loading 'matpower/case300/2017-12-08' …\n"
     ]
    },
    {
     "name": "stderr",
     "output_type": "stream",
     "text": [
      "100%|██████████| 52.7k/52.7k [00:00<00:00, 83.9kB/s]\n"
     ]
    },
    {
     "name": "stdout",
     "output_type": "stream",
     "text": [
      "★ case300 2017-12-08 — objective = 9,677,020.63\n",
      "✓ Saved → output_gurobi\\matpower\\case300\\2017-12-08_solution.npz\n",
      "\n",
      "→ Loading 'matpower/case300/2017-12-09' …\n"
     ]
    },
    {
     "name": "stderr",
     "output_type": "stream",
     "text": [
      "100%|██████████| 52.9k/52.9k [00:00<00:00, 97.1kB/s]\n"
     ]
    },
    {
     "name": "stdout",
     "output_type": "stream",
     "text": [
      "★ case300 2017-12-09 — objective = 10,229,755.18\n",
      "✓ Saved → output_gurobi\\matpower\\case300\\2017-12-09_solution.npz\n",
      "\n",
      "→ Loading 'matpower/case300/2017-12-10' …\n"
     ]
    },
    {
     "name": "stderr",
     "output_type": "stream",
     "text": [
      "100%|██████████| 52.7k/52.7k [00:00<00:00, 104kB/s]\n"
     ]
    },
    {
     "name": "stdout",
     "output_type": "stream",
     "text": [
      "★ case300 2017-12-10 — objective = 10,108,681.73\n",
      "✓ Saved → output_gurobi\\matpower\\case300\\2017-12-10_solution.npz\n",
      "\n",
      "→ Loading 'matpower/case300/2017-12-11' …\n"
     ]
    },
    {
     "name": "stderr",
     "output_type": "stream",
     "text": [
      "100%|██████████| 53.1k/53.1k [00:00<00:00, 93.5kB/s]\n"
     ]
    },
    {
     "name": "stdout",
     "output_type": "stream",
     "text": [
      "★ case300 2017-12-11 — objective = 10,743,988.75\n",
      "✓ Saved → output_gurobi\\matpower\\case300\\2017-12-11_solution.npz\n",
      "\n",
      "→ Loading 'matpower/case300/2017-12-12' …\n"
     ]
    },
    {
     "name": "stderr",
     "output_type": "stream",
     "text": [
      "100%|██████████| 53.0k/53.0k [00:00<00:00, 90.1kB/s]\n"
     ]
    },
    {
     "name": "stdout",
     "output_type": "stream",
     "text": [
      "★ case300 2017-12-12 — objective = 11,585,554.76\n",
      "✓ Saved → output_gurobi\\matpower\\case300\\2017-12-12_solution.npz\n",
      "\n",
      "→ Loading 'matpower/case300/2017-12-13' …\n"
     ]
    },
    {
     "name": "stderr",
     "output_type": "stream",
     "text": [
      "100%|██████████| 53.1k/53.1k [00:00<00:00, 84.4kB/s]\n"
     ]
    },
    {
     "name": "stdout",
     "output_type": "stream",
     "text": [
      "★ case300 2017-12-13 — objective = 12,786,780.55\n",
      "✓ Saved → output_gurobi\\matpower\\case300\\2017-12-13_solution.npz\n",
      "\n",
      "→ Loading 'matpower/case300/2017-12-14' …\n"
     ]
    },
    {
     "name": "stderr",
     "output_type": "stream",
     "text": [
      "100%|██████████| 53.1k/53.1k [00:00<00:00, 102kB/s]\n"
     ]
    },
    {
     "name": "stdout",
     "output_type": "stream",
     "text": [
      "★ case300 2017-12-14 — objective = 12,473,951.92\n",
      "✓ Saved → output_gurobi\\matpower\\case300\\2017-12-14_solution.npz\n",
      "\n",
      "→ Loading 'matpower/case300/2017-12-15' …\n"
     ]
    },
    {
     "name": "stderr",
     "output_type": "stream",
     "text": [
      "100%|██████████| 53.1k/53.1k [00:00<00:00, 93.5kB/s]\n"
     ]
    },
    {
     "name": "stdout",
     "output_type": "stream",
     "text": [
      "★ case300 2017-12-15 — objective = 13,336,052.50\n",
      "✓ Saved → output_gurobi\\matpower\\case300\\2017-12-15_solution.npz\n",
      "\n",
      "→ Loading 'matpower/case300/2017-12-16' …\n"
     ]
    },
    {
     "name": "stderr",
     "output_type": "stream",
     "text": [
      "100%|██████████| 52.9k/52.9k [00:00<00:00, 102kB/s]\n"
     ]
    },
    {
     "name": "stdout",
     "output_type": "stream",
     "text": [
      "★ case300 2017-12-16 — objective = 14,495,251.86\n",
      "✓ Saved → output_gurobi\\matpower\\case300\\2017-12-16_solution.npz\n",
      "\n",
      "→ Loading 'matpower/case300/2017-12-17' …\n"
     ]
    },
    {
     "name": "stderr",
     "output_type": "stream",
     "text": [
      "100%|██████████| 52.9k/52.9k [00:00<00:00, 86.6kB/s]\n"
     ]
    },
    {
     "name": "stdout",
     "output_type": "stream",
     "text": [
      "★ case300 2017-12-17 — objective = 12,524,029.08\n",
      "✓ Saved → output_gurobi\\matpower\\case300\\2017-12-17_solution.npz\n",
      "\n",
      "→ Loading 'matpower/case300/2017-12-18' …\n"
     ]
    },
    {
     "name": "stderr",
     "output_type": "stream",
     "text": [
      "100%|██████████| 52.8k/52.8k [00:00<00:00, 103kB/s]\n"
     ]
    },
    {
     "name": "stdout",
     "output_type": "stream",
     "text": [
      "★ case300 2017-12-18 — objective = 9,467,780.56\n",
      "✓ Saved → output_gurobi\\matpower\\case300\\2017-12-18_solution.npz\n",
      "\n",
      "→ Loading 'matpower/case300/2017-12-19' …\n"
     ]
    },
    {
     "name": "stderr",
     "output_type": "stream",
     "text": [
      "100%|██████████| 52.8k/52.8k [00:00<00:00, 92.8kB/s]\n"
     ]
    },
    {
     "name": "stdout",
     "output_type": "stream",
     "text": [
      "★ case300 2017-12-19 — objective = 8,167,039.90\n",
      "✓ Saved → output_gurobi\\matpower\\case300\\2017-12-19_solution.npz\n",
      "\n",
      "→ Loading 'matpower/case300/2017-12-20' …\n"
     ]
    },
    {
     "name": "stderr",
     "output_type": "stream",
     "text": [
      "100%|██████████| 52.8k/52.8k [00:00<00:00, 91.2kB/s]\n"
     ]
    },
    {
     "name": "stdout",
     "output_type": "stream",
     "text": [
      "★ case300 2017-12-20 — objective = 9,899,001.21\n",
      "✓ Saved → output_gurobi\\matpower\\case300\\2017-12-20_solution.npz\n",
      "\n",
      "→ Loading 'matpower/case300/2017-12-21' …\n"
     ]
    },
    {
     "name": "stderr",
     "output_type": "stream",
     "text": [
      "100%|██████████| 52.7k/52.7k [00:00<00:00, 84.0kB/s]\n"
     ]
    },
    {
     "name": "stdout",
     "output_type": "stream",
     "text": [
      "★ case300 2017-12-21 — objective = 10,683,941.20\n",
      "✓ Saved → output_gurobi\\matpower\\case300\\2017-12-21_solution.npz\n",
      "\n",
      "→ Loading 'matpower/case300/2017-12-22' …\n"
     ]
    },
    {
     "name": "stderr",
     "output_type": "stream",
     "text": [
      "100%|██████████| 52.4k/52.4k [00:00<00:00, 93.0kB/s]\n"
     ]
    },
    {
     "name": "stdout",
     "output_type": "stream",
     "text": [
      "★ case300 2017-12-22 — objective = 8,180,317.48\n",
      "✓ Saved → output_gurobi\\matpower\\case300\\2017-12-22_solution.npz\n",
      "\n",
      "→ Loading 'matpower/case300/2017-12-23' …\n"
     ]
    },
    {
     "name": "stderr",
     "output_type": "stream",
     "text": [
      "100%|██████████| 52.4k/52.4k [00:00<00:00, 96.4kB/s]\n"
     ]
    },
    {
     "name": "stdout",
     "output_type": "stream",
     "text": [
      "★ case300 2017-12-23 — objective = 6,989,364.84\n",
      "✓ Saved → output_gurobi\\matpower\\case300\\2017-12-23_solution.npz\n",
      "\n",
      "→ Loading 'matpower/case300/2017-12-24' …\n"
     ]
    },
    {
     "name": "stderr",
     "output_type": "stream",
     "text": [
      "100%|██████████| 52.5k/52.5k [00:00<00:00, 81.9kB/s]\n"
     ]
    },
    {
     "name": "stdout",
     "output_type": "stream",
     "text": [
      "★ case300 2017-12-24 — objective = 7,562,176.49\n",
      "✓ Saved → output_gurobi\\matpower\\case300\\2017-12-24_solution.npz\n",
      "\n",
      "→ Loading 'matpower/case300/2017-12-25' …\n"
     ]
    },
    {
     "name": "stderr",
     "output_type": "stream",
     "text": [
      "100%|██████████| 52.7k/52.7k [00:00<00:00, 96.9kB/s]\n"
     ]
    },
    {
     "name": "stdout",
     "output_type": "stream",
     "text": [
      "★ case300 2017-12-25 — objective = 8,609,836.20\n",
      "✓ Saved → output_gurobi\\matpower\\case300\\2017-12-25_solution.npz\n",
      "\n",
      "→ Loading 'matpower/case300/2017-12-26' …\n"
     ]
    },
    {
     "name": "stderr",
     "output_type": "stream",
     "text": [
      "100%|██████████| 53.1k/53.1k [00:00<00:00, 97.9kB/s]\n"
     ]
    },
    {
     "name": "stdout",
     "output_type": "stream",
     "text": [
      "★ case300 2017-12-26 — objective = 10,947,232.59\n",
      "✓ Saved → output_gurobi\\matpower\\case300\\2017-12-26_solution.npz\n",
      "\n",
      "→ Loading 'matpower/case300/2017-12-27' …\n"
     ]
    },
    {
     "name": "stderr",
     "output_type": "stream",
     "text": [
      "100%|██████████| 53.3k/53.3k [00:00<00:00, 97.2kB/s]\n"
     ]
    },
    {
     "name": "stdout",
     "output_type": "stream",
     "text": [
      "★ case300 2017-12-27 — objective = 13,282,726.87\n",
      "✓ Saved → output_gurobi\\matpower\\case300\\2017-12-27_solution.npz\n",
      "\n",
      "→ Loading 'matpower/case300/2017-12-28' …\n"
     ]
    },
    {
     "name": "stderr",
     "output_type": "stream",
     "text": [
      "100%|██████████| 52.9k/52.9k [00:00<00:00, 102kB/s]\n"
     ]
    },
    {
     "name": "stdout",
     "output_type": "stream",
     "text": [
      "★ case300 2017-12-28 — objective = 14,311,472.83\n",
      "✓ Saved → output_gurobi\\matpower\\case300\\2017-12-28_solution.npz\n",
      "\n",
      "→ Loading 'matpower/case300/2017-12-29' …\n"
     ]
    },
    {
     "name": "stderr",
     "output_type": "stream",
     "text": [
      "100%|██████████| 52.9k/52.9k [00:00<00:00, 80.7kB/s]\n"
     ]
    },
    {
     "name": "stdout",
     "output_type": "stream",
     "text": [
      "★ case300 2017-12-29 — objective = 13,466,081.70\n",
      "✓ Saved → output_gurobi\\matpower\\case300\\2017-12-29_solution.npz\n",
      "\n",
      "→ Loading 'matpower/case300/2017-12-30' …\n"
     ]
    },
    {
     "name": "stderr",
     "output_type": "stream",
     "text": [
      "100%|██████████| 52.8k/52.8k [00:00<00:00, 102kB/s]\n"
     ]
    },
    {
     "name": "stdout",
     "output_type": "stream",
     "text": [
      "★ case300 2017-12-30 — objective = 12,963,925.10\n",
      "✓ Saved → output_gurobi\\matpower\\case300\\2017-12-30_solution.npz\n",
      "\n",
      "→ Loading 'matpower/case300/2017-12-31' …\n"
     ]
    },
    {
     "name": "stderr",
     "output_type": "stream",
     "text": [
      "100%|██████████| 44.5k/44.5k [00:00<00:00, 67.0kB/s]\n"
     ]
    },
    {
     "name": "stdout",
     "output_type": "stream",
     "text": [
      "★ case300 2017-12-31 — objective = 13,686,514.49\n",
      "✓ Saved → output_gurobi\\matpower\\case300\\2017-12-31_solution.npz\n"
     ]
    }
   ],
   "source": [
    "def flatten_sol_dict(d, parent: str = \"\", sep: str = \"/\") -> dict[str, np.ndarray]:\n",
    "    \"\"\"Recursively flatten OrderedDict of lists → dict[str, np.ndarray]\"\"\"\n",
    "    items: dict[str, np.ndarray] = {}\n",
    "    for k, v in d.items():\n",
    "        key = f\"{parent}{sep}{k}\" if parent else k\n",
    "        if isinstance(v, (dict, OrderedDict)):\n",
    "            items.update(flatten_sol_dict(v, key, sep=sep))\n",
    "        else:\n",
    "            items[key] = np.asarray(v)\n",
    "    return items\n",
    "\n",
    "\n",
    "# ---------------------------------------------------------------------------\n",
    "# Configuration\n",
    "# ---------------------------------------------------------------------------\n",
    "cases  = [\"case300\"]\n",
    "year   = 2017\n",
    "start  = date(year, 1, 1)\n",
    "finish = date(year, 12, 31)\n",
    "dates  = [(start + timedelta(days=i)).isoformat()\n",
    "          for i in range((finish - start).days + 1)]\n",
    "\n",
    "objective_summary: dict[str, dict[str, float]] = {}   # case → {date: OF}\n",
    "\n",
    "# ---------------------------------------------------------------------------\n",
    "# Main two-level loop\n",
    "# ---------------------------------------------------------------------------\n",
    "for case in cases:\n",
    "    objective_summary[case] = {}\n",
    "    for d in dates:\n",
    "        sample   = f\"matpower/{case}/{d}\"\n",
    "        in_path  = Path(sample)             # matpower/<case>/<date>\n",
    "        out_dir  = Path(\"output_gurobi\") / in_path.parent\n",
    "        out_dir.mkdir(parents=True, exist_ok=True)\n",
    "\n",
    "        try:\n",
    "            print(f\"\\n→ Loading '{sample}' …\")\n",
    "            inst = read_benchmark(sample, quiet=True)\n",
    "\n",
    "            model = build_model(inst, mip_gap=0.10, verbose=False)\n",
    "            model.optimize()\n",
    "\n",
    "            if model.Status not in (GRB.OPTIMAL, GRB.SUBOPTIMAL):\n",
    "                raise RuntimeError(f\"Gurobi status {model.Status} (no feasible soln)\")\n",
    "\n",
    "            of = float(model.ObjVal)\n",
    "            objective_summary[case][d] = of\n",
    "            print(f\"★ {case} {d} — objective = {of:,.2f}\")\n",
    "\n",
    "            # ---------------- save results ---------------------------------\n",
    "            sol_nested = extract_solution(model)\n",
    "            flat_sol   = flatten_sol_dict(sol_nested)\n",
    "            flat_sol[\"objective_value\"] = np.asarray([of], dtype=float)\n",
    "\n",
    "            out_file = out_dir / f\"{in_path.name}_solution.npz\"   # <date>_solution.npz\n",
    "            np.savez(out_file, **flat_sol)\n",
    "            print(f\"✓ Saved → {out_file}\")\n",
    "\n",
    "        except FileNotFoundError:\n",
    "            print(f\"✗ Instance for {case} on {d} not found — skipped.\")\n",
    "        except Exception as exc:\n",
    "            print(f\"✗ Error in {case} {d}: {exc!s}\")"
   ]
  },
  {
   "cell_type": "code",
   "execution_count": null,
   "id": "dddcdac1",
   "metadata": {},
   "outputs": [],
   "source": []
  }
 ],
 "metadata": {
  "kernelspec": {
   "display_name": "Python 3",
   "language": "python",
   "name": "python3"
  },
  "language_info": {
   "codemirror_mode": {
    "name": "ipython",
    "version": 3
   },
   "file_extension": ".py",
   "mimetype": "text/x-python",
   "name": "python",
   "nbconvert_exporter": "python",
   "pygments_lexer": "ipython3",
   "version": "3.12.10"
  }
 },
 "nbformat": 4,
 "nbformat_minor": 5
}
